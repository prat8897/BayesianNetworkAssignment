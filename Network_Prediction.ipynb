{
 "cells": [
  {
   "cell_type": "code",
   "execution_count": 1,
   "metadata": {},
   "outputs": [],
   "source": [
    "# Install statements\n",
    "# install.packages(c(\"remotes\",\"pROC\",\"naivebayes\"))\n",
    "# remotes::install_github(\"jtextor/bayesianNetworks\")\n",
    "# install.packages(\"bnlearn\")\n",
    "# install.packages(\"dagitty\")\n",
    "# install.packages(\"lavaan\")"
   ]
  },
  {
   "cell_type": "code",
   "execution_count": 2,
   "metadata": {},
   "outputs": [
    {
     "name": "stderr",
     "output_type": "stream",
     "text": [
      "Warning message:\n",
      "\"package 'naivebayes' was built under R version 3.6.3\"naivebayes 0.9.7 loaded\n",
      "Warning message:\n",
      "\"package 'bnlearn' was built under R version 3.6.3\"Warning message:\n",
      "\"package 'dagitty' was built under R version 3.6.3\"\n",
      "Attaching package: 'dagitty'\n",
      "\n",
      "The following objects are masked from 'package:bnlearn':\n",
      "\n",
      "    ancestors, children, descendants, parents, spouses\n",
      "\n",
      "Warning message:\n",
      "\"package 'lavaan' was built under R version 3.6.3\"This is lavaan 0.6-7\n",
      "lavaan is BETA software! Please report any bugs.\n"
     ]
    }
   ],
   "source": [
    "# Packages\n",
    "\n",
    "library( bayesianNetworks )\n",
    "library( naivebayes )\n",
    "library( bnlearn )\n",
    "library( dagitty )\n",
    "library( lavaan )"
   ]
  },
  {
   "cell_type": "code",
   "execution_count": 3,
   "metadata": {},
   "outputs": [
    {
     "data": {
      "text/html": [
       "<table>\n",
       "<thead><tr><th scope=col>Age</th><th scope=col>Gender</th><th scope=col>Education</th><th scope=col>Nscore</th><th scope=col>Escore</th><th scope=col>Oscore</th><th scope=col>Ascore</th><th scope=col>Cscore</th><th scope=col>Impulsive</th><th scope=col>Sensation_seeking</th><th scope=col>Caffeine</th><th scope=col>Cannabis</th><th scope=col>Meth</th></tr></thead>\n",
       "<tbody>\n",
       "\t<tr><td>35-44                            </td><td>0                                </td><td>Professional certificate/ diploma</td><td>39                               </td><td>36                               </td><td>42                               </td><td>37                               </td><td>42                               </td><td>0.1883                           </td><td>0.0700                           </td><td>6                                </td><td>0                                </td><td>0                                </td></tr>\n",
       "\t<tr><td>25-34                            </td><td>1                                </td><td>Doctorate degree                 </td><td>29                               </td><td>52                               </td><td>55                               </td><td>48                               </td><td>41                               </td><td>0.1629                           </td><td>0.1183                           </td><td>6                                </td><td>4                                </td><td>3                                </td></tr>\n",
       "\t<tr><td>35-44                            </td><td>1                                </td><td>Professional certificate/ diploma</td><td>31                               </td><td>45                               </td><td>40                               </td><td>32                               </td><td>34                               </td><td>0.1464                           </td><td>0.1321                           </td><td>6                                </td><td>3                                </td><td>0                                </td></tr>\n",
       "\t<tr><td>18-24                            </td><td>0                                </td><td>Masters degree                   </td><td>34                               </td><td>34                               </td><td>46                               </td><td>47                               </td><td>46                               </td><td>0.1464                           </td><td>0.0700                           </td><td>5                                </td><td>2                                </td><td>0                                </td></tr>\n",
       "\t<tr><td>35-44                            </td><td>0                                </td><td>Doctorate degree                 </td><td>43                               </td><td>28                               </td><td>43                               </td><td>41                               </td><td>50                               </td><td>0.1883                           </td><td>0.1183                           </td><td>6                                </td><td>3                                </td><td>0                                </td></tr>\n",
       "\t<tr><td>65+                              </td><td>0                                </td><td>Left school at 18                </td><td>29                               </td><td>38                               </td><td>35                               </td><td>55                               </td><td>52                               </td><td>0.1464                           </td><td>0.0462                           </td><td>6                                </td><td>0                                </td><td>0                                </td></tr>\n",
       "</tbody>\n",
       "</table>\n"
      ],
      "text/latex": [
       "\\begin{tabular}{r|lllllllllllll}\n",
       " Age & Gender & Education & Nscore & Escore & Oscore & Ascore & Cscore & Impulsive & Sensation\\_seeking & Caffeine & Cannabis & Meth\\\\\n",
       "\\hline\n",
       "\t 35-44                             & 0                                 & Professional certificate/ diploma & 39                                & 36                                & 42                                & 37                                & 42                                & 0.1883                            & 0.0700                            & 6                                 & 0                                 & 0                                \\\\\n",
       "\t 25-34                             & 1                                 & Doctorate degree                  & 29                                & 52                                & 55                                & 48                                & 41                                & 0.1629                            & 0.1183                            & 6                                 & 4                                 & 3                                \\\\\n",
       "\t 35-44                             & 1                                 & Professional certificate/ diploma & 31                                & 45                                & 40                                & 32                                & 34                                & 0.1464                            & 0.1321                            & 6                                 & 3                                 & 0                                \\\\\n",
       "\t 18-24                             & 0                                 & Masters degree                    & 34                                & 34                                & 46                                & 47                                & 46                                & 0.1464                            & 0.0700                            & 5                                 & 2                                 & 0                                \\\\\n",
       "\t 35-44                             & 0                                 & Doctorate degree                  & 43                                & 28                                & 43                                & 41                                & 50                                & 0.1883                            & 0.1183                            & 6                                 & 3                                 & 0                                \\\\\n",
       "\t 65+                               & 0                                 & Left school at 18                 & 29                                & 38                                & 35                                & 55                                & 52                                & 0.1464                            & 0.0462                            & 6                                 & 0                                 & 0                                \\\\\n",
       "\\end{tabular}\n"
      ],
      "text/markdown": [
       "\n",
       "| Age | Gender | Education | Nscore | Escore | Oscore | Ascore | Cscore | Impulsive | Sensation_seeking | Caffeine | Cannabis | Meth |\n",
       "|---|---|---|---|---|---|---|---|---|---|---|---|---|\n",
       "| 35-44                             | 0                                 | Professional certificate/ diploma | 39                                | 36                                | 42                                | 37                                | 42                                | 0.1883                            | 0.0700                            | 6                                 | 0                                 | 0                                 |\n",
       "| 25-34                             | 1                                 | Doctorate degree                  | 29                                | 52                                | 55                                | 48                                | 41                                | 0.1629                            | 0.1183                            | 6                                 | 4                                 | 3                                 |\n",
       "| 35-44                             | 1                                 | Professional certificate/ diploma | 31                                | 45                                | 40                                | 32                                | 34                                | 0.1464                            | 0.1321                            | 6                                 | 3                                 | 0                                 |\n",
       "| 18-24                             | 0                                 | Masters degree                    | 34                                | 34                                | 46                                | 47                                | 46                                | 0.1464                            | 0.0700                            | 5                                 | 2                                 | 0                                 |\n",
       "| 35-44                             | 0                                 | Doctorate degree                  | 43                                | 28                                | 43                                | 41                                | 50                                | 0.1883                            | 0.1183                            | 6                                 | 3                                 | 0                                 |\n",
       "| 65+                               | 0                                 | Left school at 18                 | 29                                | 38                                | 35                                | 55                                | 52                                | 0.1464                            | 0.0462                            | 6                                 | 0                                 | 0                                 |\n",
       "\n"
      ],
      "text/plain": [
       "  Age   Gender Education                         Nscore Escore Oscore Ascore\n",
       "1 35-44 0      Professional certificate/ diploma 39     36     42     37    \n",
       "2 25-34 1      Doctorate degree                  29     52     55     48    \n",
       "3 35-44 1      Professional certificate/ diploma 31     45     40     32    \n",
       "4 18-24 0      Masters degree                    34     34     46     47    \n",
       "5 35-44 0      Doctorate degree                  43     28     43     41    \n",
       "6 65+   0      Left school at 18                 29     38     35     55    \n",
       "  Cscore Impulsive Sensation_seeking Caffeine Cannabis Meth\n",
       "1 42     0.1883    0.0700            6        0        0   \n",
       "2 41     0.1629    0.1183            6        4        3   \n",
       "3 34     0.1464    0.1321            6        3        0   \n",
       "4 46     0.1464    0.0700            5        2        0   \n",
       "5 50     0.1883    0.1183            6        3        0   \n",
       "6 52     0.1464    0.0462            6        0        0   "
      ]
     },
     "metadata": {},
     "output_type": "display_data"
    }
   ],
   "source": [
    "# Read in the .csv that was created during the preprocessing\n",
    "\n",
    "df <- read.csv('Dataset_Numerical_Classes.csv')\n",
    "\n",
    "# Visually inspect the dataframe\n",
    "\n",
    "head(df)"
   ]
  },
  {
   "cell_type": "code",
   "execution_count": 4,
   "metadata": {},
   "outputs": [],
   "source": [
    "# Transforming the non numerical ordinal values to numerical values with ordering\n",
    "\n",
    "# BNLearn wants all data to be a double so we will transform all data to doubles \n",
    "\n",
    "df$Caffeine <- as.double( ordered(df$Caffeine, levels =c(\"0\",\"1\",\"2\",\"3\",\"4\",\"5\",\"6\")))\n",
    "df$Cannabis <- as.double( ordered(df$Cannabis, levels =c(\"0\",\"1\",\"2\",\"3\",\"4\",\"5\",\"6\")))\n",
    "df$Meth <- as.double( ordered(df$Meth, levels =c(\"0\",\"1\",\"2\",\"3\",\"4\",\"5\",\"6\")))\n",
    "df$Age <- as.double( ordered(df$Age, levels =c(\"18-24\",\"25-34\",\"35-44\",\"45-54\",\"55-64\",\"65+\")))\n",
    "df$Education <- as.double( ordered(df$Education, levels=c(\"Left school before 16\",\"Left school at 16\",\"Left school at 17\",\"Left school at 18\",\"College or university dropout\",\"Professional certificate/ diploma\",\"University degree\",\"Masters degree\",\"Doctorate degree\")))"
   ]
  },
  {
   "cell_type": "code",
   "execution_count": 5,
   "metadata": {},
   "outputs": [
    {
     "name": "stdout",
     "output_type": "stream",
     "text": [
      "'data.frame':\t1885 obs. of  13 variables:\n",
      " $ Age              : num  3 2 3 1 3 6 4 3 3 5 ...\n",
      " $ Gender           : num  0 1 1 0 0 0 1 1 0 1 ...\n",
      " $ Education        : num  6 9 6 8 9 4 8 2 6 8 ...\n",
      " $ Nscore           : num  39 29 31 34 43 29 31 24 42 33 ...\n",
      " $ Escore           : num  36 52 45 34 28 38 32 52 55 40 ...\n",
      " $ Oscore           : num  42 55 40 46 43 35 43 40 39 36 ...\n",
      " $ Ascore           : num  37 48 32 47 41 55 41 41 48 47 ...\n",
      " $ Cscore           : num  42 41 34 46 50 52 48 52 49 43 ...\n",
      " $ Impulsive        : num  0.188 0.163 0.146 0.146 0.188 ...\n",
      " $ Sensation_seeking: num  0.07 0.118 0.132 0.07 0.118 ...\n",
      " $ Caffeine         : num  7 7 7 6 7 7 7 7 7 7 ...\n",
      " $ Cannabis         : num  1 5 4 3 4 1 2 1 1 2 ...\n",
      " $ Meth             : num  1 4 1 1 1 1 1 1 1 1 ...\n"
     ]
    }
   ],
   "source": [
    "# BNLearn wants all data to be a double so we will transform all data to doubles \n",
    "\n",
    "df$Gender <- as.double(df$Gender) \n",
    "df$Nscore <- as.double(df$Nscore) \n",
    "df$Escore <- as.double(df$Escore) \n",
    "df$Oscore <- as.double(df$Oscore) \n",
    "df$Ascore <- as.double(df$Ascore) \n",
    "df$Cscore <- as.double(df$Cscore) \n",
    "\n",
    "# Confirm that all variables are succesfully transformed into doubles\n",
    "str(df)"
   ]
  },
  {
   "cell_type": "code",
   "execution_count": 6,
   "metadata": {},
   "outputs": [
    {
     "name": "stdout",
     "output_type": "stream",
     "text": [
      "[1] \"age\"\n"
     ]
    },
    {
     "data": {
      "text/html": [
       "<ol class=list-inline>\n",
       "\t<li>3</li>\n",
       "\t<li>2</li>\n",
       "\t<li>1</li>\n",
       "\t<li>6</li>\n",
       "\t<li>4</li>\n",
       "\t<li>5</li>\n",
       "</ol>\n"
      ],
      "text/latex": [
       "\\begin{enumerate*}\n",
       "\\item 3\n",
       "\\item 2\n",
       "\\item 1\n",
       "\\item 6\n",
       "\\item 4\n",
       "\\item 5\n",
       "\\end{enumerate*}\n"
      ],
      "text/markdown": [
       "1. 3\n",
       "2. 2\n",
       "3. 1\n",
       "4. 6\n",
       "5. 4\n",
       "6. 5\n",
       "\n",
       "\n"
      ],
      "text/plain": [
       "[1] 3 2 1 6 4 5"
      ]
     },
     "metadata": {},
     "output_type": "display_data"
    },
    {
     "name": "stdout",
     "output_type": "stream",
     "text": [
      "[1] \"gender\"\n"
     ]
    },
    {
     "data": {
      "text/html": [
       "<ol class=list-inline>\n",
       "\t<li>0</li>\n",
       "\t<li>1</li>\n",
       "</ol>\n"
      ],
      "text/latex": [
       "\\begin{enumerate*}\n",
       "\\item 0\n",
       "\\item 1\n",
       "\\end{enumerate*}\n"
      ],
      "text/markdown": [
       "1. 0\n",
       "2. 1\n",
       "\n",
       "\n"
      ],
      "text/plain": [
       "[1] 0 1"
      ]
     },
     "metadata": {},
     "output_type": "display_data"
    },
    {
     "name": "stdout",
     "output_type": "stream",
     "text": [
      "[1] \"education\"\n"
     ]
    },
    {
     "data": {
      "text/html": [
       "<ol class=list-inline>\n",
       "\t<li>6</li>\n",
       "\t<li>9</li>\n",
       "\t<li>8</li>\n",
       "\t<li>4</li>\n",
       "\t<li>2</li>\n",
       "\t<li>7</li>\n",
       "\t<li>5</li>\n",
       "\t<li>1</li>\n",
       "\t<li>3</li>\n",
       "</ol>\n"
      ],
      "text/latex": [
       "\\begin{enumerate*}\n",
       "\\item 6\n",
       "\\item 9\n",
       "\\item 8\n",
       "\\item 4\n",
       "\\item 2\n",
       "\\item 7\n",
       "\\item 5\n",
       "\\item 1\n",
       "\\item 3\n",
       "\\end{enumerate*}\n"
      ],
      "text/markdown": [
       "1. 6\n",
       "2. 9\n",
       "3. 8\n",
       "4. 4\n",
       "5. 2\n",
       "6. 7\n",
       "7. 5\n",
       "8. 1\n",
       "9. 3\n",
       "\n",
       "\n"
      ],
      "text/plain": [
       "[1] 6 9 8 4 2 7 5 1 3"
      ]
     },
     "metadata": {},
     "output_type": "display_data"
    },
    {
     "name": "stdout",
     "output_type": "stream",
     "text": [
      "[1] \"Nscore\"\n"
     ]
    },
    {
     "data": {
      "text/html": [
       "<ol class=list-inline>\n",
       "\t<li>39</li>\n",
       "\t<li>29</li>\n",
       "\t<li>31</li>\n",
       "\t<li>34</li>\n",
       "\t<li>43</li>\n",
       "\t<li>24</li>\n",
       "\t<li>42</li>\n",
       "\t<li>33</li>\n",
       "\t<li>26</li>\n",
       "\t<li>56</li>\n",
       "\t<li>28</li>\n",
       "\t<li>27</li>\n",
       "\t<li>19</li>\n",
       "\t<li>22</li>\n",
       "\t<li>41</li>\n",
       "\t<li>49</li>\n",
       "\t<li>32</li>\n",
       "\t<li>25</li>\n",
       "\t<li>40</li>\n",
       "\t<li>51</li>\n",
       "\t<li>35</li>\n",
       "\t<li>36</li>\n",
       "\t<li>46</li>\n",
       "\t<li>44</li>\n",
       "\t<li>37</li>\n",
       "\t<li>47</li>\n",
       "\t<li>23</li>\n",
       "\t<li>30</li>\n",
       "\t<li>38</li>\n",
       "\t<li>18</li>\n",
       "\t<li>45</li>\n",
       "\t<li>17</li>\n",
       "\t<li>53</li>\n",
       "\t<li>50</li>\n",
       "\t<li>60</li>\n",
       "\t<li>21</li>\n",
       "\t<li>54</li>\n",
       "\t<li>59</li>\n",
       "\t<li>48</li>\n",
       "\t<li>20</li>\n",
       "\t<li>55</li>\n",
       "\t<li>16</li>\n",
       "\t<li>57</li>\n",
       "\t<li>52</li>\n",
       "\t<li>58</li>\n",
       "\t<li>14</li>\n",
       "\t<li>15</li>\n",
       "\t<li>13</li>\n",
       "\t<li>12</li>\n",
       "</ol>\n"
      ],
      "text/latex": [
       "\\begin{enumerate*}\n",
       "\\item 39\n",
       "\\item 29\n",
       "\\item 31\n",
       "\\item 34\n",
       "\\item 43\n",
       "\\item 24\n",
       "\\item 42\n",
       "\\item 33\n",
       "\\item 26\n",
       "\\item 56\n",
       "\\item 28\n",
       "\\item 27\n",
       "\\item 19\n",
       "\\item 22\n",
       "\\item 41\n",
       "\\item 49\n",
       "\\item 32\n",
       "\\item 25\n",
       "\\item 40\n",
       "\\item 51\n",
       "\\item 35\n",
       "\\item 36\n",
       "\\item 46\n",
       "\\item 44\n",
       "\\item 37\n",
       "\\item 47\n",
       "\\item 23\n",
       "\\item 30\n",
       "\\item 38\n",
       "\\item 18\n",
       "\\item 45\n",
       "\\item 17\n",
       "\\item 53\n",
       "\\item 50\n",
       "\\item 60\n",
       "\\item 21\n",
       "\\item 54\n",
       "\\item 59\n",
       "\\item 48\n",
       "\\item 20\n",
       "\\item 55\n",
       "\\item 16\n",
       "\\item 57\n",
       "\\item 52\n",
       "\\item 58\n",
       "\\item 14\n",
       "\\item 15\n",
       "\\item 13\n",
       "\\item 12\n",
       "\\end{enumerate*}\n"
      ],
      "text/markdown": [
       "1. 39\n",
       "2. 29\n",
       "3. 31\n",
       "4. 34\n",
       "5. 43\n",
       "6. 24\n",
       "7. 42\n",
       "8. 33\n",
       "9. 26\n",
       "10. 56\n",
       "11. 28\n",
       "12. 27\n",
       "13. 19\n",
       "14. 22\n",
       "15. 41\n",
       "16. 49\n",
       "17. 32\n",
       "18. 25\n",
       "19. 40\n",
       "20. 51\n",
       "21. 35\n",
       "22. 36\n",
       "23. 46\n",
       "24. 44\n",
       "25. 37\n",
       "26. 47\n",
       "27. 23\n",
       "28. 30\n",
       "29. 38\n",
       "30. 18\n",
       "31. 45\n",
       "32. 17\n",
       "33. 53\n",
       "34. 50\n",
       "35. 60\n",
       "36. 21\n",
       "37. 54\n",
       "38. 59\n",
       "39. 48\n",
       "40. 20\n",
       "41. 55\n",
       "42. 16\n",
       "43. 57\n",
       "44. 52\n",
       "45. 58\n",
       "46. 14\n",
       "47. 15\n",
       "48. 13\n",
       "49. 12\n",
       "\n",
       "\n"
      ],
      "text/plain": [
       " [1] 39 29 31 34 43 24 42 33 26 56 28 27 19 22 41 49 32 25 40 51 35 36 46 44 37\n",
       "[26] 47 23 30 38 18 45 17 53 50 60 21 54 59 48 20 55 16 57 52 58 14 15 13 12"
      ]
     },
     "metadata": {},
     "output_type": "display_data"
    },
    {
     "name": "stdout",
     "output_type": "stream",
     "text": [
      "[1] \"Escore\"\n"
     ]
    },
    {
     "data": {
      "text/html": [
       "<ol class=list-inline>\n",
       "\t<li>36</li>\n",
       "\t<li>52</li>\n",
       "\t<li>45</li>\n",
       "\t<li>34</li>\n",
       "\t<li>28</li>\n",
       "\t<li>38</li>\n",
       "\t<li>32</li>\n",
       "\t<li>55</li>\n",
       "\t<li>40</li>\n",
       "\t<li>41</li>\n",
       "\t<li>49</li>\n",
       "\t<li>29</li>\n",
       "\t<li>31</li>\n",
       "\t<li>39</li>\n",
       "\t<li>27</li>\n",
       "\t<li>43</li>\n",
       "\t<li>33</li>\n",
       "\t<li>16</li>\n",
       "\t<li>44</li>\n",
       "\t<li>37</li>\n",
       "\t<li>51</li>\n",
       "\t<li>42</li>\n",
       "\t<li>48</li>\n",
       "\t<li>46</li>\n",
       "\t<li>47</li>\n",
       "\t<li>35</li>\n",
       "\t<li>50</li>\n",
       "\t<li>30</li>\n",
       "\t<li>26</li>\n",
       "\t<li>58</li>\n",
       "\t<li>53</li>\n",
       "\t<li>54</li>\n",
       "\t<li>23</li>\n",
       "\t<li>22</li>\n",
       "\t<li>24</li>\n",
       "\t<li>19</li>\n",
       "\t<li>20</li>\n",
       "\t<li>21</li>\n",
       "\t<li>25</li>\n",
       "\t<li>56</li>\n",
       "\t<li>59</li>\n",
       "\t<li>18</li>\n",
       "</ol>\n"
      ],
      "text/latex": [
       "\\begin{enumerate*}\n",
       "\\item 36\n",
       "\\item 52\n",
       "\\item 45\n",
       "\\item 34\n",
       "\\item 28\n",
       "\\item 38\n",
       "\\item 32\n",
       "\\item 55\n",
       "\\item 40\n",
       "\\item 41\n",
       "\\item 49\n",
       "\\item 29\n",
       "\\item 31\n",
       "\\item 39\n",
       "\\item 27\n",
       "\\item 43\n",
       "\\item 33\n",
       "\\item 16\n",
       "\\item 44\n",
       "\\item 37\n",
       "\\item 51\n",
       "\\item 42\n",
       "\\item 48\n",
       "\\item 46\n",
       "\\item 47\n",
       "\\item 35\n",
       "\\item 50\n",
       "\\item 30\n",
       "\\item 26\n",
       "\\item 58\n",
       "\\item 53\n",
       "\\item 54\n",
       "\\item 23\n",
       "\\item 22\n",
       "\\item 24\n",
       "\\item 19\n",
       "\\item 20\n",
       "\\item 21\n",
       "\\item 25\n",
       "\\item 56\n",
       "\\item 59\n",
       "\\item 18\n",
       "\\end{enumerate*}\n"
      ],
      "text/markdown": [
       "1. 36\n",
       "2. 52\n",
       "3. 45\n",
       "4. 34\n",
       "5. 28\n",
       "6. 38\n",
       "7. 32\n",
       "8. 55\n",
       "9. 40\n",
       "10. 41\n",
       "11. 49\n",
       "12. 29\n",
       "13. 31\n",
       "14. 39\n",
       "15. 27\n",
       "16. 43\n",
       "17. 33\n",
       "18. 16\n",
       "19. 44\n",
       "20. 37\n",
       "21. 51\n",
       "22. 42\n",
       "23. 48\n",
       "24. 46\n",
       "25. 47\n",
       "26. 35\n",
       "27. 50\n",
       "28. 30\n",
       "29. 26\n",
       "30. 58\n",
       "31. 53\n",
       "32. 54\n",
       "33. 23\n",
       "34. 22\n",
       "35. 24\n",
       "36. 19\n",
       "37. 20\n",
       "38. 21\n",
       "39. 25\n",
       "40. 56\n",
       "41. 59\n",
       "42. 18\n",
       "\n",
       "\n"
      ],
      "text/plain": [
       " [1] 36 52 45 34 28 38 32 55 40 41 49 29 31 39 27 43 33 16 44 37 51 42 48 46 47\n",
       "[26] 35 50 30 26 58 53 54 23 22 24 19 20 21 25 56 59 18"
      ]
     },
     "metadata": {},
     "output_type": "display_data"
    },
    {
     "name": "stdout",
     "output_type": "stream",
     "text": [
      "[1] \"Cscore\"\n"
     ]
    },
    {
     "data": {
      "text/html": [
       "<ol class=list-inline>\n",
       "\t<li>42</li>\n",
       "\t<li>41</li>\n",
       "\t<li>34</li>\n",
       "\t<li>46</li>\n",
       "\t<li>50</li>\n",
       "\t<li>52</li>\n",
       "\t<li>48</li>\n",
       "\t<li>49</li>\n",
       "\t<li>43</li>\n",
       "\t<li>53</li>\n",
       "\t<li>38</li>\n",
       "\t<li>36</li>\n",
       "\t<li>59</li>\n",
       "\t<li>47</li>\n",
       "\t<li>31</li>\n",
       "\t<li>30</li>\n",
       "\t<li>33</li>\n",
       "\t<li>35</li>\n",
       "\t<li>51</li>\n",
       "\t<li>25</li>\n",
       "\t<li>37</li>\n",
       "\t<li>45</li>\n",
       "\t<li>39</li>\n",
       "\t<li>44</li>\n",
       "\t<li>27</li>\n",
       "\t<li>40</li>\n",
       "\t<li>29</li>\n",
       "\t<li>54</li>\n",
       "\t<li>55</li>\n",
       "\t<li>32</li>\n",
       "\t<li>56</li>\n",
       "\t<li>20</li>\n",
       "\t<li>28</li>\n",
       "\t<li>26</li>\n",
       "\t<li>22</li>\n",
       "\t<li>24</li>\n",
       "\t<li>23</li>\n",
       "\t<li>19</li>\n",
       "\t<li>17</li>\n",
       "\t<li>21</li>\n",
       "\t<li>57</li>\n",
       "</ol>\n"
      ],
      "text/latex": [
       "\\begin{enumerate*}\n",
       "\\item 42\n",
       "\\item 41\n",
       "\\item 34\n",
       "\\item 46\n",
       "\\item 50\n",
       "\\item 52\n",
       "\\item 48\n",
       "\\item 49\n",
       "\\item 43\n",
       "\\item 53\n",
       "\\item 38\n",
       "\\item 36\n",
       "\\item 59\n",
       "\\item 47\n",
       "\\item 31\n",
       "\\item 30\n",
       "\\item 33\n",
       "\\item 35\n",
       "\\item 51\n",
       "\\item 25\n",
       "\\item 37\n",
       "\\item 45\n",
       "\\item 39\n",
       "\\item 44\n",
       "\\item 27\n",
       "\\item 40\n",
       "\\item 29\n",
       "\\item 54\n",
       "\\item 55\n",
       "\\item 32\n",
       "\\item 56\n",
       "\\item 20\n",
       "\\item 28\n",
       "\\item 26\n",
       "\\item 22\n",
       "\\item 24\n",
       "\\item 23\n",
       "\\item 19\n",
       "\\item 17\n",
       "\\item 21\n",
       "\\item 57\n",
       "\\end{enumerate*}\n"
      ],
      "text/markdown": [
       "1. 42\n",
       "2. 41\n",
       "3. 34\n",
       "4. 46\n",
       "5. 50\n",
       "6. 52\n",
       "7. 48\n",
       "8. 49\n",
       "9. 43\n",
       "10. 53\n",
       "11. 38\n",
       "12. 36\n",
       "13. 59\n",
       "14. 47\n",
       "15. 31\n",
       "16. 30\n",
       "17. 33\n",
       "18. 35\n",
       "19. 51\n",
       "20. 25\n",
       "21. 37\n",
       "22. 45\n",
       "23. 39\n",
       "24. 44\n",
       "25. 27\n",
       "26. 40\n",
       "27. 29\n",
       "28. 54\n",
       "29. 55\n",
       "30. 32\n",
       "31. 56\n",
       "32. 20\n",
       "33. 28\n",
       "34. 26\n",
       "35. 22\n",
       "36. 24\n",
       "37. 23\n",
       "38. 19\n",
       "39. 17\n",
       "40. 21\n",
       "41. 57\n",
       "\n",
       "\n"
      ],
      "text/plain": [
       " [1] 42 41 34 46 50 52 48 49 43 53 38 36 59 47 31 30 33 35 51 25 37 45 39 44 27\n",
       "[26] 40 29 54 55 32 56 20 28 26 22 24 23 19 17 21 57"
      ]
     },
     "metadata": {},
     "output_type": "display_data"
    },
    {
     "name": "stdout",
     "output_type": "stream",
     "text": [
      "[1] \"Impulsive\"\n"
     ]
    },
    {
     "data": {
      "text/html": [
       "<ol class=list-inline>\n",
       "\t<li>0.1883</li>\n",
       "\t<li>0.1629</li>\n",
       "\t<li>0.1464</li>\n",
       "\t<li>0.1363</li>\n",
       "\t<li>0.1146</li>\n",
       "\t<li>0.0785</li>\n",
       "\t<li>0.0552</li>\n",
       "\t<li>0.0106</li>\n",
       "\t<li>0.1034</li>\n",
       "\t<li>0.0037</li>\n",
       "</ol>\n"
      ],
      "text/latex": [
       "\\begin{enumerate*}\n",
       "\\item 0.1883\n",
       "\\item 0.1629\n",
       "\\item 0.1464\n",
       "\\item 0.1363\n",
       "\\item 0.1146\n",
       "\\item 0.0785\n",
       "\\item 0.0552\n",
       "\\item 0.0106\n",
       "\\item 0.1034\n",
       "\\item 0.0037\n",
       "\\end{enumerate*}\n"
      ],
      "text/markdown": [
       "1. 0.1883\n",
       "2. 0.1629\n",
       "3. 0.1464\n",
       "4. 0.1363\n",
       "5. 0.1146\n",
       "6. 0.0785\n",
       "7. 0.0552\n",
       "8. 0.0106\n",
       "9. 0.1034\n",
       "10. 0.0037\n",
       "\n",
       "\n"
      ],
      "text/plain": [
       " [1] 0.1883 0.1629 0.1464 0.1363 0.1146 0.0785 0.0552 0.0106 0.1034 0.0037"
      ]
     },
     "metadata": {},
     "output_type": "display_data"
    },
    {
     "name": "stdout",
     "output_type": "stream",
     "text": [
      "[1] \"Sensation_seeking\"\n"
     ]
    },
    {
     "data": {
      "text/html": [
       "<ol class=list-inline>\n",
       "\t<li>0.07</li>\n",
       "\t<li>0.1183</li>\n",
       "\t<li>0.1321</li>\n",
       "\t<li>0.0462</li>\n",
       "\t<li>0.1162</li>\n",
       "\t<li>0.1119</li>\n",
       "\t<li>0.0897</li>\n",
       "\t<li>0.1114</li>\n",
       "\t<li>0.0377</li>\n",
       "\t<li>0.0546</li>\n",
       "</ol>\n"
      ],
      "text/latex": [
       "\\begin{enumerate*}\n",
       "\\item 0.07\n",
       "\\item 0.1183\n",
       "\\item 0.1321\n",
       "\\item 0.0462\n",
       "\\item 0.1162\n",
       "\\item 0.1119\n",
       "\\item 0.0897\n",
       "\\item 0.1114\n",
       "\\item 0.0377\n",
       "\\item 0.0546\n",
       "\\end{enumerate*}\n"
      ],
      "text/markdown": [
       "1. 0.07\n",
       "2. 0.1183\n",
       "3. 0.1321\n",
       "4. 0.0462\n",
       "5. 0.1162\n",
       "6. 0.1119\n",
       "7. 0.0897\n",
       "8. 0.1114\n",
       "9. 0.0377\n",
       "10. 0.0546\n",
       "\n",
       "\n"
      ],
      "text/plain": [
       " [1] 0.0700 0.1183 0.1321 0.0462 0.1162 0.1119 0.0897 0.1114 0.0377 0.0546"
      ]
     },
     "metadata": {},
     "output_type": "display_data"
    },
    {
     "name": "stdout",
     "output_type": "stream",
     "text": [
      "[1] \"Caffeine\"\n"
     ]
    },
    {
     "data": {
      "text/html": [
       "<ol class=list-inline>\n",
       "\t<li>7</li>\n",
       "\t<li>6</li>\n",
       "\t<li>5</li>\n",
       "\t<li>4</li>\n",
       "\t<li>1</li>\n",
       "\t<li>2</li>\n",
       "\t<li>3</li>\n",
       "</ol>\n"
      ],
      "text/latex": [
       "\\begin{enumerate*}\n",
       "\\item 7\n",
       "\\item 6\n",
       "\\item 5\n",
       "\\item 4\n",
       "\\item 1\n",
       "\\item 2\n",
       "\\item 3\n",
       "\\end{enumerate*}\n"
      ],
      "text/markdown": [
       "1. 7\n",
       "2. 6\n",
       "3. 5\n",
       "4. 4\n",
       "5. 1\n",
       "6. 2\n",
       "7. 3\n",
       "\n",
       "\n"
      ],
      "text/plain": [
       "[1] 7 6 5 4 1 2 3"
      ]
     },
     "metadata": {},
     "output_type": "display_data"
    },
    {
     "name": "stdout",
     "output_type": "stream",
     "text": [
      "[1] \"Cannabis\"\n"
     ]
    },
    {
     "data": {
      "text/html": [
       "<ol class=list-inline>\n",
       "\t<li>1</li>\n",
       "\t<li>5</li>\n",
       "\t<li>4</li>\n",
       "\t<li>3</li>\n",
       "\t<li>2</li>\n",
       "\t<li>7</li>\n",
       "\t<li>6</li>\n",
       "</ol>\n"
      ],
      "text/latex": [
       "\\begin{enumerate*}\n",
       "\\item 1\n",
       "\\item 5\n",
       "\\item 4\n",
       "\\item 3\n",
       "\\item 2\n",
       "\\item 7\n",
       "\\item 6\n",
       "\\end{enumerate*}\n"
      ],
      "text/markdown": [
       "1. 1\n",
       "2. 5\n",
       "3. 4\n",
       "4. 3\n",
       "5. 2\n",
       "6. 7\n",
       "7. 6\n",
       "\n",
       "\n"
      ],
      "text/plain": [
       "[1] 1 5 4 3 2 7 6"
      ]
     },
     "metadata": {},
     "output_type": "display_data"
    },
    {
     "name": "stdout",
     "output_type": "stream",
     "text": [
      "[1] \"Meth\"\n"
     ]
    },
    {
     "data": {
      "text/html": [
       "<ol class=list-inline>\n",
       "\t<li>1</li>\n",
       "\t<li>4</li>\n",
       "\t<li>2</li>\n",
       "\t<li>7</li>\n",
       "\t<li>5</li>\n",
       "\t<li>3</li>\n",
       "\t<li>6</li>\n",
       "</ol>\n"
      ],
      "text/latex": [
       "\\begin{enumerate*}\n",
       "\\item 1\n",
       "\\item 4\n",
       "\\item 2\n",
       "\\item 7\n",
       "\\item 5\n",
       "\\item 3\n",
       "\\item 6\n",
       "\\end{enumerate*}\n"
      ],
      "text/markdown": [
       "1. 1\n",
       "2. 4\n",
       "3. 2\n",
       "4. 7\n",
       "5. 5\n",
       "6. 3\n",
       "7. 6\n",
       "\n",
       "\n"
      ],
      "text/plain": [
       "[1] 1 4 2 7 5 3 6"
      ]
     },
     "metadata": {},
     "output_type": "display_data"
    }
   ],
   "source": [
    "# Inspecting the unique values of all the variables (note that R does no allow counting from 0 so all the levels of the labels are shifted +1)\n",
    "\n",
    "print(\"age\")\n",
    "unique(df$Age)\n",
    "print(\"gender\")\n",
    "unique(df$Gender)\n",
    "print(\"education\")\n",
    "unique(df$Education)\n",
    "print(\"Nscore\")\n",
    "unique(df$Nscore)\n",
    "print(\"Escore\")\n",
    "unique(df$Escore)\n",
    "print(\"Cscore\")\n",
    "unique(df$Cscore)\n",
    "print(\"Impulsive\")\n",
    "unique(df$Impulsive)\n",
    "print(\"Sensation_seeking\")\n",
    "unique(df$Sensation_seeking)\n",
    "print(\"Caffeine\")\n",
    "unique(df$Caffeine)\n",
    "print(\"Cannabis\")\n",
    "unique(df$Cannabis)\n",
    "print(\"Meth\")\n",
    "unique(df$Meth)"
   ]
  },
  {
   "cell_type": "code",
   "execution_count": 7,
   "metadata": {},
   "outputs": [
    {
     "name": "stdout",
     "output_type": "stream",
     "text": [
      "'data.frame':\t1413 obs. of  13 variables:\n",
      " $ Age              : num  1 1 4 5 2 1 1 4 1 4 ...\n",
      " $ Gender           : num  1 0 0 1 0 1 1 1 1 0 ...\n",
      " $ Education        : num  4 7 7 4 7 5 5 7 6 7 ...\n",
      " $ Nscore           : num  30 39 44 20 27 40 30 38 42 49 ...\n",
      " $ Escore           : num  32 34 33 43 48 37 43 32 26 35 ...\n",
      " $ Oscore           : num  42 53 43 38 46 53 58 41 48 48 ...\n",
      " $ Ascore           : num  29 48 48 43 43 33 51 41 44 52 ...\n",
      " $ Cscore           : num  56 48 41 45 45 41 45 37 38 43 ...\n",
      " $ Impulsive        : num  0.188 0.136 0.136 0.163 0.163 ...\n",
      " $ Sensation_seeking: num  0.112 0.118 0.118 0.112 0.07 ...\n",
      " $ Caffeine         : num  7 6 7 7 5 4 7 7 7 7 ...\n",
      " $ Cannabis         : num  7 4 2 1 3 5 6 2 6 1 ...\n",
      " $ Meth             : num  1 4 1 1 1 1 3 1 1 1 ...\n",
      "'data.frame':\t472 obs. of  13 variables:\n",
      " $ Age              : num  3 4 5 4 6 5 6 3 4 2 ...\n",
      " $ Gender           : num  1 1 0 1 1 0 1 1 0 0 ...\n",
      " $ Education        : num  6 8 6 6 1 4 1 8 5 8 ...\n",
      " $ Nscore           : num  31 31 27 28 25 35 33 34 39 44 ...\n",
      " $ Escore           : num  45 32 49 45 43 28 34 33 44 36 ...\n",
      " $ Oscore           : num  40 43 49 51 38 24 28 37 38 32 ...\n",
      " $ Ascore           : num  32 41 39 53 39 38 41 43 45 37 ...\n",
      " $ Cscore           : num  34 48 52 33 53 46 36 37 51 44 ...\n",
      " $ Impulsive        : num  0.1464 0.1883 0.0785 0.1363 0.1883 ...\n",
      " $ Sensation_seeking: num  0.132 0.116 0.112 0.118 0.07 ...\n",
      " $ Caffeine         : num  7 7 7 7 7 7 7 7 7 7 ...\n",
      " $ Cannabis         : num  4 2 1 3 2 2 1 3 2 1 ...\n",
      " $ Meth             : num  1 1 1 1 1 1 1 1 1 1 ...\n"
     ]
    }
   ],
   "source": [
    "# Split our data into a training and testing set to be able to test how well it generalizes on unseen data\n",
    "\n",
    "# 75% of the sample size\n",
    "smp_size <- floor(0.75 * nrow(df))\n",
    "\n",
    "# set the seed to make our partition reproducible\n",
    "set.seed(123)\n",
    "train_ind <- sample(seq_len(nrow(df)), size = smp_size)\n",
    "\n",
    "train <- df[train_ind, ]\n",
    "test <- df[-train_ind, ]\n",
    "\n",
    "# Inspect the train and test set\n",
    "\n",
    "str(train)\n",
    "str(test)"
   ]
  },
  {
   "cell_type": "code",
   "execution_count": 8,
   "metadata": {},
   "outputs": [
    {
     "data": {
      "image/png": "[encoded data removed]",
      "text/plain": [
       "plot without title"
      ]
     },
     "metadata": {},
     "output_type": "display_data"
    }
   ],
   "source": [
    "# Creating and plotting the DAG\n",
    "\n",
    "graph <- dagitty('dag {\n",
    "bb=\"0,0,1,1\"\n",
    "Age [pos=\"0.140,0.493\"]\n",
    "Ascore [pos=\"0.268,0.602\"]\n",
    "Caffeine [pos=\"0.696,0.299\"]\n",
    "Cannabis [pos=\"0.694,0.494\"]\n",
    "Cscore [pos=\"0.269,0.376\"]\n",
    "Education [pos=\"0.528,0.464\"]\n",
    "Escore [pos=\"0.266,0.476\"]\n",
    "Gender [pos=\"0.139,0.405\"]\n",
    "Impulsive [pos=\"0.457,0.742\"]\n",
    "Meth [pos=\"0.698,0.637\"]\n",
    "Nscore [pos=\"0.265,0.705\"]\n",
    "Oscore [pos=\"0.271,0.268\"]\n",
    "Sensation_seeking [pos=\"0.447,0.264\"]\n",
    "Age -> Ascore\n",
    "Age -> Caffeine\n",
    "Age -> Cannabis [pos=\"0.332,0.543\"]\n",
    "Age -> Cscore\n",
    "Age -> Education [pos=\"0.421,0.597\"]\n",
    "Age -> Escore\n",
    "Age -> Impulsive [pos=\"0.228,0.699\"]\n",
    "Age -> Meth [pos=\"0.450,0.644\"]\n",
    "Age -> Nscore\n",
    "Age -> Oscore\n",
    "Age -> Sensation_seeking [pos=\"0.366,0.404\"]\n",
    "Ascore -> Cannabis\n",
    "Ascore -> Impulsive\n",
    "Ascore -> Meth [pos=\"0.429,0.676\"]\n",
    "Cannabis -> Meth\n",
    "Cscore -> Education\n",
    "Cscore -> Meth [pos=\"0.357,0.605\"]\n",
    "Education -> Caffeine\n",
    "Education -> Cannabis\n",
    "Education -> Meth\n",
    "Escore -> Caffeine\n",
    "Escore -> Cannabis [pos=\"0.416,0.556\"]\n",
    "Escore -> Education\n",
    "Escore -> Impulsive\n",
    "Escore -> Meth [pos=\"0.317,0.501\"]\n",
    "Gender -> Ascore\n",
    "Gender -> Cscore\n",
    "Gender -> Escore\n",
    "Gender -> Nscore\n",
    "Gender -> Oscore\n",
    "Impulsive -> Cannabis\n",
    "Impulsive -> Education\n",
    "Impulsive -> Meth\n",
    "Nscore -> Cannabis\n",
    "Nscore -> Education\n",
    "Nscore -> Impulsive\n",
    "Nscore -> Meth\n",
    "Oscore -> Cannabis\n",
    "Oscore -> Education\n",
    "Oscore -> Impulsive\n",
    "Oscore -> Meth [pos=\"0.376,0.454\"]\n",
    "Oscore -> Sensation_seeking\n",
    "Sensation_seeking -> Cannabis\n",
    "Sensation_seeking -> Meth [pos=\"0.393,0.550\"]\n",
    "}\n",
    "')\n",
    "plot(graph)"
   ]
  },
  {
   "cell_type": "code",
   "execution_count": 9,
   "metadata": {},
   "outputs": [
    {
     "data": {
      "text/plain": [
       "\n",
       "  Bayesian network parameters\n",
       "\n",
       "  Parameters of node Age (Gaussian distribution)\n",
       "\n",
       "Conditional density: Age\n",
       "Coefficients:\n",
       " (Intercept)  \n",
       "4.400035e-18  \n",
       "Standard deviation of the residuals: 1 \n",
       "\n",
       "  Parameters of node Ascore (Gaussian distribution)\n",
       "\n",
       "Conditional density: Ascore | Age + Gender\n",
       "Coefficients:\n",
       "  (Intercept)            Age         Gender  \n",
       " 2.412982e-16   4.609665e-02  -2.188232e-01  \n",
       "Standard deviation of the residuals: 0.9744353 \n",
       "\n",
       "  Parameters of node Caffeine (Gaussian distribution)\n",
       "\n",
       "Conditional density: Caffeine | Age + Education + Escore\n",
       "Coefficients:\n",
       " (Intercept)           Age     Education        Escore  \n",
       "4.027234e-16  2.763042e-02  3.499472e-02  8.427258e-02  \n",
       "Standard deviation of the residuals: 0.9961196 \n",
       "\n",
       "  Parameters of node Cannabis (Gaussian distribution)\n",
       "\n",
       "Conditional density: Cannabis | Age + Ascore + Education + Escore + Impulsive + Nscore + Oscore + Sensation_seeking\n",
       "Coefficients:\n",
       "      (Intercept)                Age             Ascore          Education  \n",
       "    -1.084563e-17      -3.286603e-01      -1.152239e-01      -2.080157e-01  \n",
       "           Escore          Impulsive             Nscore             Oscore  \n",
       "    -1.122177e-01      -4.037335e-02      -5.256804e-02       3.678829e-01  \n",
       "Sensation_seeking  \n",
       "     1.136907e-01  \n",
       "Standard deviation of the residuals: 0.7772113 \n",
       "\n",
       "  Parameters of node Cscore (Gaussian distribution)\n",
       "\n",
       "Conditional density: Cscore | Age + Gender\n",
       "Coefficients:\n",
       "  (Intercept)            Age         Gender  \n",
       " 2.455785e-17   1.542765e-01  -1.601723e-01  \n",
       "Standard deviation of the residuals: 0.9733683 \n",
       "\n",
       "  Parameters of node Education (Gaussian distribution)\n",
       "\n",
       "Conditional density: Education | Age + Cscore + Escore + Impulsive + Nscore + Oscore\n",
       "Coefficients:\n",
       " (Intercept)           Age        Cscore        Escore     Impulsive  \n",
       "8.766775e-18  9.617419e-02  1.972074e-01  4.992359e-02  7.941124e-02  \n",
       "      Nscore        Oscore  \n",
       "2.253602e-02  1.176990e-01  \n",
       "Standard deviation of the residuals: 0.9604612 \n",
       "\n",
       "  Parameters of node Escore (Gaussian distribution)\n",
       "\n",
       "Conditional density: Escore | Age + Gender\n",
       "Coefficients:\n",
       "  (Intercept)            Age         Gender  \n",
       "-2.696821e-16  -4.041194e-02  -4.470544e-02  \n",
       "Standard deviation of the residuals: 0.9990529 \n",
       "\n",
       "  Parameters of node Gender (Gaussian distribution)\n",
       "\n",
       "Conditional density: Gender\n",
       "Coefficients:\n",
       "  (Intercept)  \n",
       "-1.338868e-16  \n",
       "Standard deviation of the residuals: 1 \n",
       "\n",
       "  Parameters of node Impulsive (Gaussian distribution)\n",
       "\n",
       "Conditional density: Impulsive | Age + Ascore + Escore + Nscore + Oscore\n",
       "Coefficients:\n",
       "  (Intercept)            Age         Ascore         Escore         Nscore  \n",
       "-4.078077e-16   6.544084e-02   1.736504e-01  -1.547383e-01  -1.688990e-01  \n",
       "       Oscore  \n",
       "-9.025067e-02  \n",
       "Standard deviation of the residuals: 0.9561299 \n",
       "\n",
       "  Parameters of node Meth (Gaussian distribution)\n",
       "\n",
       "Conditional density: Meth | Age + Ascore + Cannabis + Cscore + Education + Escore + Impulsive + Nscore + Oscore + Sensation_seeking\n",
       "Coefficients:\n",
       "      (Intercept)                Age             Ascore           Cannabis  \n",
       "    -7.185943e-17      -7.851124e-02      -9.857239e-02       1.715906e-01  \n",
       "           Cscore          Education             Escore          Impulsive  \n",
       "    -2.313221e-02      -7.095345e-02      -8.688282e-02      -1.423406e-02  \n",
       "           Nscore             Oscore  Sensation_seeking  \n",
       "     7.264608e-02       1.075004e-01      -4.918814e-02  \n",
       "Standard deviation of the residuals: 0.9314504 \n",
       "\n",
       "  Parameters of node Nscore (Gaussian distribution)\n",
       "\n",
       "Conditional density: Nscore | Age + Gender\n",
       "Coefficients:\n",
       "  (Intercept)            Age         Gender  \n",
       "-2.775314e-16  -1.694824e-01  -8.309124e-02  \n",
       "Standard deviation of the residuals: 0.9840087 \n",
       "\n",
       "  Parameters of node Oscore (Gaussian distribution)\n",
       "\n",
       "Conditional density: Oscore | Age + Gender\n",
       "Coefficients:\n",
       "  (Intercept)            Age         Gender  \n",
       " 2.091666e-16  -1.987592e-01   1.004807e-01  \n",
       "Standard deviation of the residuals: 0.9737316 \n",
       "\n",
       "  Parameters of node Sensation_seeking (Gaussian distribution)\n",
       "\n",
       "Conditional density: Sensation_seeking | Age + Oscore\n",
       "Coefficients:\n",
       "  (Intercept)            Age         Oscore  \n",
       " 1.352669e-16  -9.750795e-02   2.157053e-01  \n",
       "Standard deviation of the residuals: 0.9677548 \n"
      ]
     },
     "metadata": {},
     "output_type": "display_data"
    }
   ],
   "source": [
    "# Fitting the network on our training dataset\n",
    "\n",
    "network <- model2network(toString(graph,\"bnlearn\"))\n",
    "fit <- bn.fit(network, as.data.frame(scale(train)))\n",
    "\n",
    "# Inspecting our fit\n",
    "\n",
    "fit"
   ]
  },
  {
   "cell_type": "code",
   "execution_count": 10,
   "metadata": {},
   "outputs": [
    {
     "name": "stdout",
     "output_type": "stream",
     "text": [
      "[1] \"Average accuracy with entire network:\"\n"
     ]
    },
    {
     "data": {
      "text/html": [
       "0.0827293335004595"
      ],
      "text/latex": [
       "0.0827293335004595"
      ],
      "text/markdown": [
       "0.0827293335004595"
      ],
      "text/plain": [
       "[1] 0.08272933"
      ]
     },
     "metadata": {},
     "output_type": "display_data"
    },
    {
     "name": "stdout",
     "output_type": "stream",
     "text": [
      "[1] \"Average accuracy with only parents:\"\n"
     ]
    },
    {
     "data": {
      "text/html": [
       "0.427371325454561"
      ],
      "text/latex": [
       "0.427371325454561"
      ],
      "text/markdown": [
       "0.427371325454561"
      ],
      "text/plain": [
       "[1] 0.4273713"
      ]
     },
     "metadata": {},
     "output_type": "display_data"
    }
   ],
   "source": [
    "# Predicting on the testing dataset with our fitted model (Cannabis)\n",
    "\n",
    "pred <- predict(fit,node=\"Cannabis\", data=test,method=\"bayes-lw\")\n",
    "\n",
    "accuracy <- mean(test$Cannabis - pred)\n",
    "print(\"Average accuracy with entire network:\")\n",
    "accuracy\n",
    "\n",
    "pred_parents <- predict(fit,node=\"Cannabis\", data=test)\n",
    "\n",
    "accuracy_par <- mean(test$Cannabis - pred_parents)\n",
    "print(\"Average accuracy with only parents:\")\n",
    "accuracy_par"
   ]
  },
  {
   "cell_type": "code",
   "execution_count": 11,
   "metadata": {},
   "outputs": [
    {
     "name": "stdout",
     "output_type": "stream",
     "text": [
      "[1] \"Average accuracy with entire network:\"\n"
     ]
    },
    {
     "data": {
      "text/html": [
       "1.46087138859945"
      ],
      "text/latex": [
       "1.46087138859945"
      ],
      "text/markdown": [
       "1.46087138859945"
      ],
      "text/plain": [
       "[1] 1.460871"
      ]
     },
     "metadata": {},
     "output_type": "display_data"
    },
    {
     "name": "stdout",
     "output_type": "stream",
     "text": [
      "[1] \"Average accuracy with only parents:\"\n"
     ]
    },
    {
     "data": {
      "text/html": [
       "2.83542358053949"
      ],
      "text/latex": [
       "2.83542358053949"
      ],
      "text/markdown": [
       "2.83542358053949"
      ],
      "text/plain": [
       "[1] 2.835424"
      ]
     },
     "metadata": {},
     "output_type": "display_data"
    }
   ],
   "source": [
    "# Predicting on the testing dataset with our fitted model (Meth)\n",
    "\n",
    "pred <- predict(fit,node=\"Escore\", data=test,method=\"bayes-lw\")\n",
    "\n",
    "accuracy <- mean(test$Meth - pred)\n",
    "print(\"Average accuracy with entire network:\")\n",
    "accuracy\n",
    "\n",
    "pred_parents <- predict(fit,node=\"Meth\", data=test)\n",
    "\n",
    "accuracy_par <- mean(test$Meth - pred_parents)\n",
    "print(\"Average accuracy with only parents:\")\n",
    "accuracy_par"
   ]
  },
  {
   "cell_type": "code",
   "execution_count": 12,
   "metadata": {},
   "outputs": [
    {
     "name": "stdout",
     "output_type": "stream",
     "text": [
      "[1] \"Average accuracy with entire network:\"\n"
     ]
    },
    {
     "data": {
      "text/html": [
       "2.8412833679854"
      ],
      "text/latex": [
       "2.8412833679854"
      ],
      "text/markdown": [
       "2.8412833679854"
      ],
      "text/plain": [
       "[1] 2.841283"
      ]
     },
     "metadata": {},
     "output_type": "display_data"
    },
    {
     "name": "stdout",
     "output_type": "stream",
     "text": [
      "[1] \"Average accuracy with only parents:\"\n"
     ]
    },
    {
     "data": {
      "text/html": [
       "2.84103084077108"
      ],
      "text/latex": [
       "2.84103084077108"
      ],
      "text/markdown": [
       "2.84103084077108"
      ],
      "text/plain": [
       "[1] 2.841031"
      ]
     },
     "metadata": {},
     "output_type": "display_data"
    }
   ],
   "source": [
    "# Predicting on the testing dataset with our fitted model (Caffeine)\n",
    "\n",
    "pred <- predict(fit,node=\"Caffeine\", data=test,method=\"bayes-lw\")\n",
    "\n",
    "accuracy <- mean(test$Caffeine - pred)\n",
    "print(\"Average accuracy with entire network:\")\n",
    "accuracy\n",
    "\n",
    "pred_parents <- predict(fit,node=\"Caffeine\", data=test)\n",
    "\n",
    "accuracy_par <- mean(test$Caffeine - pred_parents)\n",
    "print(\"Average accuracy with only parents:\")\n",
    "accuracy_par"
   ]
  }
 ],
 "metadata": {
  "kernelspec": {
   "display_name": "R",
   "language": "R",
   "name": "ir"
  },
  "language_info": {
   "codemirror_mode": "r",
   "file_extension": ".r",
   "mimetype": "text/x-r-source",
   "name": "R",
   "pygments_lexer": "r",
   "version": "3.6.1"
  }
 },
 "nbformat": 4,
 "nbformat_minor": 4
}
