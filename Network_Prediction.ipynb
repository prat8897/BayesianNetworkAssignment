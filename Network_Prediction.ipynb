{
 "cells": [
  {
   "cell_type": "code",
   "execution_count": 1,
   "metadata": {},
   "outputs": [],
   "source": [
    "# Install statements\n",
    "# install.packages(c(\"remotes\",\"pROC\",\"naivebayes\"))\n",
    "# remotes::install_github(\"jtextor/bayesianNetworks\")\n",
    "# install.packages(\"bnlearn\")\n",
    "# install.packages(\"dagitty\")\n",
    "# install.packages(\"lavaan\")"
   ]
  },
  {
   "cell_type": "code",
   "execution_count": 2,
   "metadata": {},
   "outputs": [
    {
     "name": "stderr",
     "output_type": "stream",
     "text": [
      "Warning message:\n",
      "\"package 'naivebayes' was built under R version 3.6.3\"naivebayes 0.9.7 loaded\n",
      "Warning message:\n",
      "\"package 'bnlearn' was built under R version 3.6.3\"Warning message:\n",
      "\"package 'dagitty' was built under R version 3.6.3\"\n",
      "Attaching package: 'dagitty'\n",
      "\n",
      "The following objects are masked from 'package:bnlearn':\n",
      "\n",
      "    ancestors, children, descendants, parents, spouses\n",
      "\n",
      "Warning message:\n",
      "\"package 'lavaan' was built under R version 3.6.3\"This is lavaan 0.6-7\n",
      "lavaan is BETA software! Please report any bugs.\n"
     ]
    }
   ],
   "source": [
    "# Packages\n",
    "\n",
    "library( bayesianNetworks )\n",
    "library( naivebayes )\n",
    "library( bnlearn )\n",
    "library( dagitty )\n",
    "library( lavaan )"
   ]
  },
  {
   "cell_type": "code",
   "execution_count": 3,
   "metadata": {},
   "outputs": [
    {
     "data": {
      "text/html": [
       "<table>\n",
       "<thead><tr><th scope=col>Age</th><th scope=col>Gender</th><th scope=col>Education</th><th scope=col>Nscore</th><th scope=col>Escore</th><th scope=col>Oscore</th><th scope=col>Ascore</th><th scope=col>Cscore</th><th scope=col>Impulsive</th><th scope=col>Sensation_seeking</th><th scope=col>Caffeine</th><th scope=col>Cannabis</th><th scope=col>Meth</th></tr></thead>\n",
       "<tbody>\n",
       "\t<tr><td>35-44                            </td><td>0                                </td><td>Professional certificate/ diploma</td><td>39                               </td><td>36                               </td><td>42                               </td><td>37                               </td><td>42                               </td><td>0.1883                           </td><td>0.0700                           </td><td>6                                </td><td>0                                </td><td>0                                </td></tr>\n",
       "\t<tr><td>25-34                            </td><td>1                                </td><td>Doctorate degree                 </td><td>29                               </td><td>52                               </td><td>55                               </td><td>48                               </td><td>41                               </td><td>0.1629                           </td><td>0.1183                           </td><td>6                                </td><td>4                                </td><td>3                                </td></tr>\n",
       "\t<tr><td>35-44                            </td><td>1                                </td><td>Professional certificate/ diploma</td><td>31                               </td><td>45                               </td><td>40                               </td><td>32                               </td><td>34                               </td><td>0.1464                           </td><td>0.1321                           </td><td>6                                </td><td>3                                </td><td>0                                </td></tr>\n",
       "\t<tr><td>18-24                            </td><td>0                                </td><td>Masters degree                   </td><td>34                               </td><td>34                               </td><td>46                               </td><td>47                               </td><td>46                               </td><td>0.1464                           </td><td>0.0700                           </td><td>5                                </td><td>2                                </td><td>0                                </td></tr>\n",
       "\t<tr><td>35-44                            </td><td>0                                </td><td>Doctorate degree                 </td><td>43                               </td><td>28                               </td><td>43                               </td><td>41                               </td><td>50                               </td><td>0.1883                           </td><td>0.1183                           </td><td>6                                </td><td>3                                </td><td>0                                </td></tr>\n",
       "\t<tr><td>65+                              </td><td>0                                </td><td>Left school at 18                </td><td>29                               </td><td>38                               </td><td>35                               </td><td>55                               </td><td>52                               </td><td>0.1464                           </td><td>0.0462                           </td><td>6                                </td><td>0                                </td><td>0                                </td></tr>\n",
       "</tbody>\n",
       "</table>\n"
      ],
      "text/latex": [
       "\\begin{tabular}{r|lllllllllllll}\n",
       " Age & Gender & Education & Nscore & Escore & Oscore & Ascore & Cscore & Impulsive & Sensation\\_seeking & Caffeine & Cannabis & Meth\\\\\n",
       "\\hline\n",
       "\t 35-44                             & 0                                 & Professional certificate/ diploma & 39                                & 36                                & 42                                & 37                                & 42                                & 0.1883                            & 0.0700                            & 6                                 & 0                                 & 0                                \\\\\n",
       "\t 25-34                             & 1                                 & Doctorate degree                  & 29                                & 52                                & 55                                & 48                                & 41                                & 0.1629                            & 0.1183                            & 6                                 & 4                                 & 3                                \\\\\n",
       "\t 35-44                             & 1                                 & Professional certificate/ diploma & 31                                & 45                                & 40                                & 32                                & 34                                & 0.1464                            & 0.1321                            & 6                                 & 3                                 & 0                                \\\\\n",
       "\t 18-24                             & 0                                 & Masters degree                    & 34                                & 34                                & 46                                & 47                                & 46                                & 0.1464                            & 0.0700                            & 5                                 & 2                                 & 0                                \\\\\n",
       "\t 35-44                             & 0                                 & Doctorate degree                  & 43                                & 28                                & 43                                & 41                                & 50                                & 0.1883                            & 0.1183                            & 6                                 & 3                                 & 0                                \\\\\n",
       "\t 65+                               & 0                                 & Left school at 18                 & 29                                & 38                                & 35                                & 55                                & 52                                & 0.1464                            & 0.0462                            & 6                                 & 0                                 & 0                                \\\\\n",
       "\\end{tabular}\n"
      ],
      "text/markdown": [
       "\n",
       "| Age | Gender | Education | Nscore | Escore | Oscore | Ascore | Cscore | Impulsive | Sensation_seeking | Caffeine | Cannabis | Meth |\n",
       "|---|---|---|---|---|---|---|---|---|---|---|---|---|\n",
       "| 35-44                             | 0                                 | Professional certificate/ diploma | 39                                | 36                                | 42                                | 37                                | 42                                | 0.1883                            | 0.0700                            | 6                                 | 0                                 | 0                                 |\n",
       "| 25-34                             | 1                                 | Doctorate degree                  | 29                                | 52                                | 55                                | 48                                | 41                                | 0.1629                            | 0.1183                            | 6                                 | 4                                 | 3                                 |\n",
       "| 35-44                             | 1                                 | Professional certificate/ diploma | 31                                | 45                                | 40                                | 32                                | 34                                | 0.1464                            | 0.1321                            | 6                                 | 3                                 | 0                                 |\n",
       "| 18-24                             | 0                                 | Masters degree                    | 34                                | 34                                | 46                                | 47                                | 46                                | 0.1464                            | 0.0700                            | 5                                 | 2                                 | 0                                 |\n",
       "| 35-44                             | 0                                 | Doctorate degree                  | 43                                | 28                                | 43                                | 41                                | 50                                | 0.1883                            | 0.1183                            | 6                                 | 3                                 | 0                                 |\n",
       "| 65+                               | 0                                 | Left school at 18                 | 29                                | 38                                | 35                                | 55                                | 52                                | 0.1464                            | 0.0462                            | 6                                 | 0                                 | 0                                 |\n",
       "\n"
      ],
      "text/plain": [
       "  Age   Gender Education                         Nscore Escore Oscore Ascore\n",
       "1 35-44 0      Professional certificate/ diploma 39     36     42     37    \n",
       "2 25-34 1      Doctorate degree                  29     52     55     48    \n",
       "3 35-44 1      Professional certificate/ diploma 31     45     40     32    \n",
       "4 18-24 0      Masters degree                    34     34     46     47    \n",
       "5 35-44 0      Doctorate degree                  43     28     43     41    \n",
       "6 65+   0      Left school at 18                 29     38     35     55    \n",
       "  Cscore Impulsive Sensation_seeking Caffeine Cannabis Meth\n",
       "1 42     0.1883    0.0700            6        0        0   \n",
       "2 41     0.1629    0.1183            6        4        3   \n",
       "3 34     0.1464    0.1321            6        3        0   \n",
       "4 46     0.1464    0.0700            5        2        0   \n",
       "5 50     0.1883    0.1183            6        3        0   \n",
       "6 52     0.1464    0.0462            6        0        0   "
      ]
     },
     "metadata": {},
     "output_type": "display_data"
    }
   ],
   "source": [
    "# Read in the .csv that was created during the preprocessing\n",
    "\n",
    "df <- read.csv('Dataset_Numerical_Classes.csv')\n",
    "\n",
    "# Visually inspect the dataframe\n",
    "\n",
    "head(df)"
   ]
  },
  {
   "cell_type": "code",
   "execution_count": 4,
   "metadata": {},
   "outputs": [],
   "source": [
    "# Transforming the non numerical ordinal values to numerical values with ordering\n",
    "\n",
    "# BNLearn wants all data to be a double so we will transform all data to doubles \n",
    "\n",
    "df$Caffeine <- as.double( ordered(df$Caffeine, levels =c(\"0\",\"1\",\"2\",\"3\",\"4\",\"5\",\"6\")))\n",
    "df$Cannabis <- as.double( ordered(df$Cannabis, levels =c(\"0\",\"1\",\"2\",\"3\",\"4\",\"5\",\"6\")))\n",
    "df$Meth <- as.double( ordered(df$Meth, levels =c(\"0\",\"1\",\"2\",\"3\",\"4\",\"5\",\"6\")))\n",
    "df$Age <- as.double( ordered(df$Age, levels =c(\"18-24\",\"25-34\",\"35-44\",\"45-54\",\"55-64\",\"65+\")))\n",
    "df$Education <- as.double( ordered(df$Education, levels=c(\"Left school before 16\",\"Left school at 16\",\"Left school at 17\",\"Left school at 18\",\"College or university dropout\",\"Professional certificate/ diploma\",\"University degree\",\"Masters degree\",\"Doctorate degree\")))"
   ]
  },
  {
   "cell_type": "code",
   "execution_count": 5,
   "metadata": {},
   "outputs": [
    {
     "name": "stdout",
     "output_type": "stream",
     "text": [
      "'data.frame':\t1885 obs. of  13 variables:\n",
      " $ Age              : num  3 2 3 1 3 6 4 3 3 5 ...\n",
      " $ Gender           : num  0 1 1 0 0 0 1 1 0 1 ...\n",
      " $ Education        : num  6 9 6 8 9 4 8 2 6 8 ...\n",
      " $ Nscore           : num  39 29 31 34 43 29 31 24 42 33 ...\n",
      " $ Escore           : num  36 52 45 34 28 38 32 52 55 40 ...\n",
      " $ Oscore           : num  42 55 40 46 43 35 43 40 39 36 ...\n",
      " $ Ascore           : num  37 48 32 47 41 55 41 41 48 47 ...\n",
      " $ Cscore           : num  42 41 34 46 50 52 48 52 49 43 ...\n",
      " $ Impulsive        : num  0.188 0.163 0.146 0.146 0.188 ...\n",
      " $ Sensation_seeking: num  0.07 0.118 0.132 0.07 0.118 ...\n",
      " $ Caffeine         : num  7 7 7 6 7 7 7 7 7 7 ...\n",
      " $ Cannabis         : num  1 5 4 3 4 1 2 1 1 2 ...\n",
      " $ Meth             : num  1 4 1 1 1 1 1 1 1 1 ...\n"
     ]
    }
   ],
   "source": [
    "# BNLearn wants all data to be a double so we will transform all data to doubles \n",
    "\n",
    "df$Gender <- as.double(df$Gender) \n",
    "df$Nscore <- as.double(df$Nscore) \n",
    "df$Escore <- as.double(df$Escore) \n",
    "df$Oscore <- as.double(df$Oscore) \n",
    "df$Ascore <- as.double(df$Ascore) \n",
    "df$Cscore <- as.double(df$Cscore) \n",
    "\n",
    "# Confirm that all variables are succesfully transformed into doubles\n",
    "str(df)"
   ]
  },
  {
   "cell_type": "code",
   "execution_count": 6,
   "metadata": {
    "scrolled": true
   },
   "outputs": [
    {
     "name": "stdout",
     "output_type": "stream",
     "text": [
      "[1] \"age\"\n"
     ]
    },
    {
     "data": {
      "text/html": [
       "<ol class=list-inline>\n",
       "\t<li>3</li>\n",
       "\t<li>2</li>\n",
       "\t<li>1</li>\n",
       "\t<li>6</li>\n",
       "\t<li>4</li>\n",
       "\t<li>5</li>\n",
       "</ol>\n"
      ],
      "text/latex": [
       "\\begin{enumerate*}\n",
       "\\item 3\n",
       "\\item 2\n",
       "\\item 1\n",
       "\\item 6\n",
       "\\item 4\n",
       "\\item 5\n",
       "\\end{enumerate*}\n"
      ],
      "text/markdown": [
       "1. 3\n",
       "2. 2\n",
       "3. 1\n",
       "4. 6\n",
       "5. 4\n",
       "6. 5\n",
       "\n",
       "\n"
      ],
      "text/plain": [
       "[1] 3 2 1 6 4 5"
      ]
     },
     "metadata": {},
     "output_type": "display_data"
    },
    {
     "name": "stdout",
     "output_type": "stream",
     "text": [
      "[1] \"gender\"\n"
     ]
    },
    {
     "data": {
      "text/html": [
       "<ol class=list-inline>\n",
       "\t<li>0</li>\n",
       "\t<li>1</li>\n",
       "</ol>\n"
      ],
      "text/latex": [
       "\\begin{enumerate*}\n",
       "\\item 0\n",
       "\\item 1\n",
       "\\end{enumerate*}\n"
      ],
      "text/markdown": [
       "1. 0\n",
       "2. 1\n",
       "\n",
       "\n"
      ],
      "text/plain": [
       "[1] 0 1"
      ]
     },
     "metadata": {},
     "output_type": "display_data"
    },
    {
     "name": "stdout",
     "output_type": "stream",
     "text": [
      "[1] \"education\"\n"
     ]
    },
    {
     "data": {
      "text/html": [
       "<ol class=list-inline>\n",
       "\t<li>6</li>\n",
       "\t<li>9</li>\n",
       "\t<li>8</li>\n",
       "\t<li>4</li>\n",
       "\t<li>2</li>\n",
       "\t<li>7</li>\n",
       "\t<li>5</li>\n",
       "\t<li>1</li>\n",
       "\t<li>3</li>\n",
       "</ol>\n"
      ],
      "text/latex": [
       "\\begin{enumerate*}\n",
       "\\item 6\n",
       "\\item 9\n",
       "\\item 8\n",
       "\\item 4\n",
       "\\item 2\n",
       "\\item 7\n",
       "\\item 5\n",
       "\\item 1\n",
       "\\item 3\n",
       "\\end{enumerate*}\n"
      ],
      "text/markdown": [
       "1. 6\n",
       "2. 9\n",
       "3. 8\n",
       "4. 4\n",
       "5. 2\n",
       "6. 7\n",
       "7. 5\n",
       "8. 1\n",
       "9. 3\n",
       "\n",
       "\n"
      ],
      "text/plain": [
       "[1] 6 9 8 4 2 7 5 1 3"
      ]
     },
     "metadata": {},
     "output_type": "display_data"
    },
    {
     "name": "stdout",
     "output_type": "stream",
     "text": [
      "[1] \"Nscore\"\n"
     ]
    },
    {
     "data": {
      "text/html": [
       "<ol class=list-inline>\n",
       "\t<li>39</li>\n",
       "\t<li>29</li>\n",
       "\t<li>31</li>\n",
       "\t<li>34</li>\n",
       "\t<li>43</li>\n",
       "\t<li>24</li>\n",
       "\t<li>42</li>\n",
       "\t<li>33</li>\n",
       "\t<li>26</li>\n",
       "\t<li>56</li>\n",
       "\t<li>28</li>\n",
       "\t<li>27</li>\n",
       "\t<li>19</li>\n",
       "\t<li>22</li>\n",
       "\t<li>41</li>\n",
       "\t<li>49</li>\n",
       "\t<li>32</li>\n",
       "\t<li>25</li>\n",
       "\t<li>40</li>\n",
       "\t<li>51</li>\n",
       "\t<li>35</li>\n",
       "\t<li>36</li>\n",
       "\t<li>46</li>\n",
       "\t<li>44</li>\n",
       "\t<li>37</li>\n",
       "\t<li>47</li>\n",
       "\t<li>23</li>\n",
       "\t<li>30</li>\n",
       "\t<li>38</li>\n",
       "\t<li>18</li>\n",
       "\t<li>45</li>\n",
       "\t<li>17</li>\n",
       "\t<li>53</li>\n",
       "\t<li>50</li>\n",
       "\t<li>60</li>\n",
       "\t<li>21</li>\n",
       "\t<li>54</li>\n",
       "\t<li>59</li>\n",
       "\t<li>48</li>\n",
       "\t<li>20</li>\n",
       "\t<li>55</li>\n",
       "\t<li>16</li>\n",
       "\t<li>57</li>\n",
       "\t<li>52</li>\n",
       "\t<li>58</li>\n",
       "\t<li>14</li>\n",
       "\t<li>15</li>\n",
       "\t<li>13</li>\n",
       "\t<li>12</li>\n",
       "</ol>\n"
      ],
      "text/latex": [
       "\\begin{enumerate*}\n",
       "\\item 39\n",
       "\\item 29\n",
       "\\item 31\n",
       "\\item 34\n",
       "\\item 43\n",
       "\\item 24\n",
       "\\item 42\n",
       "\\item 33\n",
       "\\item 26\n",
       "\\item 56\n",
       "\\item 28\n",
       "\\item 27\n",
       "\\item 19\n",
       "\\item 22\n",
       "\\item 41\n",
       "\\item 49\n",
       "\\item 32\n",
       "\\item 25\n",
       "\\item 40\n",
       "\\item 51\n",
       "\\item 35\n",
       "\\item 36\n",
       "\\item 46\n",
       "\\item 44\n",
       "\\item 37\n",
       "\\item 47\n",
       "\\item 23\n",
       "\\item 30\n",
       "\\item 38\n",
       "\\item 18\n",
       "\\item 45\n",
       "\\item 17\n",
       "\\item 53\n",
       "\\item 50\n",
       "\\item 60\n",
       "\\item 21\n",
       "\\item 54\n",
       "\\item 59\n",
       "\\item 48\n",
       "\\item 20\n",
       "\\item 55\n",
       "\\item 16\n",
       "\\item 57\n",
       "\\item 52\n",
       "\\item 58\n",
       "\\item 14\n",
       "\\item 15\n",
       "\\item 13\n",
       "\\item 12\n",
       "\\end{enumerate*}\n"
      ],
      "text/markdown": [
       "1. 39\n",
       "2. 29\n",
       "3. 31\n",
       "4. 34\n",
       "5. 43\n",
       "6. 24\n",
       "7. 42\n",
       "8. 33\n",
       "9. 26\n",
       "10. 56\n",
       "11. 28\n",
       "12. 27\n",
       "13. 19\n",
       "14. 22\n",
       "15. 41\n",
       "16. 49\n",
       "17. 32\n",
       "18. 25\n",
       "19. 40\n",
       "20. 51\n",
       "21. 35\n",
       "22. 36\n",
       "23. 46\n",
       "24. 44\n",
       "25. 37\n",
       "26. 47\n",
       "27. 23\n",
       "28. 30\n",
       "29. 38\n",
       "30. 18\n",
       "31. 45\n",
       "32. 17\n",
       "33. 53\n",
       "34. 50\n",
       "35. 60\n",
       "36. 21\n",
       "37. 54\n",
       "38. 59\n",
       "39. 48\n",
       "40. 20\n",
       "41. 55\n",
       "42. 16\n",
       "43. 57\n",
       "44. 52\n",
       "45. 58\n",
       "46. 14\n",
       "47. 15\n",
       "48. 13\n",
       "49. 12\n",
       "\n",
       "\n"
      ],
      "text/plain": [
       " [1] 39 29 31 34 43 24 42 33 26 56 28 27 19 22 41 49 32 25 40 51 35 36 46 44 37\n",
       "[26] 47 23 30 38 18 45 17 53 50 60 21 54 59 48 20 55 16 57 52 58 14 15 13 12"
      ]
     },
     "metadata": {},
     "output_type": "display_data"
    },
    {
     "name": "stdout",
     "output_type": "stream",
     "text": [
      "[1] \"Escore\"\n"
     ]
    },
    {
     "data": {
      "text/html": [
       "<ol class=list-inline>\n",
       "\t<li>36</li>\n",
       "\t<li>52</li>\n",
       "\t<li>45</li>\n",
       "\t<li>34</li>\n",
       "\t<li>28</li>\n",
       "\t<li>38</li>\n",
       "\t<li>32</li>\n",
       "\t<li>55</li>\n",
       "\t<li>40</li>\n",
       "\t<li>41</li>\n",
       "\t<li>49</li>\n",
       "\t<li>29</li>\n",
       "\t<li>31</li>\n",
       "\t<li>39</li>\n",
       "\t<li>27</li>\n",
       "\t<li>43</li>\n",
       "\t<li>33</li>\n",
       "\t<li>16</li>\n",
       "\t<li>44</li>\n",
       "\t<li>37</li>\n",
       "\t<li>51</li>\n",
       "\t<li>42</li>\n",
       "\t<li>48</li>\n",
       "\t<li>46</li>\n",
       "\t<li>47</li>\n",
       "\t<li>35</li>\n",
       "\t<li>50</li>\n",
       "\t<li>30</li>\n",
       "\t<li>26</li>\n",
       "\t<li>58</li>\n",
       "\t<li>53</li>\n",
       "\t<li>54</li>\n",
       "\t<li>23</li>\n",
       "\t<li>22</li>\n",
       "\t<li>24</li>\n",
       "\t<li>19</li>\n",
       "\t<li>20</li>\n",
       "\t<li>21</li>\n",
       "\t<li>25</li>\n",
       "\t<li>56</li>\n",
       "\t<li>59</li>\n",
       "\t<li>18</li>\n",
       "</ol>\n"
      ],
      "text/latex": [
       "\\begin{enumerate*}\n",
       "\\item 36\n",
       "\\item 52\n",
       "\\item 45\n",
       "\\item 34\n",
       "\\item 28\n",
       "\\item 38\n",
       "\\item 32\n",
       "\\item 55\n",
       "\\item 40\n",
       "\\item 41\n",
       "\\item 49\n",
       "\\item 29\n",
       "\\item 31\n",
       "\\item 39\n",
       "\\item 27\n",
       "\\item 43\n",
       "\\item 33\n",
       "\\item 16\n",
       "\\item 44\n",
       "\\item 37\n",
       "\\item 51\n",
       "\\item 42\n",
       "\\item 48\n",
       "\\item 46\n",
       "\\item 47\n",
       "\\item 35\n",
       "\\item 50\n",
       "\\item 30\n",
       "\\item 26\n",
       "\\item 58\n",
       "\\item 53\n",
       "\\item 54\n",
       "\\item 23\n",
       "\\item 22\n",
       "\\item 24\n",
       "\\item 19\n",
       "\\item 20\n",
       "\\item 21\n",
       "\\item 25\n",
       "\\item 56\n",
       "\\item 59\n",
       "\\item 18\n",
       "\\end{enumerate*}\n"
      ],
      "text/markdown": [
       "1. 36\n",
       "2. 52\n",
       "3. 45\n",
       "4. 34\n",
       "5. 28\n",
       "6. 38\n",
       "7. 32\n",
       "8. 55\n",
       "9. 40\n",
       "10. 41\n",
       "11. 49\n",
       "12. 29\n",
       "13. 31\n",
       "14. 39\n",
       "15. 27\n",
       "16. 43\n",
       "17. 33\n",
       "18. 16\n",
       "19. 44\n",
       "20. 37\n",
       "21. 51\n",
       "22. 42\n",
       "23. 48\n",
       "24. 46\n",
       "25. 47\n",
       "26. 35\n",
       "27. 50\n",
       "28. 30\n",
       "29. 26\n",
       "30. 58\n",
       "31. 53\n",
       "32. 54\n",
       "33. 23\n",
       "34. 22\n",
       "35. 24\n",
       "36. 19\n",
       "37. 20\n",
       "38. 21\n",
       "39. 25\n",
       "40. 56\n",
       "41. 59\n",
       "42. 18\n",
       "\n",
       "\n"
      ],
      "text/plain": [
       " [1] 36 52 45 34 28 38 32 55 40 41 49 29 31 39 27 43 33 16 44 37 51 42 48 46 47\n",
       "[26] 35 50 30 26 58 53 54 23 22 24 19 20 21 25 56 59 18"
      ]
     },
     "metadata": {},
     "output_type": "display_data"
    },
    {
     "name": "stdout",
     "output_type": "stream",
     "text": [
      "[1] \"Cscore\"\n"
     ]
    },
    {
     "data": {
      "text/html": [
       "<ol class=list-inline>\n",
       "\t<li>42</li>\n",
       "\t<li>41</li>\n",
       "\t<li>34</li>\n",
       "\t<li>46</li>\n",
       "\t<li>50</li>\n",
       "\t<li>52</li>\n",
       "\t<li>48</li>\n",
       "\t<li>49</li>\n",
       "\t<li>43</li>\n",
       "\t<li>53</li>\n",
       "\t<li>38</li>\n",
       "\t<li>36</li>\n",
       "\t<li>59</li>\n",
       "\t<li>47</li>\n",
       "\t<li>31</li>\n",
       "\t<li>30</li>\n",
       "\t<li>33</li>\n",
       "\t<li>35</li>\n",
       "\t<li>51</li>\n",
       "\t<li>25</li>\n",
       "\t<li>37</li>\n",
       "\t<li>45</li>\n",
       "\t<li>39</li>\n",
       "\t<li>44</li>\n",
       "\t<li>27</li>\n",
       "\t<li>40</li>\n",
       "\t<li>29</li>\n",
       "\t<li>54</li>\n",
       "\t<li>55</li>\n",
       "\t<li>32</li>\n",
       "\t<li>56</li>\n",
       "\t<li>20</li>\n",
       "\t<li>28</li>\n",
       "\t<li>26</li>\n",
       "\t<li>22</li>\n",
       "\t<li>24</li>\n",
       "\t<li>23</li>\n",
       "\t<li>19</li>\n",
       "\t<li>17</li>\n",
       "\t<li>21</li>\n",
       "\t<li>57</li>\n",
       "</ol>\n"
      ],
      "text/latex": [
       "\\begin{enumerate*}\n",
       "\\item 42\n",
       "\\item 41\n",
       "\\item 34\n",
       "\\item 46\n",
       "\\item 50\n",
       "\\item 52\n",
       "\\item 48\n",
       "\\item 49\n",
       "\\item 43\n",
       "\\item 53\n",
       "\\item 38\n",
       "\\item 36\n",
       "\\item 59\n",
       "\\item 47\n",
       "\\item 31\n",
       "\\item 30\n",
       "\\item 33\n",
       "\\item 35\n",
       "\\item 51\n",
       "\\item 25\n",
       "\\item 37\n",
       "\\item 45\n",
       "\\item 39\n",
       "\\item 44\n",
       "\\item 27\n",
       "\\item 40\n",
       "\\item 29\n",
       "\\item 54\n",
       "\\item 55\n",
       "\\item 32\n",
       "\\item 56\n",
       "\\item 20\n",
       "\\item 28\n",
       "\\item 26\n",
       "\\item 22\n",
       "\\item 24\n",
       "\\item 23\n",
       "\\item 19\n",
       "\\item 17\n",
       "\\item 21\n",
       "\\item 57\n",
       "\\end{enumerate*}\n"
      ],
      "text/markdown": [
       "1. 42\n",
       "2. 41\n",
       "3. 34\n",
       "4. 46\n",
       "5. 50\n",
       "6. 52\n",
       "7. 48\n",
       "8. 49\n",
       "9. 43\n",
       "10. 53\n",
       "11. 38\n",
       "12. 36\n",
       "13. 59\n",
       "14. 47\n",
       "15. 31\n",
       "16. 30\n",
       "17. 33\n",
       "18. 35\n",
       "19. 51\n",
       "20. 25\n",
       "21. 37\n",
       "22. 45\n",
       "23. 39\n",
       "24. 44\n",
       "25. 27\n",
       "26. 40\n",
       "27. 29\n",
       "28. 54\n",
       "29. 55\n",
       "30. 32\n",
       "31. 56\n",
       "32. 20\n",
       "33. 28\n",
       "34. 26\n",
       "35. 22\n",
       "36. 24\n",
       "37. 23\n",
       "38. 19\n",
       "39. 17\n",
       "40. 21\n",
       "41. 57\n",
       "\n",
       "\n"
      ],
      "text/plain": [
       " [1] 42 41 34 46 50 52 48 49 43 53 38 36 59 47 31 30 33 35 51 25 37 45 39 44 27\n",
       "[26] 40 29 54 55 32 56 20 28 26 22 24 23 19 17 21 57"
      ]
     },
     "metadata": {},
     "output_type": "display_data"
    },
    {
     "name": "stdout",
     "output_type": "stream",
     "text": [
      "[1] \"Impulsive\"\n"
     ]
    },
    {
     "data": {
      "text/html": [
       "<ol class=list-inline>\n",
       "\t<li>0.1883</li>\n",
       "\t<li>0.1629</li>\n",
       "\t<li>0.1464</li>\n",
       "\t<li>0.1363</li>\n",
       "\t<li>0.1146</li>\n",
       "\t<li>0.0785</li>\n",
       "\t<li>0.0552</li>\n",
       "\t<li>0.0106</li>\n",
       "\t<li>0.1034</li>\n",
       "\t<li>0.0037</li>\n",
       "</ol>\n"
      ],
      "text/latex": [
       "\\begin{enumerate*}\n",
       "\\item 0.1883\n",
       "\\item 0.1629\n",
       "\\item 0.1464\n",
       "\\item 0.1363\n",
       "\\item 0.1146\n",
       "\\item 0.0785\n",
       "\\item 0.0552\n",
       "\\item 0.0106\n",
       "\\item 0.1034\n",
       "\\item 0.0037\n",
       "\\end{enumerate*}\n"
      ],
      "text/markdown": [
       "1. 0.1883\n",
       "2. 0.1629\n",
       "3. 0.1464\n",
       "4. 0.1363\n",
       "5. 0.1146\n",
       "6. 0.0785\n",
       "7. 0.0552\n",
       "8. 0.0106\n",
       "9. 0.1034\n",
       "10. 0.0037\n",
       "\n",
       "\n"
      ],
      "text/plain": [
       " [1] 0.1883 0.1629 0.1464 0.1363 0.1146 0.0785 0.0552 0.0106 0.1034 0.0037"
      ]
     },
     "metadata": {},
     "output_type": "display_data"
    },
    {
     "name": "stdout",
     "output_type": "stream",
     "text": [
      "[1] \"Sensation_seeking\"\n"
     ]
    },
    {
     "data": {
      "text/html": [
       "<ol class=list-inline>\n",
       "\t<li>0.07</li>\n",
       "\t<li>0.1183</li>\n",
       "\t<li>0.1321</li>\n",
       "\t<li>0.0462</li>\n",
       "\t<li>0.1162</li>\n",
       "\t<li>0.1119</li>\n",
       "\t<li>0.0897</li>\n",
       "\t<li>0.1114</li>\n",
       "\t<li>0.0377</li>\n",
       "\t<li>0.0546</li>\n",
       "</ol>\n"
      ],
      "text/latex": [
       "\\begin{enumerate*}\n",
       "\\item 0.07\n",
       "\\item 0.1183\n",
       "\\item 0.1321\n",
       "\\item 0.0462\n",
       "\\item 0.1162\n",
       "\\item 0.1119\n",
       "\\item 0.0897\n",
       "\\item 0.1114\n",
       "\\item 0.0377\n",
       "\\item 0.0546\n",
       "\\end{enumerate*}\n"
      ],
      "text/markdown": [
       "1. 0.07\n",
       "2. 0.1183\n",
       "3. 0.1321\n",
       "4. 0.0462\n",
       "5. 0.1162\n",
       "6. 0.1119\n",
       "7. 0.0897\n",
       "8. 0.1114\n",
       "9. 0.0377\n",
       "10. 0.0546\n",
       "\n",
       "\n"
      ],
      "text/plain": [
       " [1] 0.0700 0.1183 0.1321 0.0462 0.1162 0.1119 0.0897 0.1114 0.0377 0.0546"
      ]
     },
     "metadata": {},
     "output_type": "display_data"
    },
    {
     "name": "stdout",
     "output_type": "stream",
     "text": [
      "[1] \"Caffeine\"\n"
     ]
    },
    {
     "data": {
      "text/html": [
       "<ol class=list-inline>\n",
       "\t<li>7</li>\n",
       "\t<li>6</li>\n",
       "\t<li>5</li>\n",
       "\t<li>4</li>\n",
       "\t<li>1</li>\n",
       "\t<li>2</li>\n",
       "\t<li>3</li>\n",
       "</ol>\n"
      ],
      "text/latex": [
       "\\begin{enumerate*}\n",
       "\\item 7\n",
       "\\item 6\n",
       "\\item 5\n",
       "\\item 4\n",
       "\\item 1\n",
       "\\item 2\n",
       "\\item 3\n",
       "\\end{enumerate*}\n"
      ],
      "text/markdown": [
       "1. 7\n",
       "2. 6\n",
       "3. 5\n",
       "4. 4\n",
       "5. 1\n",
       "6. 2\n",
       "7. 3\n",
       "\n",
       "\n"
      ],
      "text/plain": [
       "[1] 7 6 5 4 1 2 3"
      ]
     },
     "metadata": {},
     "output_type": "display_data"
    },
    {
     "name": "stdout",
     "output_type": "stream",
     "text": [
      "[1] \"Cannabis\"\n"
     ]
    },
    {
     "data": {
      "text/html": [
       "<ol class=list-inline>\n",
       "\t<li>1</li>\n",
       "\t<li>5</li>\n",
       "\t<li>4</li>\n",
       "\t<li>3</li>\n",
       "\t<li>2</li>\n",
       "\t<li>7</li>\n",
       "\t<li>6</li>\n",
       "</ol>\n"
      ],
      "text/latex": [
       "\\begin{enumerate*}\n",
       "\\item 1\n",
       "\\item 5\n",
       "\\item 4\n",
       "\\item 3\n",
       "\\item 2\n",
       "\\item 7\n",
       "\\item 6\n",
       "\\end{enumerate*}\n"
      ],
      "text/markdown": [
       "1. 1\n",
       "2. 5\n",
       "3. 4\n",
       "4. 3\n",
       "5. 2\n",
       "6. 7\n",
       "7. 6\n",
       "\n",
       "\n"
      ],
      "text/plain": [
       "[1] 1 5 4 3 2 7 6"
      ]
     },
     "metadata": {},
     "output_type": "display_data"
    },
    {
     "name": "stdout",
     "output_type": "stream",
     "text": [
      "[1] \"Meth\"\n"
     ]
    },
    {
     "data": {
      "text/html": [
       "<ol class=list-inline>\n",
       "\t<li>1</li>\n",
       "\t<li>4</li>\n",
       "\t<li>2</li>\n",
       "\t<li>7</li>\n",
       "\t<li>5</li>\n",
       "\t<li>3</li>\n",
       "\t<li>6</li>\n",
       "</ol>\n"
      ],
      "text/latex": [
       "\\begin{enumerate*}\n",
       "\\item 1\n",
       "\\item 4\n",
       "\\item 2\n",
       "\\item 7\n",
       "\\item 5\n",
       "\\item 3\n",
       "\\item 6\n",
       "\\end{enumerate*}\n"
      ],
      "text/markdown": [
       "1. 1\n",
       "2. 4\n",
       "3. 2\n",
       "4. 7\n",
       "5. 5\n",
       "6. 3\n",
       "7. 6\n",
       "\n",
       "\n"
      ],
      "text/plain": [
       "[1] 1 4 2 7 5 3 6"
      ]
     },
     "metadata": {},
     "output_type": "display_data"
    }
   ],
   "source": [
    "# Inspecting the unique values of all the variables (note that R does no allow counting from 0 so all the levels of the labels are shifted +1)\n",
    "\n",
    "print(\"age\")\n",
    "unique(df$Age)\n",
    "print(\"gender\")\n",
    "unique(df$Gender)\n",
    "print(\"education\")\n",
    "unique(df$Education)\n",
    "print(\"Nscore\")\n",
    "unique(df$Nscore)\n",
    "print(\"Escore\")\n",
    "unique(df$Escore)\n",
    "print(\"Cscore\")\n",
    "unique(df$Cscore)\n",
    "print(\"Impulsive\")\n",
    "unique(df$Impulsive)\n",
    "print(\"Sensation_seeking\")\n",
    "unique(df$Sensation_seeking)\n",
    "print(\"Caffeine\")\n",
    "unique(df$Caffeine)\n",
    "print(\"Cannabis\")\n",
    "unique(df$Cannabis)\n",
    "print(\"Meth\")\n",
    "unique(df$Meth)"
   ]
  },
  {
   "cell_type": "code",
   "execution_count": 7,
   "metadata": {},
   "outputs": [
    {
     "name": "stdout",
     "output_type": "stream",
     "text": [
      "'data.frame':\t1413 obs. of  13 variables:\n",
      " $ Age              : num  3 1 2 1 1 2 4 1 1 2 ...\n",
      " $ Gender           : num  0 0 0 1 0 1 1 1 1 1 ...\n",
      " $ Education        : num  6 5 8 5 5 8 8 1 5 7 ...\n",
      " $ Nscore           : num  35 49 44 40 40 36 20 56 46 25 ...\n",
      " $ Escore           : num  34 38 36 33 31 48 50 35 29 45 ...\n",
      " $ Oscore           : num  46 48 32 44 43 60 46 48 49 55 ...\n",
      " $ Ascore           : num  47 42 37 46 49 39 53 39 43 56 ...\n",
      " $ Cscore           : num  44 28 44 41 41 42 50 41 35 49 ...\n",
      " $ Impulsive        : num  0.146 0.136 0.115 0.188 0.103 ...\n",
      " $ Sensation_seeking: num  0.0377 0.1183 0.1114 0.1119 0.1114 ...\n",
      " $ Caffeine         : num  7 6 7 6 7 7 7 5 6 7 ...\n",
      " $ Cannabis         : num  7 5 1 7 3 3 1 7 7 6 ...\n",
      " $ Meth             : num  1 1 1 4 1 1 1 4 5 1 ...\n",
      "'data.frame':\t472 obs. of  13 variables:\n",
      " $ Age              : num  3 3 2 5 5 4 5 3 4 3 ...\n",
      " $ Gender           : num  1 1 0 0 0 1 0 0 1 1 ...\n",
      " $ Education        : num  6 2 7 7 6 2 4 8 2 7 ...\n",
      " $ Nscore           : num  31 24 26 56 27 51 35 36 39 28 ...\n",
      " $ Escore           : num  45 52 45 41 49 16 28 29 34 31 ...\n",
      " $ Oscore           : num  40 40 38 49 49 37 24 41 37 46 ...\n",
      " $ Ascore           : num  32 41 38 32 39 45 38 45 33 46 ...\n",
      " $ Cscore           : num  34 52 53 36 52 34 46 50 37 42 ...\n",
      " $ Impulsive        : num  0.1464 0.1363 0.1363 0.0785 0.0785 ...\n",
      " $ Sensation_seeking: num  0.132 0.112 0.116 0.116 0.112 ...\n",
      " $ Caffeine         : num  7 7 7 7 7 7 7 5 7 7 ...\n",
      " $ Cannabis         : num  4 1 3 4 1 3 2 2 3 4 ...\n",
      " $ Meth             : num  1 1 1 2 1 1 1 1 2 1 ...\n"
     ]
    }
   ],
   "source": [
    "# Split our data into a training and testing set to be able to test how well it generalizes on unseen data\n",
    "\n",
    "# 75% of the sample size\n",
    "smp_size <- floor(0.75 * nrow(df))\n",
    "\n",
    "# set the seed to make our partition reproducible\n",
    "set.seed(1111)\n",
    "train_ind <- sample(seq_len(nrow(df)), size = smp_size)\n",
    "\n",
    "train <- df[train_ind, ]\n",
    "test <- df[-train_ind, ]\n",
    "\n",
    "# Inspect the train and test set\n",
    "\n",
    "str(train)\n",
    "str(test)"
   ]
  },
  {
   "cell_type": "code",
   "execution_count": 8,
   "metadata": {},
   "outputs": [
    {
     "data": {
      "image/png": "[encoded data removed]",
      "text/plain": [
       "plot without title"
      ]
     },
     "metadata": {},
     "output_type": "display_data"
    }
   ],
   "source": [
    "# Creating and plotting the DAG\n",
    "\n",
    "graph <- dagitty('dag {\n",
    "bb=\"0,0,1,1\"\n",
    "Age [pos=\"0.140,0.493\"]\n",
    "Ascore [pos=\"0.268,0.602\"]\n",
    "Caffeine [pos=\"0.696,0.299\"]\n",
    "Cannabis [pos=\"0.694,0.494\"]\n",
    "Cscore [pos=\"0.269,0.376\"]\n",
    "Education [pos=\"0.528,0.464\"]\n",
    "Escore [pos=\"0.266,0.476\"]\n",
    "Gender [pos=\"0.139,0.405\"]\n",
    "Impulsive [pos=\"0.457,0.742\"]\n",
    "Meth [pos=\"0.698,0.637\"]\n",
    "Nscore [pos=\"0.265,0.705\"]\n",
    "Oscore [pos=\"0.271,0.268\"]\n",
    "Sensation_seeking [pos=\"0.447,0.264\"]\n",
    "Age -> Ascore\n",
    "Age -> Caffeine\n",
    "Age -> Cannabis [pos=\"0.332,0.543\"]\n",
    "Age -> Cscore\n",
    "Age -> Education [pos=\"0.421,0.597\"]\n",
    "Age -> Escore\n",
    "Age -> Impulsive [pos=\"0.228,0.699\"]\n",
    "Age -> Meth [pos=\"0.450,0.644\"]\n",
    "Age -> Nscore\n",
    "Age -> Oscore\n",
    "Age -> Sensation_seeking [pos=\"0.366,0.404\"]\n",
    "Ascore -> Cannabis\n",
    "Ascore -> Meth [pos=\"0.429,0.676\"]\n",
    "Cannabis -> Meth\n",
    "Cscore -> Education\n",
    "Education -> Caffeine\n",
    "Education -> Cannabis\n",
    "Education -> Meth\n",
    "Escore -> Caffeine\n",
    "Escore -> Cannabis [pos=\"0.416,0.556\"]\n",
    "Escore -> Impulsive\n",
    "Escore -> Meth [pos=\"0.317,0.501\"]\n",
    "Gender -> Ascore\n",
    "Gender -> Cscore\n",
    "Gender -> Escore\n",
    "Gender -> Nscore\n",
    "Gender -> Oscore\n",
    "Impulsive -> Cannabis\n",
    "Impulsive -> Meth\n",
    "Nscore -> Cannabis\n",
    "Nscore -> Impulsive\n",
    "Nscore -> Meth\n",
    "Oscore -> Cannabis\n",
    "Oscore -> Education\n",
    "Oscore -> Impulsive\n",
    "Oscore -> Meth [pos=\"0.376,0.454\"]\n",
    "Oscore -> Sensation_seeking\n",
    "Sensation_seeking -> Cannabis\n",
    "Sensation_seeking -> Meth [pos=\"0.393,0.550\"]\n",
    "Cscore -> Impulsive\n",
    "Cscore -> Meth\n",
    "}\n",
    "')\n",
    "\n",
    "plot(graph)"
   ]
  },
  {
   "cell_type": "code",
   "execution_count": 9,
   "metadata": {},
   "outputs": [
    {
     "data": {
      "text/plain": [
       "\n",
       "  Bayesian network parameters\n",
       "\n",
       "  Parameters of node Age (Gaussian distribution)\n",
       "\n",
       "Conditional density: Age\n",
       "Coefficients:\n",
       "  (Intercept)  \n",
       "-9.397217e-17  \n",
       "Standard deviation of the residuals: 1 \n",
       "\n",
       "  Parameters of node Ascore (Gaussian distribution)\n",
       "\n",
       "Conditional density: Ascore | Age + Gender\n",
       "Coefficients:\n",
       "  (Intercept)            Age         Gender  \n",
       " 2.850629e-16   4.143554e-02  -2.074681e-01  \n",
       "Standard deviation of the residuals: 0.9774637 \n",
       "\n",
       "  Parameters of node Caffeine (Gaussian distribution)\n",
       "\n",
       "Conditional density: Caffeine | Age + Education + Escore\n",
       "Coefficients:\n",
       "  (Intercept)            Age      Education         Escore  \n",
       "-4.931712e-17   3.468024e-02   4.559263e-02   6.860927e-02  \n",
       "Standard deviation of the residuals: 0.9966852 \n",
       "\n",
       "  Parameters of node Cannabis (Gaussian distribution)\n",
       "\n",
       "Conditional density: Cannabis | Age + Ascore + Education + Escore + Impulsive + Nscore + Oscore + Sensation_seeking\n",
       "Coefficients:\n",
       "      (Intercept)                Age             Ascore          Education  \n",
       "    -8.898308e-17      -3.312330e-01      -1.035725e-01      -1.720425e-01  \n",
       "           Escore          Impulsive             Nscore             Oscore  \n",
       "    -1.183718e-01      -6.690488e-02      -4.367413e-02       3.547136e-01  \n",
       "Sensation_seeking  \n",
       "     1.080257e-01  \n",
       "Standard deviation of the residuals: 0.7883467 \n",
       "\n",
       "  Parameters of node Cscore (Gaussian distribution)\n",
       "\n",
       "Conditional density: Cscore | Age + Gender\n",
       "Coefficients:\n",
       "  (Intercept)            Age         Gender  \n",
       " 8.757677e-17   1.764797e-01  -1.590715e-01  \n",
       "Standard deviation of the residuals: 0.9701042 \n",
       "\n",
       "  Parameters of node Education (Gaussian distribution)\n",
       "\n",
       "Conditional density: Education | Age + Cscore + Oscore\n",
       "Coefficients:\n",
       "  (Intercept)            Age         Cscore         Oscore  \n",
       "-1.054020e-16   1.084995e-01   2.039699e-01   1.042019e-01  \n",
       "Standard deviation of the residuals: 0.9673761 \n",
       "\n",
       "  Parameters of node Escore (Gaussian distribution)\n",
       "\n",
       "Conditional density: Escore | Age + Gender\n",
       "Coefficients:\n",
       "  (Intercept)            Age         Gender  \n",
       "-1.511738e-16  -4.888375e-02  -5.390695e-02  \n",
       "Standard deviation of the residuals: 0.9982339 \n",
       "\n",
       "  Parameters of node Gender (Gaussian distribution)\n",
       "\n",
       "Conditional density: Gender\n",
       "Coefficients:\n",
       " (Intercept)  \n",
       "4.274319e-17  \n",
       "Standard deviation of the residuals: 1 \n",
       "\n",
       "  Parameters of node Impulsive (Gaussian distribution)\n",
       "\n",
       "Conditional density: Impulsive | Age + Cscore + Escore + Nscore + Oscore\n",
       "Coefficients:\n",
       "  (Intercept)            Age         Cscore         Escore         Nscore  \n",
       " 3.988922e-17   3.919559e-02   3.200801e-01  -2.018616e-01  -8.783392e-02  \n",
       "       Oscore  \n",
       "-4.983712e-02  \n",
       "Standard deviation of the residuals: 0.9333535 \n",
       "\n",
       "  Parameters of node Meth (Gaussian distribution)\n",
       "\n",
       "Conditional density: Meth | Age + Ascore + Cannabis + Cscore + Education + Escore + Impulsive + Nscore + Oscore + Sensation_seeking\n",
       "Coefficients:\n",
       "      (Intercept)                Age             Ascore           Cannabis  \n",
       "     2.102068e-16      -3.981888e-02      -6.953242e-02       1.928728e-01  \n",
       "           Cscore          Education             Escore          Impulsive  \n",
       "    -9.667867e-03      -7.918876e-02      -1.036201e-01      -4.794520e-02  \n",
       "           Nscore             Oscore  Sensation_seeking  \n",
       "     8.957648e-02       1.097753e-01      -2.799337e-02  \n",
       "Standard deviation of the residuals: 0.9292531 \n",
       "\n",
       "  Parameters of node Nscore (Gaussian distribution)\n",
       "\n",
       "Conditional density: Nscore | Age + Gender\n",
       "Coefficients:\n",
       "  (Intercept)            Age         Gender  \n",
       " 5.840234e-17  -1.366824e-01  -1.149818e-01  \n",
       "Standard deviation of the residuals: 0.9856929 \n",
       "\n",
       "  Parameters of node Oscore (Gaussian distribution)\n",
       "\n",
       "Conditional density: Oscore | Age + Gender\n",
       "Coefficients:\n",
       "  (Intercept)            Age         Gender  \n",
       " 8.673305e-17  -2.167015e-01   1.087244e-01  \n",
       "Standard deviation of the residuals: 0.9692141 \n",
       "\n",
       "  Parameters of node Sensation_seeking (Gaussian distribution)\n",
       "\n",
       "Conditional density: Sensation_seeking | Age + Oscore\n",
       "Coefficients:\n",
       "  (Intercept)            Age         Oscore  \n",
       "-2.398509e-17  -9.853967e-02   1.904875e-01  \n",
       "Standard deviation of the residuals: 0.9731061 \n"
      ]
     },
     "metadata": {},
     "output_type": "display_data"
    }
   ],
   "source": [
    "# Fitting the network on our training dataset\n",
    "\n",
    "network <- model2network(toString(graph,\"bnlearn\"))\n",
    "fit <- bn.fit(network, as.data.frame(scale(train)))\n",
    "\n",
    "# Inspecting our fit\n",
    "\n",
    "fit"
   ]
  },
  {
   "cell_type": "code",
   "execution_count": 10,
   "metadata": {},
   "outputs": [
    {
     "name": "stdout",
     "output_type": "stream",
     "text": [
      "[1] \"Average accuracy with entire network:\"\n"
     ]
    },
    {
     "data": {
      "text/html": [
       "0.22261818853021"
      ],
      "text/latex": [
       "0.22261818853021"
      ],
      "text/markdown": [
       "0.22261818853021"
      ],
      "text/plain": [
       "[1] 0.2226182"
      ]
     },
     "metadata": {},
     "output_type": "display_data"
    },
    {
     "name": "stdout",
     "output_type": "stream",
     "text": [
      "[1] \"Average accuracy with only parents:\"\n"
     ]
    },
    {
     "data": {
      "text/html": [
       "0.358099599085709"
      ],
      "text/latex": [
       "0.358099599085709"
      ],
      "text/markdown": [
       "0.358099599085709"
      ],
      "text/plain": [
       "[1] 0.3580996"
      ]
     },
     "metadata": {},
     "output_type": "display_data"
    }
   ],
   "source": [
    "# Predicting on the testing dataset with our fitted model (Cannabis)\n",
    "\n",
    "pred <- predict(fit,node=\"Cannabis\", data=test,method=\"bayes-lw\")\n",
    "\n",
    "accuracy <- mean(test$Cannabis - pred)\n",
    "print(\"Average accuracy with entire network:\")\n",
    "accuracy\n",
    "\n",
    "pred_parents <- predict(fit,node=\"Cannabis\", data=test)\n",
    "\n",
    "accuracy_par <- mean(test$Cannabis - pred_parents)\n",
    "print(\"Average accuracy with only parents:\")\n",
    "accuracy_par"
   ]
  },
  {
   "cell_type": "code",
   "execution_count": 11,
   "metadata": {},
   "outputs": [
    {
     "name": "stdout",
     "output_type": "stream",
     "text": [
      "[1] \"Average accuracy with entire network:\"\n"
     ]
    },
    {
     "data": {
      "text/html": [
       "0.921609601961085"
      ],
      "text/latex": [
       "0.921609601961085"
      ],
      "text/markdown": [
       "0.921609601961085"
      ],
      "text/plain": [
       "[1] 0.9216096"
      ]
     },
     "metadata": {},
     "output_type": "display_data"
    },
    {
     "name": "stdout",
     "output_type": "stream",
     "text": [
      "[1] \"Average accuracy with only parents:\"\n"
     ]
    },
    {
     "data": {
      "text/html": [
       "0.92270542127036"
      ],
      "text/latex": [
       "0.92270542127036"
      ],
      "text/markdown": [
       "0.92270542127036"
      ],
      "text/plain": [
       "[1] 0.9227054"
      ]
     },
     "metadata": {},
     "output_type": "display_data"
    }
   ],
   "source": [
    "# Predicting on the testing dataset with our fitted model (Meth)\n",
    "\n",
    "pred <- predict(fit,node=\"Meth\", data=test,method=\"bayes-lw\")\n",
    "\n",
    "accuracy <- mean(test$Meth - pred)\n",
    "print(\"Average accuracy with entire network:\")\n",
    "accuracy\n",
    "\n",
    "pred_parents <- predict(fit,node=\"Meth\", data=test)\n",
    "\n",
    "accuracy_par <- mean(test$Meth - pred_parents)\n",
    "print(\"Average accuracy with only parents:\")\n",
    "accuracy_par"
   ]
  },
  {
   "cell_type": "code",
   "execution_count": 12,
   "metadata": {},
   "outputs": [
    {
     "name": "stdout",
     "output_type": "stream",
     "text": [
      "[1] \"Average accuracy with entire network:\"\n"
     ]
    },
    {
     "data": {
      "text/html": [
       "3.44568198169845"
      ],
      "text/latex": [
       "3.44568198169845"
      ],
      "text/markdown": [
       "3.44568198169845"
      ],
      "text/plain": [
       "[1] 3.445682"
      ]
     },
     "metadata": {},
     "output_type": "display_data"
    },
    {
     "name": "stdout",
     "output_type": "stream",
     "text": [
      "[1] \"Average accuracy with only parents:\"\n"
     ]
    },
    {
     "data": {
      "text/html": [
       "3.44567262981293"
      ],
      "text/latex": [
       "3.44567262981293"
      ],
      "text/markdown": [
       "3.44567262981293"
      ],
      "text/plain": [
       "[1] 3.445673"
      ]
     },
     "metadata": {},
     "output_type": "display_data"
    }
   ],
   "source": [
    "# Predicting on the testing dataset with our fitted model (Caffeine)\n",
    "\n",
    "pred <- predict(fit,node=\"Caffeine\", data=test,method=\"bayes-lw\")\n",
    "\n",
    "accuracy <- mean(test$Caffeine - pred)\n",
    "print(\"Average accuracy with entire network:\")\n",
    "accuracy\n",
    "\n",
    "pred_parents <- predict(fit,node=\"Caffeine\", data=test)\n",
    "\n",
    "accuracy_par <- mean(test$Caffeine - pred_parents)\n",
    "print(\"Average accuracy with only parents:\")\n",
    "accuracy_par"
   ]
  },
  {
   "cell_type": "code",
   "execution_count": 13,
   "metadata": {},
   "outputs": [
    {
     "ename": "ERROR",
     "evalue": "Error in balancedSplit(df, 0.75): could not find function \"balancedSplit\"\n",
     "output_type": "error",
     "traceback": [
      "Error in balancedSplit(df, 0.75): could not find function \"balancedSplit\"\nTraceback:\n"
     ]
    }
   ],
   "source": [
    "balancedSplit(df, 0.75)"
   ]
  },
  {
   "cell_type": "code",
   "execution_count": 16,
   "metadata": {},
   "outputs": [
    {
     "name": "stderr",
     "output_type": "stream",
     "text": [
      "also installing the dependencies 'ellipsis', 'rlang', 'Rcpp', 'RcppArmadillo', 'zip', 'bit', 'vctrs', 'SparseM', 'MatrixModels', 'conquer', 'sp', 'openxlsx', 'minqa', 'nloptr', 'statmod', 'png', 'jpeg', 'bit64', 'blob', 'DBI', 'memoise', 'carData', 'pbkrtest', 'quantreg', 'maptools', 'rio', 'lme4', 'survival', 'latticeExtra', 'htmlTable', 'viridis', 'xfun', 'proto', 'RSQLite', 'chron', 'inum', 'fastmatch', 'TH.data', 'car', 'abind', 'Hmisc', 'e1071', 'readstata13', 'nortest', 'webshot', 'rmarkdown', 'sqldf', 'partykit', 'Formula', 'gsubfn', 'crosstalk', 'ParamHelpers', 'BBmisc', 'checkmate', 'data.table', 'parallelMap', 'XML', 'libcoin', 'matrixStats', 'multcomp', 'gtools', 'mice', 'RcmdrMisc', 'corrplot', 'classInt', 'moments', 'kableExtra', 'prettydoc', 'smbinning', 'gridExtra', 'DMwR', 'bitops', 'plotly', 'productplots', 'mlr', 'doParallel', 'FNN', 'RANN', 'mvtnorm', 'modeltools', 'strucchange', 'coin', 'sandwich', 'RcppEigen', 'gplots', 'globals', 'listenv', 'parallelly', 'dlookr', 'caTools', 'ggmosaic', 'unbalanced', 'party', 'ranger', 'MLmetrics', 'ROCR', 'future'\n",
      "\n"
     ]
    },
    {
     "name": "stdout",
     "output_type": "stream",
     "text": [
      "package 'ellipsis' successfully unpacked and MD5 sums checked\n",
      "package 'rlang' successfully unpacked and MD5 sums checked\n",
      "package 'Rcpp' successfully unpacked and MD5 sums checked\n"
     ]
    },
    {
     "name": "stderr",
     "output_type": "stream",
     "text": [
      "Warning message:\n",
      "\"cannot remove prior installation of package 'Rcpp'\"Warning message in file.copy(savedcopy, lib, recursive = TRUE):\n",
      "\"problem copying C:\\Users\\Lieuwe\\Anaconda3\\envs\\R-Environment\\Lib\\R\\library\\00LOCK\\Rcpp\\libs\\x64\\Rcpp.dll to C:\\Users\\Lieuwe\\Anaconda3\\envs\\R-Environment\\Lib\\R\\library\\Rcpp\\libs\\x64\\Rcpp.dll: Permission denied\"Warning message:\n",
      "\"restored 'Rcpp'\""
     ]
    },
    {
     "name": "stdout",
     "output_type": "stream",
     "text": [
      "package 'RcppArmadillo' successfully unpacked and MD5 sums checked\n",
      "package 'zip' successfully unpacked and MD5 sums checked\n",
      "package 'bit' successfully unpacked and MD5 sums checked\n",
      "package 'vctrs' successfully unpacked and MD5 sums checked\n",
      "package 'SparseM' successfully unpacked and MD5 sums checked\n",
      "package 'MatrixModels' successfully unpacked and MD5 sums checked\n",
      "package 'conquer' successfully unpacked and MD5 sums checked\n",
      "package 'sp' successfully unpacked and MD5 sums checked\n",
      "package 'openxlsx' successfully unpacked and MD5 sums checked\n",
      "package 'minqa' successfully unpacked and MD5 sums checked\n",
      "package 'nloptr' successfully unpacked and MD5 sums checked\n",
      "package 'statmod' successfully unpacked and MD5 sums checked\n",
      "package 'png' successfully unpacked and MD5 sums checked\n",
      "package 'jpeg' successfully unpacked and MD5 sums checked\n",
      "package 'bit64' successfully unpacked and MD5 sums checked\n",
      "package 'blob' successfully unpacked and MD5 sums checked\n",
      "package 'DBI' successfully unpacked and MD5 sums checked\n",
      "package 'memoise' successfully unpacked and MD5 sums checked\n",
      "package 'carData' successfully unpacked and MD5 sums checked\n",
      "package 'pbkrtest' successfully unpacked and MD5 sums checked\n",
      "package 'quantreg' successfully unpacked and MD5 sums checked\n",
      "package 'maptools' successfully unpacked and MD5 sums checked\n",
      "package 'rio' successfully unpacked and MD5 sums checked\n",
      "package 'lme4' successfully unpacked and MD5 sums checked\n",
      "package 'survival' successfully unpacked and MD5 sums checked\n",
      "package 'latticeExtra' successfully unpacked and MD5 sums checked\n",
      "package 'htmlTable' successfully unpacked and MD5 sums checked\n",
      "package 'viridis' successfully unpacked and MD5 sums checked\n",
      "package 'xfun' successfully unpacked and MD5 sums checked\n",
      "package 'proto' successfully unpacked and MD5 sums checked\n",
      "package 'RSQLite' successfully unpacked and MD5 sums checked\n",
      "package 'chron' successfully unpacked and MD5 sums checked\n",
      "package 'inum' successfully unpacked and MD5 sums checked\n",
      "package 'fastmatch' successfully unpacked and MD5 sums checked\n",
      "package 'TH.data' successfully unpacked and MD5 sums checked\n",
      "package 'car' successfully unpacked and MD5 sums checked\n",
      "package 'abind' successfully unpacked and MD5 sums checked\n",
      "package 'Hmisc' successfully unpacked and MD5 sums checked\n",
      "package 'e1071' successfully unpacked and MD5 sums checked\n",
      "package 'readstata13' successfully unpacked and MD5 sums checked\n",
      "package 'nortest' successfully unpacked and MD5 sums checked\n",
      "package 'webshot' successfully unpacked and MD5 sums checked\n",
      "package 'rmarkdown' successfully unpacked and MD5 sums checked\n",
      "package 'sqldf' successfully unpacked and MD5 sums checked\n",
      "package 'partykit' successfully unpacked and MD5 sums checked\n",
      "package 'Formula' successfully unpacked and MD5 sums checked\n",
      "package 'gsubfn' successfully unpacked and MD5 sums checked\n",
      "package 'crosstalk' successfully unpacked and MD5 sums checked\n",
      "package 'ParamHelpers' successfully unpacked and MD5 sums checked\n",
      "package 'BBmisc' successfully unpacked and MD5 sums checked\n",
      "package 'checkmate' successfully unpacked and MD5 sums checked\n",
      "package 'data.table' successfully unpacked and MD5 sums checked\n",
      "package 'parallelMap' successfully unpacked and MD5 sums checked\n",
      "package 'XML' successfully unpacked and MD5 sums checked\n",
      "package 'libcoin' successfully unpacked and MD5 sums checked\n",
      "package 'matrixStats' successfully unpacked and MD5 sums checked\n",
      "package 'multcomp' successfully unpacked and MD5 sums checked\n",
      "package 'gtools' successfully unpacked and MD5 sums checked\n",
      "package 'mice' successfully unpacked and MD5 sums checked\n",
      "package 'RcmdrMisc' successfully unpacked and MD5 sums checked\n",
      "package 'corrplot' successfully unpacked and MD5 sums checked\n",
      "package 'classInt' successfully unpacked and MD5 sums checked\n",
      "package 'moments' successfully unpacked and MD5 sums checked\n",
      "package 'kableExtra' successfully unpacked and MD5 sums checked\n",
      "package 'prettydoc' successfully unpacked and MD5 sums checked\n",
      "package 'smbinning' successfully unpacked and MD5 sums checked\n",
      "package 'gridExtra' successfully unpacked and MD5 sums checked\n",
      "package 'DMwR' successfully unpacked and MD5 sums checked\n",
      "package 'bitops' successfully unpacked and MD5 sums checked\n",
      "package 'plotly' successfully unpacked and MD5 sums checked\n",
      "package 'productplots' successfully unpacked and MD5 sums checked\n",
      "package 'mlr' successfully unpacked and MD5 sums checked\n",
      "package 'doParallel' successfully unpacked and MD5 sums checked\n",
      "package 'FNN' successfully unpacked and MD5 sums checked\n",
      "package 'RANN' successfully unpacked and MD5 sums checked\n",
      "package 'mvtnorm' successfully unpacked and MD5 sums checked\n",
      "package 'modeltools' successfully unpacked and MD5 sums checked\n",
      "package 'strucchange' successfully unpacked and MD5 sums checked\n",
      "package 'coin' successfully unpacked and MD5 sums checked\n",
      "package 'sandwich' successfully unpacked and MD5 sums checked\n",
      "package 'RcppEigen' successfully unpacked and MD5 sums checked\n",
      "package 'gplots' successfully unpacked and MD5 sums checked\n",
      "package 'globals' successfully unpacked and MD5 sums checked\n",
      "package 'listenv' successfully unpacked and MD5 sums checked\n",
      "package 'parallelly' successfully unpacked and MD5 sums checked\n",
      "package 'dlookr' successfully unpacked and MD5 sums checked\n",
      "package 'caTools' successfully unpacked and MD5 sums checked\n",
      "package 'ggmosaic' successfully unpacked and MD5 sums checked\n",
      "package 'unbalanced' successfully unpacked and MD5 sums checked\n",
      "package 'party' successfully unpacked and MD5 sums checked\n",
      "package 'ranger' successfully unpacked and MD5 sums checked\n",
      "package 'MLmetrics' successfully unpacked and MD5 sums checked\n",
      "package 'ROCR' successfully unpacked and MD5 sums checked\n",
      "package 'future' successfully unpacked and MD5 sums checked\n",
      "package 'alookr' successfully unpacked and MD5 sums checked\n",
      "\n",
      "The downloaded binary packages are in\n",
      "\tC:\\Users\\Lieuwe\\AppData\\Local\\Temp\\RtmpopvSkT\\downloaded_packages\n"
     ]
    }
   ],
   "source": [
    "#install.packages(\"alookr\")"
   ]
  },
  {
   "cell_type": "code",
   "execution_count": null,
   "metadata": {},
   "outputs": [],
   "source": [
    "library(alookr)\n",
    "library(dplyr)"
   ]
  },
  {
   "cell_type": "code",
   "execution_count": 29,
   "metadata": {},
   "outputs": [],
   "source": [
    "sb <- df %>%\n",
    "  split_by(Meth, seed = 6534)"
   ]
  },
  {
   "cell_type": "code",
   "execution_count": 35,
   "metadata": {},
   "outputs": [
    {
     "data": {
      "text/html": [
       "<table>\n",
       "<thead><tr><th scope=col>Age</th><th scope=col>Gender</th><th scope=col>Education</th><th scope=col>Nscore</th><th scope=col>Escore</th><th scope=col>Oscore</th><th scope=col>Ascore</th><th scope=col>Cscore</th><th scope=col>Impulsive</th><th scope=col>Sensation_seeking</th><th scope=col>Caffeine</th><th scope=col>Cannabis</th><th scope=col>Meth</th><th scope=col>split_flag</th></tr></thead>\n",
       "<tbody>\n",
       "\t<tr><td>3     </td><td>0     </td><td>6     </td><td>39    </td><td>36    </td><td>42    </td><td>37    </td><td>42    </td><td>0.1883</td><td>0.0700</td><td>7     </td><td>1     </td><td>1     </td><td>train </td></tr>\n",
       "\t<tr><td>2     </td><td>1     </td><td>9     </td><td>29    </td><td>52    </td><td>55    </td><td>48    </td><td>41    </td><td>0.1629</td><td>0.1183</td><td>7     </td><td>5     </td><td>4     </td><td>train </td></tr>\n",
       "\t<tr><td>3     </td><td>1     </td><td>6     </td><td>31    </td><td>45    </td><td>40    </td><td>32    </td><td>34    </td><td>0.1464</td><td>0.1321</td><td>7     </td><td>4     </td><td>1     </td><td>train </td></tr>\n",
       "\t<tr><td>1     </td><td>0     </td><td>8     </td><td>34    </td><td>34    </td><td>46    </td><td>47    </td><td>46    </td><td>0.1464</td><td>0.0700</td><td>6     </td><td>3     </td><td>1     </td><td>train </td></tr>\n",
       "\t<tr><td>3     </td><td>0     </td><td>9     </td><td>43    </td><td>28    </td><td>43    </td><td>41    </td><td>50    </td><td>0.1883</td><td>0.1183</td><td>7     </td><td>4     </td><td>1     </td><td>train </td></tr>\n",
       "\t<tr><td>6     </td><td>0     </td><td>4     </td><td>29    </td><td>38    </td><td>35    </td><td>55    </td><td>52    </td><td>0.1464</td><td>0.0462</td><td>7     </td><td>1     </td><td>1     </td><td>train </td></tr>\n",
       "\t<tr><td>4     </td><td>1     </td><td>8     </td><td>31    </td><td>32    </td><td>43    </td><td>41    </td><td>48    </td><td>0.1883</td><td>0.1162</td><td>7     </td><td>2     </td><td>1     </td><td>test  </td></tr>\n",
       "\t<tr><td>3     </td><td>1     </td><td>2     </td><td>24    </td><td>52    </td><td>40    </td><td>41    </td><td>52    </td><td>0.1363</td><td>0.1119</td><td>7     </td><td>1     </td><td>1     </td><td>train </td></tr>\n",
       "\t<tr><td>3     </td><td>0     </td><td>6     </td><td>42    </td><td>55    </td><td>39    </td><td>48    </td><td>49    </td><td>0.1464</td><td>0.0462</td><td>7     </td><td>1     </td><td>1     </td><td>train </td></tr>\n",
       "\t<tr><td>5     </td><td>1     </td><td>8     </td><td>33    </td><td>40    </td><td>36    </td><td>47    </td><td>43    </td><td>0.1464</td><td>0.0897</td><td>7     </td><td>2     </td><td>1     </td><td>train </td></tr>\n",
       "\t<tr><td>2     </td><td>0     </td><td>7     </td><td>26    </td><td>45    </td><td>38    </td><td>38    </td><td>53    </td><td>0.1363</td><td>0.1162</td><td>7     </td><td>3     </td><td>1     </td><td>train </td></tr>\n",
       "\t<tr><td>4     </td><td>1     </td><td>5     </td><td>24    </td><td>40    </td><td>47    </td><td>30    </td><td>38    </td><td>0.1146</td><td>0.1114</td><td>7     </td><td>5     </td><td>1     </td><td>test  </td></tr>\n",
       "\t<tr><td>5     </td><td>0     </td><td>7     </td><td>56    </td><td>41    </td><td>49    </td><td>32    </td><td>36    </td><td>0.0785</td><td>0.1162</td><td>7     </td><td>4     </td><td>2     </td><td>train </td></tr>\n",
       "\t<tr><td>5     </td><td>0     </td><td>6     </td><td>28    </td><td>45    </td><td>46    </td><td>49    </td><td>59    </td><td>0.1629</td><td>0.0897</td><td>6     </td><td>1     </td><td>1     </td><td>train </td></tr>\n",
       "\t<tr><td>5     </td><td>0     </td><td>6     </td><td>27    </td><td>49    </td><td>49    </td><td>39    </td><td>52    </td><td>0.0785</td><td>0.1119</td><td>7     </td><td>1     </td><td>1     </td><td>train </td></tr>\n",
       "\t<tr><td>5     </td><td>1     </td><td>7     </td><td>19    </td><td>29    </td><td>35    </td><td>36    </td><td>49    </td><td>0.1629</td><td>0.1119</td><td>7     </td><td>2     </td><td>1     </td><td>train </td></tr>\n",
       "\t<tr><td>3     </td><td>0     </td><td>5     </td><td>22    </td><td>34    </td><td>34    </td><td>45    </td><td>47    </td><td>0.1883</td><td>0.0377</td><td>7     </td><td>4     </td><td>1     </td><td>train </td></tr>\n",
       "\t<tr><td>4     </td><td>1     </td><td>2     </td><td>41    </td><td>31    </td><td>44    </td><td>40    </td><td>31    </td><td>0.1464</td><td>0.0897</td><td>7     </td><td>7     </td><td>1     </td><td>train </td></tr>\n",
       "\t<tr><td>5     </td><td>1     </td><td>7     </td><td>49    </td><td>39    </td><td>45    </td><td>30    </td><td>30    </td><td>0.1629</td><td>0.1183</td><td>7     </td><td>4     </td><td>1     </td><td>test  </td></tr>\n",
       "\t<tr><td>3     </td><td>1     </td><td>6     </td><td>32    </td><td>27    </td><td>29    </td><td>30    </td><td>47    </td><td>0.1464</td><td>0.0377</td><td>7     </td><td>2     </td><td>7     </td><td>test  </td></tr>\n",
       "\t<tr><td>4     </td><td>1     </td><td>6     </td><td>28    </td><td>45    </td><td>51    </td><td>53    </td><td>33    </td><td>0.1363</td><td>0.1183</td><td>7     </td><td>3     </td><td>1     </td><td>train </td></tr>\n",
       "\t<tr><td>6     </td><td>1     </td><td>1     </td><td>25    </td><td>43    </td><td>38    </td><td>39    </td><td>53    </td><td>0.1883</td><td>0.0700</td><td>7     </td><td>2     </td><td>1     </td><td>test  </td></tr>\n",
       "\t<tr><td>4     </td><td>1     </td><td>7     </td><td>40    </td><td>33    </td><td>40    </td><td>50    </td><td>35    </td><td>0.1629</td><td>0.1162</td><td>6     </td><td>1     </td><td>1     </td><td>test  </td></tr>\n",
       "\t<tr><td>4     </td><td>1     </td><td>2     </td><td>51    </td><td>16    </td><td>37    </td><td>45    </td><td>34    </td><td>0.1464</td><td>0.0462</td><td>7     </td><td>3     </td><td>1     </td><td>train </td></tr>\n",
       "\t<tr><td>5     </td><td>1     </td><td>7     </td><td>34    </td><td>44    </td><td>54    </td><td>48    </td><td>51    </td><td>0.1883</td><td>0.1119</td><td>6     </td><td>2     </td><td>1     </td><td>train </td></tr>\n",
       "\t<tr><td>4     </td><td>1     </td><td>5     </td><td>28    </td><td>37    </td><td>37    </td><td>49    </td><td>42    </td><td>0.1883</td><td>0.1321</td><td>7     </td><td>2     </td><td>1     </td><td>train </td></tr>\n",
       "\t<tr><td>5     </td><td>0     </td><td>4     </td><td>35    </td><td>28    </td><td>24    </td><td>38    </td><td>46    </td><td>0.1363</td><td>0.0462</td><td>7     </td><td>2     </td><td>1     </td><td>train </td></tr>\n",
       "\t<tr><td>3     </td><td>1     </td><td>7     </td><td>41    </td><td>31    </td><td>46    </td><td>43    </td><td>25    </td><td>0.0552</td><td>0.1321</td><td>7     </td><td>7     </td><td>1     </td><td>train </td></tr>\n",
       "\t<tr><td>3     </td><td>0     </td><td>8     </td><td>36    </td><td>29    </td><td>41    </td><td>45    </td><td>50    </td><td>0.1363</td><td>0.1119</td><td>5     </td><td>2     </td><td>1     </td><td>train </td></tr>\n",
       "\t<tr><td>4     </td><td>1     </td><td>9     </td><td>24    </td><td>51    </td><td>52    </td><td>49    </td><td>53    </td><td>0.1883</td><td>0.1119</td><td>7     </td><td>1     </td><td>1     </td><td>train </td></tr>\n",
       "\t<tr><td>...</td><td>...</td><td>...</td><td>...</td><td>...</td><td>...</td><td>...</td><td>...</td><td>...</td><td>...</td><td>...</td><td>...</td><td>...</td><td>...</td></tr>\n",
       "\t<tr><td>3     </td><td>1     </td><td>6     </td><td>25    </td><td>47    </td><td>50    </td><td>43    </td><td>43    </td><td>0.1629</td><td>0.1321</td><td>3     </td><td>5     </td><td>1     </td><td>train </td></tr>\n",
       "\t<tr><td>1     </td><td>1     </td><td>5     </td><td>39    </td><td>36    </td><td>44    </td><td>33    </td><td>35    </td><td>0.1464</td><td>0.1119</td><td>7     </td><td>5     </td><td>1     </td><td>train </td></tr>\n",
       "\t<tr><td>1     </td><td>1     </td><td>5     </td><td>52    </td><td>42    </td><td>56    </td><td>42    </td><td>28    </td><td>0.0037</td><td>0.1321</td><td>7     </td><td>6     </td><td>5     </td><td>train </td></tr>\n",
       "\t<tr><td>1     </td><td>1     </td><td>4     </td><td>33    </td><td>42    </td><td>49    </td><td>42    </td><td>41    </td><td>0.1034</td><td>0.1114</td><td>7     </td><td>7     </td><td>5     </td><td>train </td></tr>\n",
       "\t<tr><td>3     </td><td>1     </td><td>5     </td><td>32    </td><td>40    </td><td>51    </td><td>45    </td><td>43    </td><td>0.1883</td><td>0.1119</td><td>7     </td><td>7     </td><td>3     </td><td>test  </td></tr>\n",
       "\t<tr><td>5     </td><td>0     </td><td>7     </td><td>21    </td><td>32    </td><td>53    </td><td>40    </td><td>37    </td><td>0.1629</td><td>0.1162</td><td>7     </td><td>7     </td><td>7     </td><td>train </td></tr>\n",
       "\t<tr><td>2     </td><td>0     </td><td>7     </td><td>32    </td><td>40    </td><td>54    </td><td>42    </td><td>45    </td><td>0.1034</td><td>0.1321</td><td>7     </td><td>4     </td><td>5     </td><td>test  </td></tr>\n",
       "\t<tr><td>4     </td><td>1     </td><td>1     </td><td>43    </td><td>37    </td><td>49    </td><td>36    </td><td>44    </td><td>0.1146</td><td>0.1321</td><td>7     </td><td>7     </td><td>6     </td><td>train </td></tr>\n",
       "\t<tr><td>1     </td><td>0     </td><td>5     </td><td>42    </td><td>44    </td><td>60    </td><td>36    </td><td>48    </td><td>0.1034</td><td>0.1114</td><td>7     </td><td>7     </td><td>4     </td><td>test  </td></tr>\n",
       "\t<tr><td>2     </td><td>1     </td><td>5     </td><td>19    </td><td>40    </td><td>58    </td><td>37    </td><td>45    </td><td>0.1883</td><td>0.1321</td><td>6     </td><td>7     </td><td>1     </td><td>train </td></tr>\n",
       "\t<tr><td>1     </td><td>0     </td><td>6     </td><td>36    </td><td>40    </td><td>59    </td><td>39    </td><td>25    </td><td>0.1034</td><td>0.1114</td><td>7     </td><td>7     </td><td>4     </td><td>train </td></tr>\n",
       "\t<tr><td>1     </td><td>0     </td><td>7     </td><td>37    </td><td>34    </td><td>55    </td><td>45    </td><td>52    </td><td>0.1629</td><td>0.1183</td><td>7     </td><td>7     </td><td>1     </td><td>train </td></tr>\n",
       "\t<tr><td>1     </td><td>0     </td><td>5     </td><td>47    </td><td>37    </td><td>48    </td><td>38    </td><td>41    </td><td>0.0552</td><td>0.1183</td><td>7     </td><td>7     </td><td>1     </td><td>test  </td></tr>\n",
       "\t<tr><td>1     </td><td>1     </td><td>5     </td><td>30    </td><td>39    </td><td>48    </td><td>32    </td><td>31    </td><td>0.1363</td><td>0.1321</td><td>7     </td><td>7     </td><td>1     </td><td>test  </td></tr>\n",
       "\t<tr><td>1     </td><td>1     </td><td>5     </td><td>34    </td><td>47    </td><td>55    </td><td>41    </td><td>42    </td><td>0.1363</td><td>0.1119</td><td>6     </td><td>6     </td><td>5     </td><td>train </td></tr>\n",
       "\t<tr><td>2     </td><td>0     </td><td>7     </td><td>26    </td><td>46    </td><td>57    </td><td>54    </td><td>50    </td><td>0.1629</td><td>0.1162</td><td>7     </td><td>6     </td><td>1     </td><td>train </td></tr>\n",
       "\t<tr><td>1     </td><td>1     </td><td>4     </td><td>46    </td><td>37    </td><td>55    </td><td>36    </td><td>43    </td><td>0.1629</td><td>0.1321</td><td>7     </td><td>7     </td><td>4     </td><td>train </td></tr>\n",
       "\t<tr><td>1     </td><td>1     </td><td>5     </td><td>28    </td><td>40    </td><td>59    </td><td>48    </td><td>30    </td><td>0.1034</td><td>0.0546</td><td>6     </td><td>7     </td><td>1     </td><td>train </td></tr>\n",
       "\t<tr><td>1     </td><td>1     </td><td>3     </td><td>43    </td><td>31    </td><td>50    </td><td>39    </td><td>39    </td><td>0.1146</td><td>0.1321</td><td>7     </td><td>7     </td><td>3     </td><td>train </td></tr>\n",
       "\t<tr><td>6     </td><td>1     </td><td>5     </td><td>55    </td><td>39    </td><td>59    </td><td>49    </td><td>37    </td><td>0.1883</td><td>0.1162</td><td>7     </td><td>4     </td><td>1     </td><td>train </td></tr>\n",
       "\t<tr><td>1     </td><td>1     </td><td>5     </td><td>35    </td><td>27    </td><td>50    </td><td>38    </td><td>41    </td><td>0.0785</td><td>0.1114</td><td>6     </td><td>6     </td><td>1     </td><td>train </td></tr>\n",
       "\t<tr><td>2     </td><td>1     </td><td>5     </td><td>34    </td><td>36    </td><td>55    </td><td>37    </td><td>36    </td><td>0.1146</td><td>0.1321</td><td>6     </td><td>7     </td><td>1     </td><td>train </td></tr>\n",
       "\t<tr><td>1     </td><td>1     </td><td>3     </td><td>50    </td><td>26    </td><td>42    </td><td>31    </td><td>46    </td><td>0.1883</td><td>0.1114</td><td>7     </td><td>6     </td><td>7     </td><td>train </td></tr>\n",
       "\t<tr><td>1     </td><td>1     </td><td>7     </td><td>35    </td><td>27    </td><td>52    </td><td>38    </td><td>55    </td><td>0.1629</td><td>0.1183</td><td>3     </td><td>6     </td><td>1     </td><td>train </td></tr>\n",
       "\t<tr><td>1     </td><td>1     </td><td>5     </td><td>28    </td><td>42    </td><td>48    </td><td>41    </td><td>40    </td><td>0.1034</td><td>0.1119</td><td>6     </td><td>7     </td><td>5     </td><td>train </td></tr>\n",
       "\t<tr><td>1     </td><td>0     </td><td>5     </td><td>25    </td><td>51    </td><td>57    </td><td>48    </td><td>33    </td><td>0.1034</td><td>0.0546</td><td>5     </td><td>6     </td><td>1     </td><td>test  </td></tr>\n",
       "\t<tr><td>1     </td><td>1     </td><td>5     </td><td>33    </td><td>51    </td><td>50    </td><td>48    </td><td>30    </td><td>0.1034</td><td>0.1119</td><td>6     </td><td>4     </td><td>5     </td><td>train </td></tr>\n",
       "\t<tr><td>2     </td><td>0     </td><td>7     </td><td>47    </td><td>30    </td><td>37    </td><td>31    </td><td>31    </td><td>0.1146</td><td>0.1119</td><td>7     </td><td>7     </td><td>1     </td><td>train </td></tr>\n",
       "\t<tr><td>1     </td><td>0     </td><td>5     </td><td>45    </td><td>26    </td><td>48    </td><td>32    </td><td>22    </td><td>0.0785</td><td>0.1114</td><td>7     </td><td>7     </td><td>1     </td><td>train </td></tr>\n",
       "\t<tr><td>1     </td><td>1     </td><td>5     </td><td>31    </td><td>53    </td><td>56    </td><td>50    </td><td>45    </td><td>0.1034</td><td>0.1114</td><td>7     </td><td>4     </td><td>1     </td><td>train </td></tr>\n",
       "</tbody>\n",
       "</table>\n"
      ],
      "text/latex": [
       "\\begin{tabular}{r|llllllllllllll}\n",
       " Age & Gender & Education & Nscore & Escore & Oscore & Ascore & Cscore & Impulsive & Sensation\\_seeking & Caffeine & Cannabis & Meth & split\\_flag\\\\\n",
       "\\hline\n",
       "\t 3      & 0      & 6      & 39     & 36     & 42     & 37     & 42     & 0.1883 & 0.0700 & 7      & 1      & 1      & train \\\\\n",
       "\t 2      & 1      & 9      & 29     & 52     & 55     & 48     & 41     & 0.1629 & 0.1183 & 7      & 5      & 4      & train \\\\\n",
       "\t 3      & 1      & 6      & 31     & 45     & 40     & 32     & 34     & 0.1464 & 0.1321 & 7      & 4      & 1      & train \\\\\n",
       "\t 1      & 0      & 8      & 34     & 34     & 46     & 47     & 46     & 0.1464 & 0.0700 & 6      & 3      & 1      & train \\\\\n",
       "\t 3      & 0      & 9      & 43     & 28     & 43     & 41     & 50     & 0.1883 & 0.1183 & 7      & 4      & 1      & train \\\\\n",
       "\t 6      & 0      & 4      & 29     & 38     & 35     & 55     & 52     & 0.1464 & 0.0462 & 7      & 1      & 1      & train \\\\\n",
       "\t 4      & 1      & 8      & 31     & 32     & 43     & 41     & 48     & 0.1883 & 0.1162 & 7      & 2      & 1      & test  \\\\\n",
       "\t 3      & 1      & 2      & 24     & 52     & 40     & 41     & 52     & 0.1363 & 0.1119 & 7      & 1      & 1      & train \\\\\n",
       "\t 3      & 0      & 6      & 42     & 55     & 39     & 48     & 49     & 0.1464 & 0.0462 & 7      & 1      & 1      & train \\\\\n",
       "\t 5      & 1      & 8      & 33     & 40     & 36     & 47     & 43     & 0.1464 & 0.0897 & 7      & 2      & 1      & train \\\\\n",
       "\t 2      & 0      & 7      & 26     & 45     & 38     & 38     & 53     & 0.1363 & 0.1162 & 7      & 3      & 1      & train \\\\\n",
       "\t 4      & 1      & 5      & 24     & 40     & 47     & 30     & 38     & 0.1146 & 0.1114 & 7      & 5      & 1      & test  \\\\\n",
       "\t 5      & 0      & 7      & 56     & 41     & 49     & 32     & 36     & 0.0785 & 0.1162 & 7      & 4      & 2      & train \\\\\n",
       "\t 5      & 0      & 6      & 28     & 45     & 46     & 49     & 59     & 0.1629 & 0.0897 & 6      & 1      & 1      & train \\\\\n",
       "\t 5      & 0      & 6      & 27     & 49     & 49     & 39     & 52     & 0.0785 & 0.1119 & 7      & 1      & 1      & train \\\\\n",
       "\t 5      & 1      & 7      & 19     & 29     & 35     & 36     & 49     & 0.1629 & 0.1119 & 7      & 2      & 1      & train \\\\\n",
       "\t 3      & 0      & 5      & 22     & 34     & 34     & 45     & 47     & 0.1883 & 0.0377 & 7      & 4      & 1      & train \\\\\n",
       "\t 4      & 1      & 2      & 41     & 31     & 44     & 40     & 31     & 0.1464 & 0.0897 & 7      & 7      & 1      & train \\\\\n",
       "\t 5      & 1      & 7      & 49     & 39     & 45     & 30     & 30     & 0.1629 & 0.1183 & 7      & 4      & 1      & test  \\\\\n",
       "\t 3      & 1      & 6      & 32     & 27     & 29     & 30     & 47     & 0.1464 & 0.0377 & 7      & 2      & 7      & test  \\\\\n",
       "\t 4      & 1      & 6      & 28     & 45     & 51     & 53     & 33     & 0.1363 & 0.1183 & 7      & 3      & 1      & train \\\\\n",
       "\t 6      & 1      & 1      & 25     & 43     & 38     & 39     & 53     & 0.1883 & 0.0700 & 7      & 2      & 1      & test  \\\\\n",
       "\t 4      & 1      & 7      & 40     & 33     & 40     & 50     & 35     & 0.1629 & 0.1162 & 6      & 1      & 1      & test  \\\\\n",
       "\t 4      & 1      & 2      & 51     & 16     & 37     & 45     & 34     & 0.1464 & 0.0462 & 7      & 3      & 1      & train \\\\\n",
       "\t 5      & 1      & 7      & 34     & 44     & 54     & 48     & 51     & 0.1883 & 0.1119 & 6      & 2      & 1      & train \\\\\n",
       "\t 4      & 1      & 5      & 28     & 37     & 37     & 49     & 42     & 0.1883 & 0.1321 & 7      & 2      & 1      & train \\\\\n",
       "\t 5      & 0      & 4      & 35     & 28     & 24     & 38     & 46     & 0.1363 & 0.0462 & 7      & 2      & 1      & train \\\\\n",
       "\t 3      & 1      & 7      & 41     & 31     & 46     & 43     & 25     & 0.0552 & 0.1321 & 7      & 7      & 1      & train \\\\\n",
       "\t 3      & 0      & 8      & 36     & 29     & 41     & 45     & 50     & 0.1363 & 0.1119 & 5      & 2      & 1      & train \\\\\n",
       "\t 4      & 1      & 9      & 24     & 51     & 52     & 49     & 53     & 0.1883 & 0.1119 & 7      & 1      & 1      & train \\\\\n",
       "\t ... & ... & ... & ... & ... & ... & ... & ... & ... & ... & ... & ... & ... & ...\\\\\n",
       "\t 3      & 1      & 6      & 25     & 47     & 50     & 43     & 43     & 0.1629 & 0.1321 & 3      & 5      & 1      & train \\\\\n",
       "\t 1      & 1      & 5      & 39     & 36     & 44     & 33     & 35     & 0.1464 & 0.1119 & 7      & 5      & 1      & train \\\\\n",
       "\t 1      & 1      & 5      & 52     & 42     & 56     & 42     & 28     & 0.0037 & 0.1321 & 7      & 6      & 5      & train \\\\\n",
       "\t 1      & 1      & 4      & 33     & 42     & 49     & 42     & 41     & 0.1034 & 0.1114 & 7      & 7      & 5      & train \\\\\n",
       "\t 3      & 1      & 5      & 32     & 40     & 51     & 45     & 43     & 0.1883 & 0.1119 & 7      & 7      & 3      & test  \\\\\n",
       "\t 5      & 0      & 7      & 21     & 32     & 53     & 40     & 37     & 0.1629 & 0.1162 & 7      & 7      & 7      & train \\\\\n",
       "\t 2      & 0      & 7      & 32     & 40     & 54     & 42     & 45     & 0.1034 & 0.1321 & 7      & 4      & 5      & test  \\\\\n",
       "\t 4      & 1      & 1      & 43     & 37     & 49     & 36     & 44     & 0.1146 & 0.1321 & 7      & 7      & 6      & train \\\\\n",
       "\t 1      & 0      & 5      & 42     & 44     & 60     & 36     & 48     & 0.1034 & 0.1114 & 7      & 7      & 4      & test  \\\\\n",
       "\t 2      & 1      & 5      & 19     & 40     & 58     & 37     & 45     & 0.1883 & 0.1321 & 6      & 7      & 1      & train \\\\\n",
       "\t 1      & 0      & 6      & 36     & 40     & 59     & 39     & 25     & 0.1034 & 0.1114 & 7      & 7      & 4      & train \\\\\n",
       "\t 1      & 0      & 7      & 37     & 34     & 55     & 45     & 52     & 0.1629 & 0.1183 & 7      & 7      & 1      & train \\\\\n",
       "\t 1      & 0      & 5      & 47     & 37     & 48     & 38     & 41     & 0.0552 & 0.1183 & 7      & 7      & 1      & test  \\\\\n",
       "\t 1      & 1      & 5      & 30     & 39     & 48     & 32     & 31     & 0.1363 & 0.1321 & 7      & 7      & 1      & test  \\\\\n",
       "\t 1      & 1      & 5      & 34     & 47     & 55     & 41     & 42     & 0.1363 & 0.1119 & 6      & 6      & 5      & train \\\\\n",
       "\t 2      & 0      & 7      & 26     & 46     & 57     & 54     & 50     & 0.1629 & 0.1162 & 7      & 6      & 1      & train \\\\\n",
       "\t 1      & 1      & 4      & 46     & 37     & 55     & 36     & 43     & 0.1629 & 0.1321 & 7      & 7      & 4      & train \\\\\n",
       "\t 1      & 1      & 5      & 28     & 40     & 59     & 48     & 30     & 0.1034 & 0.0546 & 6      & 7      & 1      & train \\\\\n",
       "\t 1      & 1      & 3      & 43     & 31     & 50     & 39     & 39     & 0.1146 & 0.1321 & 7      & 7      & 3      & train \\\\\n",
       "\t 6      & 1      & 5      & 55     & 39     & 59     & 49     & 37     & 0.1883 & 0.1162 & 7      & 4      & 1      & train \\\\\n",
       "\t 1      & 1      & 5      & 35     & 27     & 50     & 38     & 41     & 0.0785 & 0.1114 & 6      & 6      & 1      & train \\\\\n",
       "\t 2      & 1      & 5      & 34     & 36     & 55     & 37     & 36     & 0.1146 & 0.1321 & 6      & 7      & 1      & train \\\\\n",
       "\t 1      & 1      & 3      & 50     & 26     & 42     & 31     & 46     & 0.1883 & 0.1114 & 7      & 6      & 7      & train \\\\\n",
       "\t 1      & 1      & 7      & 35     & 27     & 52     & 38     & 55     & 0.1629 & 0.1183 & 3      & 6      & 1      & train \\\\\n",
       "\t 1      & 1      & 5      & 28     & 42     & 48     & 41     & 40     & 0.1034 & 0.1119 & 6      & 7      & 5      & train \\\\\n",
       "\t 1      & 0      & 5      & 25     & 51     & 57     & 48     & 33     & 0.1034 & 0.0546 & 5      & 6      & 1      & test  \\\\\n",
       "\t 1      & 1      & 5      & 33     & 51     & 50     & 48     & 30     & 0.1034 & 0.1119 & 6      & 4      & 5      & train \\\\\n",
       "\t 2      & 0      & 7      & 47     & 30     & 37     & 31     & 31     & 0.1146 & 0.1119 & 7      & 7      & 1      & train \\\\\n",
       "\t 1      & 0      & 5      & 45     & 26     & 48     & 32     & 22     & 0.0785 & 0.1114 & 7      & 7      & 1      & train \\\\\n",
       "\t 1      & 1      & 5      & 31     & 53     & 56     & 50     & 45     & 0.1034 & 0.1114 & 7      & 4      & 1      & train \\\\\n",
       "\\end{tabular}\n"
      ],
      "text/markdown": [
       "\n",
       "| Age | Gender | Education | Nscore | Escore | Oscore | Ascore | Cscore | Impulsive | Sensation_seeking | Caffeine | Cannabis | Meth | split_flag |\n",
       "|---|---|---|---|---|---|---|---|---|---|---|---|---|---|\n",
       "| 3      | 0      | 6      | 39     | 36     | 42     | 37     | 42     | 0.1883 | 0.0700 | 7      | 1      | 1      | train  |\n",
       "| 2      | 1      | 9      | 29     | 52     | 55     | 48     | 41     | 0.1629 | 0.1183 | 7      | 5      | 4      | train  |\n",
       "| 3      | 1      | 6      | 31     | 45     | 40     | 32     | 34     | 0.1464 | 0.1321 | 7      | 4      | 1      | train  |\n",
       "| 1      | 0      | 8      | 34     | 34     | 46     | 47     | 46     | 0.1464 | 0.0700 | 6      | 3      | 1      | train  |\n",
       "| 3      | 0      | 9      | 43     | 28     | 43     | 41     | 50     | 0.1883 | 0.1183 | 7      | 4      | 1      | train  |\n",
       "| 6      | 0      | 4      | 29     | 38     | 35     | 55     | 52     | 0.1464 | 0.0462 | 7      | 1      | 1      | train  |\n",
       "| 4      | 1      | 8      | 31     | 32     | 43     | 41     | 48     | 0.1883 | 0.1162 | 7      | 2      | 1      | test   |\n",
       "| 3      | 1      | 2      | 24     | 52     | 40     | 41     | 52     | 0.1363 | 0.1119 | 7      | 1      | 1      | train  |\n",
       "| 3      | 0      | 6      | 42     | 55     | 39     | 48     | 49     | 0.1464 | 0.0462 | 7      | 1      | 1      | train  |\n",
       "| 5      | 1      | 8      | 33     | 40     | 36     | 47     | 43     | 0.1464 | 0.0897 | 7      | 2      | 1      | train  |\n",
       "| 2      | 0      | 7      | 26     | 45     | 38     | 38     | 53     | 0.1363 | 0.1162 | 7      | 3      | 1      | train  |\n",
       "| 4      | 1      | 5      | 24     | 40     | 47     | 30     | 38     | 0.1146 | 0.1114 | 7      | 5      | 1      | test   |\n",
       "| 5      | 0      | 7      | 56     | 41     | 49     | 32     | 36     | 0.0785 | 0.1162 | 7      | 4      | 2      | train  |\n",
       "| 5      | 0      | 6      | 28     | 45     | 46     | 49     | 59     | 0.1629 | 0.0897 | 6      | 1      | 1      | train  |\n",
       "| 5      | 0      | 6      | 27     | 49     | 49     | 39     | 52     | 0.0785 | 0.1119 | 7      | 1      | 1      | train  |\n",
       "| 5      | 1      | 7      | 19     | 29     | 35     | 36     | 49     | 0.1629 | 0.1119 | 7      | 2      | 1      | train  |\n",
       "| 3      | 0      | 5      | 22     | 34     | 34     | 45     | 47     | 0.1883 | 0.0377 | 7      | 4      | 1      | train  |\n",
       "| 4      | 1      | 2      | 41     | 31     | 44     | 40     | 31     | 0.1464 | 0.0897 | 7      | 7      | 1      | train  |\n",
       "| 5      | 1      | 7      | 49     | 39     | 45     | 30     | 30     | 0.1629 | 0.1183 | 7      | 4      | 1      | test   |\n",
       "| 3      | 1      | 6      | 32     | 27     | 29     | 30     | 47     | 0.1464 | 0.0377 | 7      | 2      | 7      | test   |\n",
       "| 4      | 1      | 6      | 28     | 45     | 51     | 53     | 33     | 0.1363 | 0.1183 | 7      | 3      | 1      | train  |\n",
       "| 6      | 1      | 1      | 25     | 43     | 38     | 39     | 53     | 0.1883 | 0.0700 | 7      | 2      | 1      | test   |\n",
       "| 4      | 1      | 7      | 40     | 33     | 40     | 50     | 35     | 0.1629 | 0.1162 | 6      | 1      | 1      | test   |\n",
       "| 4      | 1      | 2      | 51     | 16     | 37     | 45     | 34     | 0.1464 | 0.0462 | 7      | 3      | 1      | train  |\n",
       "| 5      | 1      | 7      | 34     | 44     | 54     | 48     | 51     | 0.1883 | 0.1119 | 6      | 2      | 1      | train  |\n",
       "| 4      | 1      | 5      | 28     | 37     | 37     | 49     | 42     | 0.1883 | 0.1321 | 7      | 2      | 1      | train  |\n",
       "| 5      | 0      | 4      | 35     | 28     | 24     | 38     | 46     | 0.1363 | 0.0462 | 7      | 2      | 1      | train  |\n",
       "| 3      | 1      | 7      | 41     | 31     | 46     | 43     | 25     | 0.0552 | 0.1321 | 7      | 7      | 1      | train  |\n",
       "| 3      | 0      | 8      | 36     | 29     | 41     | 45     | 50     | 0.1363 | 0.1119 | 5      | 2      | 1      | train  |\n",
       "| 4      | 1      | 9      | 24     | 51     | 52     | 49     | 53     | 0.1883 | 0.1119 | 7      | 1      | 1      | train  |\n",
       "| ... | ... | ... | ... | ... | ... | ... | ... | ... | ... | ... | ... | ... | ... |\n",
       "| 3      | 1      | 6      | 25     | 47     | 50     | 43     | 43     | 0.1629 | 0.1321 | 3      | 5      | 1      | train  |\n",
       "| 1      | 1      | 5      | 39     | 36     | 44     | 33     | 35     | 0.1464 | 0.1119 | 7      | 5      | 1      | train  |\n",
       "| 1      | 1      | 5      | 52     | 42     | 56     | 42     | 28     | 0.0037 | 0.1321 | 7      | 6      | 5      | train  |\n",
       "| 1      | 1      | 4      | 33     | 42     | 49     | 42     | 41     | 0.1034 | 0.1114 | 7      | 7      | 5      | train  |\n",
       "| 3      | 1      | 5      | 32     | 40     | 51     | 45     | 43     | 0.1883 | 0.1119 | 7      | 7      | 3      | test   |\n",
       "| 5      | 0      | 7      | 21     | 32     | 53     | 40     | 37     | 0.1629 | 0.1162 | 7      | 7      | 7      | train  |\n",
       "| 2      | 0      | 7      | 32     | 40     | 54     | 42     | 45     | 0.1034 | 0.1321 | 7      | 4      | 5      | test   |\n",
       "| 4      | 1      | 1      | 43     | 37     | 49     | 36     | 44     | 0.1146 | 0.1321 | 7      | 7      | 6      | train  |\n",
       "| 1      | 0      | 5      | 42     | 44     | 60     | 36     | 48     | 0.1034 | 0.1114 | 7      | 7      | 4      | test   |\n",
       "| 2      | 1      | 5      | 19     | 40     | 58     | 37     | 45     | 0.1883 | 0.1321 | 6      | 7      | 1      | train  |\n",
       "| 1      | 0      | 6      | 36     | 40     | 59     | 39     | 25     | 0.1034 | 0.1114 | 7      | 7      | 4      | train  |\n",
       "| 1      | 0      | 7      | 37     | 34     | 55     | 45     | 52     | 0.1629 | 0.1183 | 7      | 7      | 1      | train  |\n",
       "| 1      | 0      | 5      | 47     | 37     | 48     | 38     | 41     | 0.0552 | 0.1183 | 7      | 7      | 1      | test   |\n",
       "| 1      | 1      | 5      | 30     | 39     | 48     | 32     | 31     | 0.1363 | 0.1321 | 7      | 7      | 1      | test   |\n",
       "| 1      | 1      | 5      | 34     | 47     | 55     | 41     | 42     | 0.1363 | 0.1119 | 6      | 6      | 5      | train  |\n",
       "| 2      | 0      | 7      | 26     | 46     | 57     | 54     | 50     | 0.1629 | 0.1162 | 7      | 6      | 1      | train  |\n",
       "| 1      | 1      | 4      | 46     | 37     | 55     | 36     | 43     | 0.1629 | 0.1321 | 7      | 7      | 4      | train  |\n",
       "| 1      | 1      | 5      | 28     | 40     | 59     | 48     | 30     | 0.1034 | 0.0546 | 6      | 7      | 1      | train  |\n",
       "| 1      | 1      | 3      | 43     | 31     | 50     | 39     | 39     | 0.1146 | 0.1321 | 7      | 7      | 3      | train  |\n",
       "| 6      | 1      | 5      | 55     | 39     | 59     | 49     | 37     | 0.1883 | 0.1162 | 7      | 4      | 1      | train  |\n",
       "| 1      | 1      | 5      | 35     | 27     | 50     | 38     | 41     | 0.0785 | 0.1114 | 6      | 6      | 1      | train  |\n",
       "| 2      | 1      | 5      | 34     | 36     | 55     | 37     | 36     | 0.1146 | 0.1321 | 6      | 7      | 1      | train  |\n",
       "| 1      | 1      | 3      | 50     | 26     | 42     | 31     | 46     | 0.1883 | 0.1114 | 7      | 6      | 7      | train  |\n",
       "| 1      | 1      | 7      | 35     | 27     | 52     | 38     | 55     | 0.1629 | 0.1183 | 3      | 6      | 1      | train  |\n",
       "| 1      | 1      | 5      | 28     | 42     | 48     | 41     | 40     | 0.1034 | 0.1119 | 6      | 7      | 5      | train  |\n",
       "| 1      | 0      | 5      | 25     | 51     | 57     | 48     | 33     | 0.1034 | 0.0546 | 5      | 6      | 1      | test   |\n",
       "| 1      | 1      | 5      | 33     | 51     | 50     | 48     | 30     | 0.1034 | 0.1119 | 6      | 4      | 5      | train  |\n",
       "| 2      | 0      | 7      | 47     | 30     | 37     | 31     | 31     | 0.1146 | 0.1119 | 7      | 7      | 1      | train  |\n",
       "| 1      | 0      | 5      | 45     | 26     | 48     | 32     | 22     | 0.0785 | 0.1114 | 7      | 7      | 1      | train  |\n",
       "| 1      | 1      | 5      | 31     | 53     | 56     | 50     | 45     | 0.1034 | 0.1114 | 7      | 4      | 1      | train  |\n",
       "\n"
      ],
      "text/plain": [
       "     Age Gender Education Nscore Escore Oscore Ascore Cscore Impulsive\n",
       "1    3   0      6         39     36     42     37     42     0.1883   \n",
       "2    2   1      9         29     52     55     48     41     0.1629   \n",
       "3    3   1      6         31     45     40     32     34     0.1464   \n",
       "4    1   0      8         34     34     46     47     46     0.1464   \n",
       "5    3   0      9         43     28     43     41     50     0.1883   \n",
       "6    6   0      4         29     38     35     55     52     0.1464   \n",
       "7    4   1      8         31     32     43     41     48     0.1883   \n",
       "8    3   1      2         24     52     40     41     52     0.1363   \n",
       "9    3   0      6         42     55     39     48     49     0.1464   \n",
       "10   5   1      8         33     40     36     47     43     0.1464   \n",
       "11   2   0      7         26     45     38     38     53     0.1363   \n",
       "12   4   1      5         24     40     47     30     38     0.1146   \n",
       "13   5   0      7         56     41     49     32     36     0.0785   \n",
       "14   5   0      6         28     45     46     49     59     0.1629   \n",
       "15   5   0      6         27     49     49     39     52     0.0785   \n",
       "16   5   1      7         19     29     35     36     49     0.1629   \n",
       "17   3   0      5         22     34     34     45     47     0.1883   \n",
       "18   4   1      2         41     31     44     40     31     0.1464   \n",
       "19   5   1      7         49     39     45     30     30     0.1629   \n",
       "20   3   1      6         32     27     29     30     47     0.1464   \n",
       "21   4   1      6         28     45     51     53     33     0.1363   \n",
       "22   6   1      1         25     43     38     39     53     0.1883   \n",
       "23   4   1      7         40     33     40     50     35     0.1629   \n",
       "24   4   1      2         51     16     37     45     34     0.1464   \n",
       "25   5   1      7         34     44     54     48     51     0.1883   \n",
       "26   4   1      5         28     37     37     49     42     0.1883   \n",
       "27   5   0      4         35     28     24     38     46     0.1363   \n",
       "28   3   1      7         41     31     46     43     25     0.0552   \n",
       "29   3   0      8         36     29     41     45     50     0.1363   \n",
       "30   4   1      9         24     51     52     49     53     0.1883   \n",
       "...  ... ...    ...       ...    ...    ...    ...    ...    ...      \n",
       "1856 3   1      6         25     47     50     43     43     0.1629   \n",
       "1857 1   1      5         39     36     44     33     35     0.1464   \n",
       "1858 1   1      5         52     42     56     42     28     0.0037   \n",
       "1859 1   1      4         33     42     49     42     41     0.1034   \n",
       "1860 3   1      5         32     40     51     45     43     0.1883   \n",
       "1861 5   0      7         21     32     53     40     37     0.1629   \n",
       "1862 2   0      7         32     40     54     42     45     0.1034   \n",
       "1863 4   1      1         43     37     49     36     44     0.1146   \n",
       "1864 1   0      5         42     44     60     36     48     0.1034   \n",
       "1865 2   1      5         19     40     58     37     45     0.1883   \n",
       "1866 1   0      6         36     40     59     39     25     0.1034   \n",
       "1867 1   0      7         37     34     55     45     52     0.1629   \n",
       "1868 1   0      5         47     37     48     38     41     0.0552   \n",
       "1869 1   1      5         30     39     48     32     31     0.1363   \n",
       "1870 1   1      5         34     47     55     41     42     0.1363   \n",
       "1871 2   0      7         26     46     57     54     50     0.1629   \n",
       "1872 1   1      4         46     37     55     36     43     0.1629   \n",
       "1873 1   1      5         28     40     59     48     30     0.1034   \n",
       "1874 1   1      3         43     31     50     39     39     0.1146   \n",
       "1875 6   1      5         55     39     59     49     37     0.1883   \n",
       "1876 1   1      5         35     27     50     38     41     0.0785   \n",
       "1877 2   1      5         34     36     55     37     36     0.1146   \n",
       "1878 1   1      3         50     26     42     31     46     0.1883   \n",
       "1879 1   1      7         35     27     52     38     55     0.1629   \n",
       "1880 1   1      5         28     42     48     41     40     0.1034   \n",
       "1881 1   0      5         25     51     57     48     33     0.1034   \n",
       "1882 1   1      5         33     51     50     48     30     0.1034   \n",
       "1883 2   0      7         47     30     37     31     31     0.1146   \n",
       "1884 1   0      5         45     26     48     32     22     0.0785   \n",
       "1885 1   1      5         31     53     56     50     45     0.1034   \n",
       "     Sensation_seeking Caffeine Cannabis Meth split_flag\n",
       "1    0.0700            7        1        1    train     \n",
       "2    0.1183            7        5        4    train     \n",
       "3    0.1321            7        4        1    train     \n",
       "4    0.0700            6        3        1    train     \n",
       "5    0.1183            7        4        1    train     \n",
       "6    0.0462            7        1        1    train     \n",
       "7    0.1162            7        2        1    test      \n",
       "8    0.1119            7        1        1    train     \n",
       "9    0.0462            7        1        1    train     \n",
       "10   0.0897            7        2        1    train     \n",
       "11   0.1162            7        3        1    train     \n",
       "12   0.1114            7        5        1    test      \n",
       "13   0.1162            7        4        2    train     \n",
       "14   0.0897            6        1        1    train     \n",
       "15   0.1119            7        1        1    train     \n",
       "16   0.1119            7        2        1    train     \n",
       "17   0.0377            7        4        1    train     \n",
       "18   0.0897            7        7        1    train     \n",
       "19   0.1183            7        4        1    test      \n",
       "20   0.0377            7        2        7    test      \n",
       "21   0.1183            7        3        1    train     \n",
       "22   0.0700            7        2        1    test      \n",
       "23   0.1162            6        1        1    test      \n",
       "24   0.0462            7        3        1    train     \n",
       "25   0.1119            6        2        1    train     \n",
       "26   0.1321            7        2        1    train     \n",
       "27   0.0462            7        2        1    train     \n",
       "28   0.1321            7        7        1    train     \n",
       "29   0.1119            5        2        1    train     \n",
       "30   0.1119            7        1        1    train     \n",
       "...  ...               ...      ...      ...  ...       \n",
       "1856 0.1321            3        5        1    train     \n",
       "1857 0.1119            7        5        1    train     \n",
       "1858 0.1321            7        6        5    train     \n",
       "1859 0.1114            7        7        5    train     \n",
       "1860 0.1119            7        7        3    test      \n",
       "1861 0.1162            7        7        7    train     \n",
       "1862 0.1321            7        4        5    test      \n",
       "1863 0.1321            7        7        6    train     \n",
       "1864 0.1114            7        7        4    test      \n",
       "1865 0.1321            6        7        1    train     \n",
       "1866 0.1114            7        7        4    train     \n",
       "1867 0.1183            7        7        1    train     \n",
       "1868 0.1183            7        7        1    test      \n",
       "1869 0.1321            7        7        1    test      \n",
       "1870 0.1119            6        6        5    train     \n",
       "1871 0.1162            7        6        1    train     \n",
       "1872 0.1321            7        7        4    train     \n",
       "1873 0.0546            6        7        1    train     \n",
       "1874 0.1321            7        7        3    train     \n",
       "1875 0.1162            7        4        1    train     \n",
       "1876 0.1114            6        6        1    train     \n",
       "1877 0.1321            6        7        1    train     \n",
       "1878 0.1114            7        6        7    train     \n",
       "1879 0.1183            3        6        1    train     \n",
       "1880 0.1119            6        7        5    train     \n",
       "1881 0.0546            5        6        1    test      \n",
       "1882 0.1119            6        4        5    train     \n",
       "1883 0.1119            7        7        1    train     \n",
       "1884 0.1114            7        7        1    train     \n",
       "1885 0.1114            7        4        1    train     "
      ]
     },
     "metadata": {},
     "output_type": "display_data"
    }
   ],
   "source": [
    "sb"
   ]
  },
  {
   "cell_type": "code",
   "execution_count": 30,
   "metadata": {},
   "outputs": [],
   "source": [
    "train <- sb %>%\n",
    "  extract_set(set = \"train\")\n",
    "\n",
    "test <- sb %>%\n",
    "  extract_set(set = \"test\")"
   ]
  },
  {
   "cell_type": "code",
   "execution_count": 31,
   "metadata": {},
   "outputs": [
    {
     "data": {
      "image/png": "[encoded data removed]",
      "text/plain": [
       "plot without title"
      ]
     },
     "metadata": {},
     "output_type": "display_data"
    }
   ],
   "source": [
    "sb %>%\n",
    "  compare_plot(\"Meth\")"
   ]
  },
  {
   "cell_type": "code",
   "execution_count": 34,
   "metadata": {},
   "outputs": [
    {
     "data": {
      "image/png": "[encoded data removed]",
      "text/plain": [
       "plot without title"
      ]
     },
     "metadata": {},
     "output_type": "display_data"
    },
    {
     "data": {
      "image/png": "[encoded data removed]",
      "text/plain": [
       "plot without title"
      ]
     },
     "metadata": {},
     "output_type": "display_data"
    },
    {
     "data": {
      "image/png": "[encoded data removed]",
      "text/plain": [
       "plot without title"
      ]
     },
     "metadata": {},
     "output_type": "display_data"
    },
    {
     "data": {
      "image/png": "[encoded data removed]",
      "text/plain": [
       "plot without title"
      ]
     },
     "metadata": {},
     "output_type": "display_data"
    },
    {
     "data": {
      "image/png": "[encoded data removed]",
      "text/plain": [
       "plot without title"
      ]
     },
     "metadata": {},
     "output_type": "display_data"
    },
    {
     "data": {
      "image/png": "[encoded data removed]",
      "text/plain": [
       "plot without title"
      ]
     },
     "metadata": {},
     "output_type": "display_data"
    },
    {
     "data": {
      "image/png": "[encoded data removed]",
      "text/plain": [
       "plot without title"
      ]
     },
     "metadata": {},
     "output_type": "display_data"
    },
    {
     "data": {
      "image/png": "[encoded data removed]",
      "text/plain": [
       "plot without title"
      ]
     },
     "metadata": {},
     "output_type": "display_data"
    },
    {
     "data": {
      "image/png": "[encoded data removed]",
      "text/plain": [
       "plot without title"
      ]
     },
     "metadata": {},
     "output_type": "display_data"
    },
    {
     "data": {
      "image/png": "[encoded data removed]",
      "text/plain": [
       "plot without title"
      ]
     },
     "metadata": {},
     "output_type": "display_data"
    },
    {
     "data": {
      "image/png": "[encoded data removed]",
      "text/plain": [
       "plot without title"
      ]
     },
     "metadata": {},
     "output_type": "display_data"
    },
    {
     "data": {
      "image/png": "[encoded data removed]",
      "text/plain": [
       "plot without title"
      ]
     },
     "metadata": {},
     "output_type": "display_data"
    },
    {
     "data": {
      "image/png": "[encoded data removed]",
      "text/plain": [
       "plot without title"
      ]
     },
     "metadata": {},
     "output_type": "display_data"
    }
   ],
   "source": [
    "sb %>%\n",
    "  compare_plot()"
   ]
  },
  {
   "cell_type": "code",
   "execution_count": null,
   "metadata": {},
   "outputs": [],
   "source": []
  }
 ],
 "metadata": {
  "kernelspec": {
   "display_name": "R",
   "language": "R",
   "name": "ir"
  },
  "language_info": {
   "codemirror_mode": "r",
   "file_extension": ".r",
   "mimetype": "text/x-r-source",
   "name": "R",
   "pygments_lexer": "r",
   "version": "3.6.1"
  }
 },
 "nbformat": 4,
 "nbformat_minor": 4
}
