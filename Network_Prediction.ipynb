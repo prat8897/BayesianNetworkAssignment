{
 "cells": [
  {
   "cell_type": "code",
   "execution_count": 1,
   "metadata": {},
   "outputs": [],
   "source": [
    "# Install statements\n",
    "# install.packages(c(\"remotes\",\"pROC\",\"naivebayes\"))\n",
    "# remotes::install_github(\"jtextor/bayesianNetworks\")\n",
    "# install.packages(\"bnlearn\")\n",
    "# install.packages(\"dagitty\")\n",
    "# install.packages(\"lavaan\")"
   ]
  },
  {
   "cell_type": "code",
   "execution_count": 2,
   "metadata": {},
   "outputs": [
    {
     "name": "stderr",
     "output_type": "stream",
     "text": [
      "Warning message:\n",
      "\"package 'naivebayes' was built under R version 3.6.3\"naivebayes 0.9.7 loaded\n",
      "Warning message:\n",
      "\"package 'bnlearn' was built under R version 3.6.3\"Warning message:\n",
      "\"package 'dagitty' was built under R version 3.6.3\"\n",
      "Attaching package: 'dagitty'\n",
      "\n",
      "The following objects are masked from 'package:bnlearn':\n",
      "\n",
      "    ancestors, children, descendants, parents, spouses\n",
      "\n",
      "Warning message:\n",
      "\"package 'lavaan' was built under R version 3.6.3\"This is lavaan 0.6-7\n",
      "lavaan is BETA software! Please report any bugs.\n",
      "Warning message:\n",
      "\"package 'alookr' was built under R version 3.6.3\"Loading required package: ggplot2\n",
      "Registered S3 methods overwritten by 'ggplot2':\n",
      "  method         from \n",
      "  [.quosures     rlang\n",
      "  c.quosures     rlang\n",
      "  print.quosures rlang\n",
      "Loading required package: randomForest\n",
      "randomForest 4.6-14\n",
      "Type rfNews() to see new features/changes/bug fixes.\n",
      "\n",
      "Attaching package: 'randomForest'\n",
      "\n",
      "The following object is masked from 'package:ggplot2':\n",
      "\n",
      "    margin\n",
      "\n",
      "Registered S3 method overwritten by 'xts':\n",
      "  method     from\n",
      "  as.zoo.xts zoo \n",
      "Registered S3 method overwritten by 'quantmod':\n",
      "  method            from\n",
      "  as.zoo.data.frame zoo \n",
      "Registered S3 method overwritten by 'rvest':\n",
      "  method            from\n",
      "  read_xml.response xml2\n",
      "\n",
      "Attaching package: 'dplyr'\n",
      "\n",
      "The following object is masked from 'package:randomForest':\n",
      "\n",
      "    combine\n",
      "\n",
      "The following objects are masked from 'package:stats':\n",
      "\n",
      "    filter, lag\n",
      "\n",
      "The following objects are masked from 'package:base':\n",
      "\n",
      "    intersect, setdiff, setequal, union\n",
      "\n"
     ]
    }
   ],
   "source": [
    "# Packages\n",
    "\n",
    "library( bayesianNetworks )\n",
    "library( naivebayes )\n",
    "library( bnlearn )\n",
    "library( dagitty )\n",
    "library( lavaan )\n",
    "\n",
    "# Packages for train and test set splitting (balanced)\n",
    "\n",
    "library(alookr)\n",
    "library(dplyr)"
   ]
  },
  {
   "cell_type": "code",
   "execution_count": 3,
   "metadata": {},
   "outputs": [
    {
     "data": {
      "text/html": [
       "<table>\n",
       "<thead><tr><th scope=col>Age</th><th scope=col>Gender</th><th scope=col>Education</th><th scope=col>Nscore</th><th scope=col>Escore</th><th scope=col>Oscore</th><th scope=col>Ascore</th><th scope=col>Cscore</th><th scope=col>Impulsive</th><th scope=col>Sensation_seeking</th><th scope=col>Caffeine</th><th scope=col>Cannabis</th><th scope=col>Meth</th></tr></thead>\n",
       "<tbody>\n",
       "\t<tr><td>35-44                            </td><td>0                                </td><td>Professional certificate/ diploma</td><td>39                               </td><td>36                               </td><td>42                               </td><td>37                               </td><td>42                               </td><td>0.1883                           </td><td>0.0700                           </td><td>6                                </td><td>0                                </td><td>0                                </td></tr>\n",
       "\t<tr><td>25-34                            </td><td>1                                </td><td>Doctorate degree                 </td><td>29                               </td><td>52                               </td><td>55                               </td><td>48                               </td><td>41                               </td><td>0.1629                           </td><td>0.1183                           </td><td>6                                </td><td>4                                </td><td>3                                </td></tr>\n",
       "\t<tr><td>35-44                            </td><td>1                                </td><td>Professional certificate/ diploma</td><td>31                               </td><td>45                               </td><td>40                               </td><td>32                               </td><td>34                               </td><td>0.1464                           </td><td>0.1321                           </td><td>6                                </td><td>3                                </td><td>0                                </td></tr>\n",
       "\t<tr><td>18-24                            </td><td>0                                </td><td>Masters degree                   </td><td>34                               </td><td>34                               </td><td>46                               </td><td>47                               </td><td>46                               </td><td>0.1464                           </td><td>0.0700                           </td><td>5                                </td><td>2                                </td><td>0                                </td></tr>\n",
       "\t<tr><td>35-44                            </td><td>0                                </td><td>Doctorate degree                 </td><td>43                               </td><td>28                               </td><td>43                               </td><td>41                               </td><td>50                               </td><td>0.1883                           </td><td>0.1183                           </td><td>6                                </td><td>3                                </td><td>0                                </td></tr>\n",
       "\t<tr><td>65+                              </td><td>0                                </td><td>Left school at 18                </td><td>29                               </td><td>38                               </td><td>35                               </td><td>55                               </td><td>52                               </td><td>0.1464                           </td><td>0.0462                           </td><td>6                                </td><td>0                                </td><td>0                                </td></tr>\n",
       "</tbody>\n",
       "</table>\n"
      ],
      "text/latex": [
       "\\begin{tabular}{r|lllllllllllll}\n",
       " Age & Gender & Education & Nscore & Escore & Oscore & Ascore & Cscore & Impulsive & Sensation\\_seeking & Caffeine & Cannabis & Meth\\\\\n",
       "\\hline\n",
       "\t 35-44                             & 0                                 & Professional certificate/ diploma & 39                                & 36                                & 42                                & 37                                & 42                                & 0.1883                            & 0.0700                            & 6                                 & 0                                 & 0                                \\\\\n",
       "\t 25-34                             & 1                                 & Doctorate degree                  & 29                                & 52                                & 55                                & 48                                & 41                                & 0.1629                            & 0.1183                            & 6                                 & 4                                 & 3                                \\\\\n",
       "\t 35-44                             & 1                                 & Professional certificate/ diploma & 31                                & 45                                & 40                                & 32                                & 34                                & 0.1464                            & 0.1321                            & 6                                 & 3                                 & 0                                \\\\\n",
       "\t 18-24                             & 0                                 & Masters degree                    & 34                                & 34                                & 46                                & 47                                & 46                                & 0.1464                            & 0.0700                            & 5                                 & 2                                 & 0                                \\\\\n",
       "\t 35-44                             & 0                                 & Doctorate degree                  & 43                                & 28                                & 43                                & 41                                & 50                                & 0.1883                            & 0.1183                            & 6                                 & 3                                 & 0                                \\\\\n",
       "\t 65+                               & 0                                 & Left school at 18                 & 29                                & 38                                & 35                                & 55                                & 52                                & 0.1464                            & 0.0462                            & 6                                 & 0                                 & 0                                \\\\\n",
       "\\end{tabular}\n"
      ],
      "text/markdown": [
       "\n",
       "| Age | Gender | Education | Nscore | Escore | Oscore | Ascore | Cscore | Impulsive | Sensation_seeking | Caffeine | Cannabis | Meth |\n",
       "|---|---|---|---|---|---|---|---|---|---|---|---|---|\n",
       "| 35-44                             | 0                                 | Professional certificate/ diploma | 39                                | 36                                | 42                                | 37                                | 42                                | 0.1883                            | 0.0700                            | 6                                 | 0                                 | 0                                 |\n",
       "| 25-34                             | 1                                 | Doctorate degree                  | 29                                | 52                                | 55                                | 48                                | 41                                | 0.1629                            | 0.1183                            | 6                                 | 4                                 | 3                                 |\n",
       "| 35-44                             | 1                                 | Professional certificate/ diploma | 31                                | 45                                | 40                                | 32                                | 34                                | 0.1464                            | 0.1321                            | 6                                 | 3                                 | 0                                 |\n",
       "| 18-24                             | 0                                 | Masters degree                    | 34                                | 34                                | 46                                | 47                                | 46                                | 0.1464                            | 0.0700                            | 5                                 | 2                                 | 0                                 |\n",
       "| 35-44                             | 0                                 | Doctorate degree                  | 43                                | 28                                | 43                                | 41                                | 50                                | 0.1883                            | 0.1183                            | 6                                 | 3                                 | 0                                 |\n",
       "| 65+                               | 0                                 | Left school at 18                 | 29                                | 38                                | 35                                | 55                                | 52                                | 0.1464                            | 0.0462                            | 6                                 | 0                                 | 0                                 |\n",
       "\n"
      ],
      "text/plain": [
       "  Age   Gender Education                         Nscore Escore Oscore Ascore\n",
       "1 35-44 0      Professional certificate/ diploma 39     36     42     37    \n",
       "2 25-34 1      Doctorate degree                  29     52     55     48    \n",
       "3 35-44 1      Professional certificate/ diploma 31     45     40     32    \n",
       "4 18-24 0      Masters degree                    34     34     46     47    \n",
       "5 35-44 0      Doctorate degree                  43     28     43     41    \n",
       "6 65+   0      Left school at 18                 29     38     35     55    \n",
       "  Cscore Impulsive Sensation_seeking Caffeine Cannabis Meth\n",
       "1 42     0.1883    0.0700            6        0        0   \n",
       "2 41     0.1629    0.1183            6        4        3   \n",
       "3 34     0.1464    0.1321            6        3        0   \n",
       "4 46     0.1464    0.0700            5        2        0   \n",
       "5 50     0.1883    0.1183            6        3        0   \n",
       "6 52     0.1464    0.0462            6        0        0   "
      ]
     },
     "metadata": {},
     "output_type": "display_data"
    }
   ],
   "source": [
    "# Read in the .csv that was created during the preprocessing\n",
    "\n",
    "df <- read.csv('Datasets/Dataset_Prediction.csv')\n",
    "\n",
    "# Visually inspect the dataframe\n",
    "\n",
    "head(df)"
   ]
  },
  {
   "cell_type": "code",
   "execution_count": 4,
   "metadata": {},
   "outputs": [],
   "source": [
    "# Transforming the non numerical ordinal values to numerical values with ordering\n",
    "\n",
    "# BNLearn wants all data to be a double so we will transform all data to doubles \n",
    "\n",
    "df$Caffeine <- as.double( ordered(df$Caffeine, levels =c(\"0\",\"1\",\"2\",\"3\",\"4\",\"5\",\"6\")))\n",
    "df$Cannabis <- as.double( ordered(df$Cannabis, levels =c(\"0\",\"1\",\"2\",\"3\",\"4\",\"5\",\"6\")))\n",
    "df$Meth <- as.double( ordered(df$Meth, levels =c(\"0\",\"1\",\"2\",\"3\",\"4\",\"5\",\"6\")))\n",
    "df$Age <- as.double( ordered(df$Age, levels =c(\"18-24\",\"25-34\",\"35-44\",\"45-54\",\"55-64\",\"65+\")))\n",
    "df$Education <- as.double( ordered(df$Education, levels=c(\"Left school before 16\",\"Left school at 16\",\"Left school at 17\",\"Left school at 18\",\"College or university dropout\",\"Professional certificate/ diploma\",\"University degree\",\"Masters degree\",\"Doctorate degree\")))"
   ]
  },
  {
   "cell_type": "code",
   "execution_count": 5,
   "metadata": {},
   "outputs": [
    {
     "name": "stdout",
     "output_type": "stream",
     "text": [
      "'data.frame':\t1885 obs. of  13 variables:\n",
      " $ Age              : num  3 2 3 1 3 6 4 3 3 5 ...\n",
      " $ Gender           : num  0 1 1 0 0 0 1 1 0 1 ...\n",
      " $ Education        : num  6 9 6 8 9 4 8 2 6 8 ...\n",
      " $ Nscore           : num  39 29 31 34 43 29 31 24 42 33 ...\n",
      " $ Escore           : num  36 52 45 34 28 38 32 52 55 40 ...\n",
      " $ Oscore           : num  42 55 40 46 43 35 43 40 39 36 ...\n",
      " $ Ascore           : num  37 48 32 47 41 55 41 41 48 47 ...\n",
      " $ Cscore           : num  42 41 34 46 50 52 48 52 49 43 ...\n",
      " $ Impulsive        : num  0.188 0.163 0.146 0.146 0.188 ...\n",
      " $ Sensation_seeking: num  0.07 0.118 0.132 0.07 0.118 ...\n",
      " $ Caffeine         : num  7 7 7 6 7 7 7 7 7 7 ...\n",
      " $ Cannabis         : num  1 5 4 3 4 1 2 1 1 2 ...\n",
      " $ Meth             : num  1 4 1 1 1 1 1 1 1 1 ...\n"
     ]
    }
   ],
   "source": [
    "# BNLearn wants all data to be a double so we will transform all data to doubles \n",
    "\n",
    "df$Gender <- as.double(df$Gender) \n",
    "df$Nscore <- as.double(df$Nscore) \n",
    "df$Escore <- as.double(df$Escore) \n",
    "df$Oscore <- as.double(df$Oscore) \n",
    "df$Ascore <- as.double(df$Ascore) \n",
    "df$Cscore <- as.double(df$Cscore) \n",
    "\n",
    "# Confirm that all variables are succesfully transformed into doubles\n",
    "str(df)"
   ]
  },
  {
   "cell_type": "code",
   "execution_count": 6,
   "metadata": {
    "scrolled": false
   },
   "outputs": [
    {
     "name": "stdout",
     "output_type": "stream",
     "text": [
      "[1] \"age\"\n"
     ]
    },
    {
     "data": {
      "text/html": [
       "<ol class=list-inline>\n",
       "\t<li>3</li>\n",
       "\t<li>2</li>\n",
       "\t<li>1</li>\n",
       "\t<li>6</li>\n",
       "\t<li>4</li>\n",
       "\t<li>5</li>\n",
       "</ol>\n"
      ],
      "text/latex": [
       "\\begin{enumerate*}\n",
       "\\item 3\n",
       "\\item 2\n",
       "\\item 1\n",
       "\\item 6\n",
       "\\item 4\n",
       "\\item 5\n",
       "\\end{enumerate*}\n"
      ],
      "text/markdown": [
       "1. 3\n",
       "2. 2\n",
       "3. 1\n",
       "4. 6\n",
       "5. 4\n",
       "6. 5\n",
       "\n",
       "\n"
      ],
      "text/plain": [
       "[1] 3 2 1 6 4 5"
      ]
     },
     "metadata": {},
     "output_type": "display_data"
    },
    {
     "name": "stdout",
     "output_type": "stream",
     "text": [
      "[1] \"gender\"\n"
     ]
    },
    {
     "data": {
      "text/html": [
       "<ol class=list-inline>\n",
       "\t<li>0</li>\n",
       "\t<li>1</li>\n",
       "</ol>\n"
      ],
      "text/latex": [
       "\\begin{enumerate*}\n",
       "\\item 0\n",
       "\\item 1\n",
       "\\end{enumerate*}\n"
      ],
      "text/markdown": [
       "1. 0\n",
       "2. 1\n",
       "\n",
       "\n"
      ],
      "text/plain": [
       "[1] 0 1"
      ]
     },
     "metadata": {},
     "output_type": "display_data"
    },
    {
     "name": "stdout",
     "output_type": "stream",
     "text": [
      "[1] \"education\"\n"
     ]
    },
    {
     "data": {
      "text/html": [
       "<ol class=list-inline>\n",
       "\t<li>6</li>\n",
       "\t<li>9</li>\n",
       "\t<li>8</li>\n",
       "\t<li>4</li>\n",
       "\t<li>2</li>\n",
       "\t<li>7</li>\n",
       "\t<li>5</li>\n",
       "\t<li>1</li>\n",
       "\t<li>3</li>\n",
       "</ol>\n"
      ],
      "text/latex": [
       "\\begin{enumerate*}\n",
       "\\item 6\n",
       "\\item 9\n",
       "\\item 8\n",
       "\\item 4\n",
       "\\item 2\n",
       "\\item 7\n",
       "\\item 5\n",
       "\\item 1\n",
       "\\item 3\n",
       "\\end{enumerate*}\n"
      ],
      "text/markdown": [
       "1. 6\n",
       "2. 9\n",
       "3. 8\n",
       "4. 4\n",
       "5. 2\n",
       "6. 7\n",
       "7. 5\n",
       "8. 1\n",
       "9. 3\n",
       "\n",
       "\n"
      ],
      "text/plain": [
       "[1] 6 9 8 4 2 7 5 1 3"
      ]
     },
     "metadata": {},
     "output_type": "display_data"
    },
    {
     "name": "stdout",
     "output_type": "stream",
     "text": [
      "[1] \"Nscore\"\n"
     ]
    },
    {
     "data": {
      "text/html": [
       "<ol class=list-inline>\n",
       "\t<li>39</li>\n",
       "\t<li>29</li>\n",
       "\t<li>31</li>\n",
       "\t<li>34</li>\n",
       "\t<li>43</li>\n",
       "\t<li>24</li>\n",
       "\t<li>42</li>\n",
       "\t<li>33</li>\n",
       "\t<li>26</li>\n",
       "\t<li>56</li>\n",
       "\t<li>28</li>\n",
       "\t<li>27</li>\n",
       "\t<li>19</li>\n",
       "\t<li>22</li>\n",
       "\t<li>41</li>\n",
       "\t<li>49</li>\n",
       "\t<li>32</li>\n",
       "\t<li>25</li>\n",
       "\t<li>40</li>\n",
       "\t<li>51</li>\n",
       "\t<li>35</li>\n",
       "\t<li>36</li>\n",
       "\t<li>46</li>\n",
       "\t<li>44</li>\n",
       "\t<li>37</li>\n",
       "\t<li>47</li>\n",
       "\t<li>23</li>\n",
       "\t<li>30</li>\n",
       "\t<li>38</li>\n",
       "\t<li>18</li>\n",
       "\t<li>45</li>\n",
       "\t<li>17</li>\n",
       "\t<li>53</li>\n",
       "\t<li>50</li>\n",
       "\t<li>60</li>\n",
       "\t<li>21</li>\n",
       "\t<li>54</li>\n",
       "\t<li>59</li>\n",
       "\t<li>48</li>\n",
       "\t<li>20</li>\n",
       "\t<li>55</li>\n",
       "\t<li>16</li>\n",
       "\t<li>57</li>\n",
       "\t<li>52</li>\n",
       "\t<li>58</li>\n",
       "\t<li>14</li>\n",
       "\t<li>15</li>\n",
       "\t<li>13</li>\n",
       "\t<li>12</li>\n",
       "</ol>\n"
      ],
      "text/latex": [
       "\\begin{enumerate*}\n",
       "\\item 39\n",
       "\\item 29\n",
       "\\item 31\n",
       "\\item 34\n",
       "\\item 43\n",
       "\\item 24\n",
       "\\item 42\n",
       "\\item 33\n",
       "\\item 26\n",
       "\\item 56\n",
       "\\item 28\n",
       "\\item 27\n",
       "\\item 19\n",
       "\\item 22\n",
       "\\item 41\n",
       "\\item 49\n",
       "\\item 32\n",
       "\\item 25\n",
       "\\item 40\n",
       "\\item 51\n",
       "\\item 35\n",
       "\\item 36\n",
       "\\item 46\n",
       "\\item 44\n",
       "\\item 37\n",
       "\\item 47\n",
       "\\item 23\n",
       "\\item 30\n",
       "\\item 38\n",
       "\\item 18\n",
       "\\item 45\n",
       "\\item 17\n",
       "\\item 53\n",
       "\\item 50\n",
       "\\item 60\n",
       "\\item 21\n",
       "\\item 54\n",
       "\\item 59\n",
       "\\item 48\n",
       "\\item 20\n",
       "\\item 55\n",
       "\\item 16\n",
       "\\item 57\n",
       "\\item 52\n",
       "\\item 58\n",
       "\\item 14\n",
       "\\item 15\n",
       "\\item 13\n",
       "\\item 12\n",
       "\\end{enumerate*}\n"
      ],
      "text/markdown": [
       "1. 39\n",
       "2. 29\n",
       "3. 31\n",
       "4. 34\n",
       "5. 43\n",
       "6. 24\n",
       "7. 42\n",
       "8. 33\n",
       "9. 26\n",
       "10. 56\n",
       "11. 28\n",
       "12. 27\n",
       "13. 19\n",
       "14. 22\n",
       "15. 41\n",
       "16. 49\n",
       "17. 32\n",
       "18. 25\n",
       "19. 40\n",
       "20. 51\n",
       "21. 35\n",
       "22. 36\n",
       "23. 46\n",
       "24. 44\n",
       "25. 37\n",
       "26. 47\n",
       "27. 23\n",
       "28. 30\n",
       "29. 38\n",
       "30. 18\n",
       "31. 45\n",
       "32. 17\n",
       "33. 53\n",
       "34. 50\n",
       "35. 60\n",
       "36. 21\n",
       "37. 54\n",
       "38. 59\n",
       "39. 48\n",
       "40. 20\n",
       "41. 55\n",
       "42. 16\n",
       "43. 57\n",
       "44. 52\n",
       "45. 58\n",
       "46. 14\n",
       "47. 15\n",
       "48. 13\n",
       "49. 12\n",
       "\n",
       "\n"
      ],
      "text/plain": [
       " [1] 39 29 31 34 43 24 42 33 26 56 28 27 19 22 41 49 32 25 40 51 35 36 46 44 37\n",
       "[26] 47 23 30 38 18 45 17 53 50 60 21 54 59 48 20 55 16 57 52 58 14 15 13 12"
      ]
     },
     "metadata": {},
     "output_type": "display_data"
    },
    {
     "name": "stdout",
     "output_type": "stream",
     "text": [
      "[1] \"Escore\"\n"
     ]
    },
    {
     "data": {
      "text/html": [
       "<ol class=list-inline>\n",
       "\t<li>36</li>\n",
       "\t<li>52</li>\n",
       "\t<li>45</li>\n",
       "\t<li>34</li>\n",
       "\t<li>28</li>\n",
       "\t<li>38</li>\n",
       "\t<li>32</li>\n",
       "\t<li>55</li>\n",
       "\t<li>40</li>\n",
       "\t<li>41</li>\n",
       "\t<li>49</li>\n",
       "\t<li>29</li>\n",
       "\t<li>31</li>\n",
       "\t<li>39</li>\n",
       "\t<li>27</li>\n",
       "\t<li>43</li>\n",
       "\t<li>33</li>\n",
       "\t<li>16</li>\n",
       "\t<li>44</li>\n",
       "\t<li>37</li>\n",
       "\t<li>51</li>\n",
       "\t<li>42</li>\n",
       "\t<li>48</li>\n",
       "\t<li>46</li>\n",
       "\t<li>47</li>\n",
       "\t<li>35</li>\n",
       "\t<li>50</li>\n",
       "\t<li>30</li>\n",
       "\t<li>26</li>\n",
       "\t<li>58</li>\n",
       "\t<li>53</li>\n",
       "\t<li>54</li>\n",
       "\t<li>23</li>\n",
       "\t<li>22</li>\n",
       "\t<li>24</li>\n",
       "\t<li>19</li>\n",
       "\t<li>20</li>\n",
       "\t<li>21</li>\n",
       "\t<li>25</li>\n",
       "\t<li>56</li>\n",
       "\t<li>59</li>\n",
       "\t<li>18</li>\n",
       "</ol>\n"
      ],
      "text/latex": [
       "\\begin{enumerate*}\n",
       "\\item 36\n",
       "\\item 52\n",
       "\\item 45\n",
       "\\item 34\n",
       "\\item 28\n",
       "\\item 38\n",
       "\\item 32\n",
       "\\item 55\n",
       "\\item 40\n",
       "\\item 41\n",
       "\\item 49\n",
       "\\item 29\n",
       "\\item 31\n",
       "\\item 39\n",
       "\\item 27\n",
       "\\item 43\n",
       "\\item 33\n",
       "\\item 16\n",
       "\\item 44\n",
       "\\item 37\n",
       "\\item 51\n",
       "\\item 42\n",
       "\\item 48\n",
       "\\item 46\n",
       "\\item 47\n",
       "\\item 35\n",
       "\\item 50\n",
       "\\item 30\n",
       "\\item 26\n",
       "\\item 58\n",
       "\\item 53\n",
       "\\item 54\n",
       "\\item 23\n",
       "\\item 22\n",
       "\\item 24\n",
       "\\item 19\n",
       "\\item 20\n",
       "\\item 21\n",
       "\\item 25\n",
       "\\item 56\n",
       "\\item 59\n",
       "\\item 18\n",
       "\\end{enumerate*}\n"
      ],
      "text/markdown": [
       "1. 36\n",
       "2. 52\n",
       "3. 45\n",
       "4. 34\n",
       "5. 28\n",
       "6. 38\n",
       "7. 32\n",
       "8. 55\n",
       "9. 40\n",
       "10. 41\n",
       "11. 49\n",
       "12. 29\n",
       "13. 31\n",
       "14. 39\n",
       "15. 27\n",
       "16. 43\n",
       "17. 33\n",
       "18. 16\n",
       "19. 44\n",
       "20. 37\n",
       "21. 51\n",
       "22. 42\n",
       "23. 48\n",
       "24. 46\n",
       "25. 47\n",
       "26. 35\n",
       "27. 50\n",
       "28. 30\n",
       "29. 26\n",
       "30. 58\n",
       "31. 53\n",
       "32. 54\n",
       "33. 23\n",
       "34. 22\n",
       "35. 24\n",
       "36. 19\n",
       "37. 20\n",
       "38. 21\n",
       "39. 25\n",
       "40. 56\n",
       "41. 59\n",
       "42. 18\n",
       "\n",
       "\n"
      ],
      "text/plain": [
       " [1] 36 52 45 34 28 38 32 55 40 41 49 29 31 39 27 43 33 16 44 37 51 42 48 46 47\n",
       "[26] 35 50 30 26 58 53 54 23 22 24 19 20 21 25 56 59 18"
      ]
     },
     "metadata": {},
     "output_type": "display_data"
    },
    {
     "name": "stdout",
     "output_type": "stream",
     "text": [
      "[1] \"Cscore\"\n"
     ]
    },
    {
     "data": {
      "text/html": [
       "<ol class=list-inline>\n",
       "\t<li>42</li>\n",
       "\t<li>41</li>\n",
       "\t<li>34</li>\n",
       "\t<li>46</li>\n",
       "\t<li>50</li>\n",
       "\t<li>52</li>\n",
       "\t<li>48</li>\n",
       "\t<li>49</li>\n",
       "\t<li>43</li>\n",
       "\t<li>53</li>\n",
       "\t<li>38</li>\n",
       "\t<li>36</li>\n",
       "\t<li>59</li>\n",
       "\t<li>47</li>\n",
       "\t<li>31</li>\n",
       "\t<li>30</li>\n",
       "\t<li>33</li>\n",
       "\t<li>35</li>\n",
       "\t<li>51</li>\n",
       "\t<li>25</li>\n",
       "\t<li>37</li>\n",
       "\t<li>45</li>\n",
       "\t<li>39</li>\n",
       "\t<li>44</li>\n",
       "\t<li>27</li>\n",
       "\t<li>40</li>\n",
       "\t<li>29</li>\n",
       "\t<li>54</li>\n",
       "\t<li>55</li>\n",
       "\t<li>32</li>\n",
       "\t<li>56</li>\n",
       "\t<li>20</li>\n",
       "\t<li>28</li>\n",
       "\t<li>26</li>\n",
       "\t<li>22</li>\n",
       "\t<li>24</li>\n",
       "\t<li>23</li>\n",
       "\t<li>19</li>\n",
       "\t<li>17</li>\n",
       "\t<li>21</li>\n",
       "\t<li>57</li>\n",
       "</ol>\n"
      ],
      "text/latex": [
       "\\begin{enumerate*}\n",
       "\\item 42\n",
       "\\item 41\n",
       "\\item 34\n",
       "\\item 46\n",
       "\\item 50\n",
       "\\item 52\n",
       "\\item 48\n",
       "\\item 49\n",
       "\\item 43\n",
       "\\item 53\n",
       "\\item 38\n",
       "\\item 36\n",
       "\\item 59\n",
       "\\item 47\n",
       "\\item 31\n",
       "\\item 30\n",
       "\\item 33\n",
       "\\item 35\n",
       "\\item 51\n",
       "\\item 25\n",
       "\\item 37\n",
       "\\item 45\n",
       "\\item 39\n",
       "\\item 44\n",
       "\\item 27\n",
       "\\item 40\n",
       "\\item 29\n",
       "\\item 54\n",
       "\\item 55\n",
       "\\item 32\n",
       "\\item 56\n",
       "\\item 20\n",
       "\\item 28\n",
       "\\item 26\n",
       "\\item 22\n",
       "\\item 24\n",
       "\\item 23\n",
       "\\item 19\n",
       "\\item 17\n",
       "\\item 21\n",
       "\\item 57\n",
       "\\end{enumerate*}\n"
      ],
      "text/markdown": [
       "1. 42\n",
       "2. 41\n",
       "3. 34\n",
       "4. 46\n",
       "5. 50\n",
       "6. 52\n",
       "7. 48\n",
       "8. 49\n",
       "9. 43\n",
       "10. 53\n",
       "11. 38\n",
       "12. 36\n",
       "13. 59\n",
       "14. 47\n",
       "15. 31\n",
       "16. 30\n",
       "17. 33\n",
       "18. 35\n",
       "19. 51\n",
       "20. 25\n",
       "21. 37\n",
       "22. 45\n",
       "23. 39\n",
       "24. 44\n",
       "25. 27\n",
       "26. 40\n",
       "27. 29\n",
       "28. 54\n",
       "29. 55\n",
       "30. 32\n",
       "31. 56\n",
       "32. 20\n",
       "33. 28\n",
       "34. 26\n",
       "35. 22\n",
       "36. 24\n",
       "37. 23\n",
       "38. 19\n",
       "39. 17\n",
       "40. 21\n",
       "41. 57\n",
       "\n",
       "\n"
      ],
      "text/plain": [
       " [1] 42 41 34 46 50 52 48 49 43 53 38 36 59 47 31 30 33 35 51 25 37 45 39 44 27\n",
       "[26] 40 29 54 55 32 56 20 28 26 22 24 23 19 17 21 57"
      ]
     },
     "metadata": {},
     "output_type": "display_data"
    },
    {
     "name": "stdout",
     "output_type": "stream",
     "text": [
      "[1] \"Impulsive\"\n"
     ]
    },
    {
     "data": {
      "text/html": [
       "<ol class=list-inline>\n",
       "\t<li>0.1883</li>\n",
       "\t<li>0.1629</li>\n",
       "\t<li>0.1464</li>\n",
       "\t<li>0.1363</li>\n",
       "\t<li>0.1146</li>\n",
       "\t<li>0.0785</li>\n",
       "\t<li>0.0552</li>\n",
       "\t<li>0.0106</li>\n",
       "\t<li>0.1034</li>\n",
       "\t<li>0.0037</li>\n",
       "</ol>\n"
      ],
      "text/latex": [
       "\\begin{enumerate*}\n",
       "\\item 0.1883\n",
       "\\item 0.1629\n",
       "\\item 0.1464\n",
       "\\item 0.1363\n",
       "\\item 0.1146\n",
       "\\item 0.0785\n",
       "\\item 0.0552\n",
       "\\item 0.0106\n",
       "\\item 0.1034\n",
       "\\item 0.0037\n",
       "\\end{enumerate*}\n"
      ],
      "text/markdown": [
       "1. 0.1883\n",
       "2. 0.1629\n",
       "3. 0.1464\n",
       "4. 0.1363\n",
       "5. 0.1146\n",
       "6. 0.0785\n",
       "7. 0.0552\n",
       "8. 0.0106\n",
       "9. 0.1034\n",
       "10. 0.0037\n",
       "\n",
       "\n"
      ],
      "text/plain": [
       " [1] 0.1883 0.1629 0.1464 0.1363 0.1146 0.0785 0.0552 0.0106 0.1034 0.0037"
      ]
     },
     "metadata": {},
     "output_type": "display_data"
    },
    {
     "name": "stdout",
     "output_type": "stream",
     "text": [
      "[1] \"Sensation_seeking\"\n"
     ]
    },
    {
     "data": {
      "text/html": [
       "<ol class=list-inline>\n",
       "\t<li>0.07</li>\n",
       "\t<li>0.1183</li>\n",
       "\t<li>0.1321</li>\n",
       "\t<li>0.0462</li>\n",
       "\t<li>0.1162</li>\n",
       "\t<li>0.1119</li>\n",
       "\t<li>0.0897</li>\n",
       "\t<li>0.1114</li>\n",
       "\t<li>0.0377</li>\n",
       "\t<li>0.0546</li>\n",
       "</ol>\n"
      ],
      "text/latex": [
       "\\begin{enumerate*}\n",
       "\\item 0.07\n",
       "\\item 0.1183\n",
       "\\item 0.1321\n",
       "\\item 0.0462\n",
       "\\item 0.1162\n",
       "\\item 0.1119\n",
       "\\item 0.0897\n",
       "\\item 0.1114\n",
       "\\item 0.0377\n",
       "\\item 0.0546\n",
       "\\end{enumerate*}\n"
      ],
      "text/markdown": [
       "1. 0.07\n",
       "2. 0.1183\n",
       "3. 0.1321\n",
       "4. 0.0462\n",
       "5. 0.1162\n",
       "6. 0.1119\n",
       "7. 0.0897\n",
       "8. 0.1114\n",
       "9. 0.0377\n",
       "10. 0.0546\n",
       "\n",
       "\n"
      ],
      "text/plain": [
       " [1] 0.0700 0.1183 0.1321 0.0462 0.1162 0.1119 0.0897 0.1114 0.0377 0.0546"
      ]
     },
     "metadata": {},
     "output_type": "display_data"
    },
    {
     "name": "stdout",
     "output_type": "stream",
     "text": [
      "[1] \"Caffeine\"\n"
     ]
    },
    {
     "data": {
      "text/html": [
       "<ol class=list-inline>\n",
       "\t<li>7</li>\n",
       "\t<li>6</li>\n",
       "\t<li>5</li>\n",
       "\t<li>4</li>\n",
       "\t<li>1</li>\n",
       "\t<li>2</li>\n",
       "\t<li>3</li>\n",
       "</ol>\n"
      ],
      "text/latex": [
       "\\begin{enumerate*}\n",
       "\\item 7\n",
       "\\item 6\n",
       "\\item 5\n",
       "\\item 4\n",
       "\\item 1\n",
       "\\item 2\n",
       "\\item 3\n",
       "\\end{enumerate*}\n"
      ],
      "text/markdown": [
       "1. 7\n",
       "2. 6\n",
       "3. 5\n",
       "4. 4\n",
       "5. 1\n",
       "6. 2\n",
       "7. 3\n",
       "\n",
       "\n"
      ],
      "text/plain": [
       "[1] 7 6 5 4 1 2 3"
      ]
     },
     "metadata": {},
     "output_type": "display_data"
    },
    {
     "name": "stdout",
     "output_type": "stream",
     "text": [
      "[1] \"Cannabis\"\n"
     ]
    },
    {
     "data": {
      "text/html": [
       "<ol class=list-inline>\n",
       "\t<li>1</li>\n",
       "\t<li>5</li>\n",
       "\t<li>4</li>\n",
       "\t<li>3</li>\n",
       "\t<li>2</li>\n",
       "\t<li>7</li>\n",
       "\t<li>6</li>\n",
       "</ol>\n"
      ],
      "text/latex": [
       "\\begin{enumerate*}\n",
       "\\item 1\n",
       "\\item 5\n",
       "\\item 4\n",
       "\\item 3\n",
       "\\item 2\n",
       "\\item 7\n",
       "\\item 6\n",
       "\\end{enumerate*}\n"
      ],
      "text/markdown": [
       "1. 1\n",
       "2. 5\n",
       "3. 4\n",
       "4. 3\n",
       "5. 2\n",
       "6. 7\n",
       "7. 6\n",
       "\n",
       "\n"
      ],
      "text/plain": [
       "[1] 1 5 4 3 2 7 6"
      ]
     },
     "metadata": {},
     "output_type": "display_data"
    },
    {
     "name": "stdout",
     "output_type": "stream",
     "text": [
      "[1] \"Meth\"\n"
     ]
    },
    {
     "data": {
      "text/html": [
       "<ol class=list-inline>\n",
       "\t<li>1</li>\n",
       "\t<li>4</li>\n",
       "\t<li>2</li>\n",
       "\t<li>7</li>\n",
       "\t<li>5</li>\n",
       "\t<li>3</li>\n",
       "\t<li>6</li>\n",
       "</ol>\n"
      ],
      "text/latex": [
       "\\begin{enumerate*}\n",
       "\\item 1\n",
       "\\item 4\n",
       "\\item 2\n",
       "\\item 7\n",
       "\\item 5\n",
       "\\item 3\n",
       "\\item 6\n",
       "\\end{enumerate*}\n"
      ],
      "text/markdown": [
       "1. 1\n",
       "2. 4\n",
       "3. 2\n",
       "4. 7\n",
       "5. 5\n",
       "6. 3\n",
       "7. 6\n",
       "\n",
       "\n"
      ],
      "text/plain": [
       "[1] 1 4 2 7 5 3 6"
      ]
     },
     "metadata": {},
     "output_type": "display_data"
    }
   ],
   "source": [
    "# Inspecting the unique values of all the variables (note that R does no allow counting from 0 so all the levels of the labels are shifted +1)\n",
    "\n",
    "print(\"age\")\n",
    "unique(df$Age)\n",
    "print(\"gender\")\n",
    "unique(df$Gender)\n",
    "print(\"education\")\n",
    "unique(df$Education)\n",
    "print(\"Nscore\")\n",
    "unique(df$Nscore)\n",
    "print(\"Escore\")\n",
    "unique(df$Escore)\n",
    "print(\"Cscore\")\n",
    "unique(df$Cscore)\n",
    "print(\"Impulsive\")\n",
    "unique(df$Impulsive)\n",
    "print(\"Sensation_seeking\")\n",
    "unique(df$Sensation_seeking)\n",
    "print(\"Caffeine\")\n",
    "unique(df$Caffeine)\n",
    "print(\"Cannabis\")\n",
    "unique(df$Cannabis)\n",
    "print(\"Meth\")\n",
    "unique(df$Meth)"
   ]
  },
  {
   "cell_type": "code",
   "execution_count": 7,
   "metadata": {},
   "outputs": [
    {
     "data": {
      "text/html": [
       "<table>\n",
       "<thead><tr><th scope=col>Age</th><th scope=col>Gender</th><th scope=col>Education</th><th scope=col>Nscore</th><th scope=col>Escore</th><th scope=col>Oscore</th><th scope=col>Ascore</th><th scope=col>Cscore</th><th scope=col>Impulsive</th><th scope=col>Sensation_seeking</th><th scope=col>Caffeine</th><th scope=col>Cannabis</th><th scope=col>Meth</th><th scope=col>split_flag</th></tr></thead>\n",
       "<tbody>\n",
       "\t<tr><td>3     </td><td>0     </td><td>6     </td><td>39    </td><td>36    </td><td>42    </td><td>37    </td><td>42    </td><td>0.1883</td><td>0.0700</td><td>7     </td><td>1     </td><td>1     </td><td>test  </td></tr>\n",
       "\t<tr><td>2     </td><td>1     </td><td>9     </td><td>29    </td><td>52    </td><td>55    </td><td>48    </td><td>41    </td><td>0.1629</td><td>0.1183</td><td>7     </td><td>5     </td><td>4     </td><td>train </td></tr>\n",
       "\t<tr><td>3     </td><td>1     </td><td>6     </td><td>31    </td><td>45    </td><td>40    </td><td>32    </td><td>34    </td><td>0.1464</td><td>0.1321</td><td>7     </td><td>4     </td><td>1     </td><td>train </td></tr>\n",
       "\t<tr><td>1     </td><td>0     </td><td>8     </td><td>34    </td><td>34    </td><td>46    </td><td>47    </td><td>46    </td><td>0.1464</td><td>0.0700</td><td>6     </td><td>3     </td><td>1     </td><td>train </td></tr>\n",
       "\t<tr><td>3     </td><td>0     </td><td>9     </td><td>43    </td><td>28    </td><td>43    </td><td>41    </td><td>50    </td><td>0.1883</td><td>0.1183</td><td>7     </td><td>4     </td><td>1     </td><td>train </td></tr>\n",
       "\t<tr><td>6     </td><td>0     </td><td>4     </td><td>29    </td><td>38    </td><td>35    </td><td>55    </td><td>52    </td><td>0.1464</td><td>0.0462</td><td>7     </td><td>1     </td><td>1     </td><td>train </td></tr>\n",
       "</tbody>\n",
       "</table>\n"
      ],
      "text/latex": [
       "\\begin{tabular}{r|llllllllllllll}\n",
       " Age & Gender & Education & Nscore & Escore & Oscore & Ascore & Cscore & Impulsive & Sensation\\_seeking & Caffeine & Cannabis & Meth & split\\_flag\\\\\n",
       "\\hline\n",
       "\t 3      & 0      & 6      & 39     & 36     & 42     & 37     & 42     & 0.1883 & 0.0700 & 7      & 1      & 1      & test  \\\\\n",
       "\t 2      & 1      & 9      & 29     & 52     & 55     & 48     & 41     & 0.1629 & 0.1183 & 7      & 5      & 4      & train \\\\\n",
       "\t 3      & 1      & 6      & 31     & 45     & 40     & 32     & 34     & 0.1464 & 0.1321 & 7      & 4      & 1      & train \\\\\n",
       "\t 1      & 0      & 8      & 34     & 34     & 46     & 47     & 46     & 0.1464 & 0.0700 & 6      & 3      & 1      & train \\\\\n",
       "\t 3      & 0      & 9      & 43     & 28     & 43     & 41     & 50     & 0.1883 & 0.1183 & 7      & 4      & 1      & train \\\\\n",
       "\t 6      & 0      & 4      & 29     & 38     & 35     & 55     & 52     & 0.1464 & 0.0462 & 7      & 1      & 1      & train \\\\\n",
       "\\end{tabular}\n"
      ],
      "text/markdown": [
       "\n",
       "| Age | Gender | Education | Nscore | Escore | Oscore | Ascore | Cscore | Impulsive | Sensation_seeking | Caffeine | Cannabis | Meth | split_flag |\n",
       "|---|---|---|---|---|---|---|---|---|---|---|---|---|---|\n",
       "| 3      | 0      | 6      | 39     | 36     | 42     | 37     | 42     | 0.1883 | 0.0700 | 7      | 1      | 1      | test   |\n",
       "| 2      | 1      | 9      | 29     | 52     | 55     | 48     | 41     | 0.1629 | 0.1183 | 7      | 5      | 4      | train  |\n",
       "| 3      | 1      | 6      | 31     | 45     | 40     | 32     | 34     | 0.1464 | 0.1321 | 7      | 4      | 1      | train  |\n",
       "| 1      | 0      | 8      | 34     | 34     | 46     | 47     | 46     | 0.1464 | 0.0700 | 6      | 3      | 1      | train  |\n",
       "| 3      | 0      | 9      | 43     | 28     | 43     | 41     | 50     | 0.1883 | 0.1183 | 7      | 4      | 1      | train  |\n",
       "| 6      | 0      | 4      | 29     | 38     | 35     | 55     | 52     | 0.1464 | 0.0462 | 7      | 1      | 1      | train  |\n",
       "\n"
      ],
      "text/plain": [
       "  Age Gender Education Nscore Escore Oscore Ascore Cscore Impulsive\n",
       "1 3   0      6         39     36     42     37     42     0.1883   \n",
       "2 2   1      9         29     52     55     48     41     0.1629   \n",
       "3 3   1      6         31     45     40     32     34     0.1464   \n",
       "4 1   0      8         34     34     46     47     46     0.1464   \n",
       "5 3   0      9         43     28     43     41     50     0.1883   \n",
       "6 6   0      4         29     38     35     55     52     0.1464   \n",
       "  Sensation_seeking Caffeine Cannabis Meth split_flag\n",
       "1 0.0700            7        1        1    test      \n",
       "2 0.1183            7        5        4    train     \n",
       "3 0.1321            7        4        1    train     \n",
       "4 0.0700            6        3        1    train     \n",
       "5 0.1183            7        4        1    train     \n",
       "6 0.0462            7        1        1    train     "
      ]
     },
     "metadata": {},
     "output_type": "display_data"
    },
    {
     "data": {
      "text/html": [
       "<table>\n",
       "<thead><tr><th scope=col>Age</th><th scope=col>Gender</th><th scope=col>Education</th><th scope=col>Nscore</th><th scope=col>Escore</th><th scope=col>Oscore</th><th scope=col>Ascore</th><th scope=col>Cscore</th><th scope=col>Impulsive</th><th scope=col>Sensation_seeking</th><th scope=col>Caffeine</th><th scope=col>Cannabis</th><th scope=col>Meth</th></tr></thead>\n",
       "<tbody>\n",
       "\t<tr><td>2     </td><td>1     </td><td>9     </td><td>29    </td><td>52    </td><td>55    </td><td>48    </td><td>41    </td><td>0.1629</td><td>0.1183</td><td>7     </td><td>5     </td><td>4     </td></tr>\n",
       "\t<tr><td>3     </td><td>1     </td><td>6     </td><td>31    </td><td>45    </td><td>40    </td><td>32    </td><td>34    </td><td>0.1464</td><td>0.1321</td><td>7     </td><td>4     </td><td>1     </td></tr>\n",
       "\t<tr><td>1     </td><td>0     </td><td>8     </td><td>34    </td><td>34    </td><td>46    </td><td>47    </td><td>46    </td><td>0.1464</td><td>0.0700</td><td>6     </td><td>3     </td><td>1     </td></tr>\n",
       "\t<tr><td>3     </td><td>0     </td><td>9     </td><td>43    </td><td>28    </td><td>43    </td><td>41    </td><td>50    </td><td>0.1883</td><td>0.1183</td><td>7     </td><td>4     </td><td>1     </td></tr>\n",
       "\t<tr><td>6     </td><td>0     </td><td>4     </td><td>29    </td><td>38    </td><td>35    </td><td>55    </td><td>52    </td><td>0.1464</td><td>0.0462</td><td>7     </td><td>1     </td><td>1     </td></tr>\n",
       "\t<tr><td>4     </td><td>1     </td><td>8     </td><td>31    </td><td>32    </td><td>43    </td><td>41    </td><td>48    </td><td>0.1883</td><td>0.1162</td><td>7     </td><td>2     </td><td>1     </td></tr>\n",
       "</tbody>\n",
       "</table>\n"
      ],
      "text/latex": [
       "\\begin{tabular}{r|lllllllllllll}\n",
       " Age & Gender & Education & Nscore & Escore & Oscore & Ascore & Cscore & Impulsive & Sensation\\_seeking & Caffeine & Cannabis & Meth\\\\\n",
       "\\hline\n",
       "\t 2      & 1      & 9      & 29     & 52     & 55     & 48     & 41     & 0.1629 & 0.1183 & 7      & 5      & 4     \\\\\n",
       "\t 3      & 1      & 6      & 31     & 45     & 40     & 32     & 34     & 0.1464 & 0.1321 & 7      & 4      & 1     \\\\\n",
       "\t 1      & 0      & 8      & 34     & 34     & 46     & 47     & 46     & 0.1464 & 0.0700 & 6      & 3      & 1     \\\\\n",
       "\t 3      & 0      & 9      & 43     & 28     & 43     & 41     & 50     & 0.1883 & 0.1183 & 7      & 4      & 1     \\\\\n",
       "\t 6      & 0      & 4      & 29     & 38     & 35     & 55     & 52     & 0.1464 & 0.0462 & 7      & 1      & 1     \\\\\n",
       "\t 4      & 1      & 8      & 31     & 32     & 43     & 41     & 48     & 0.1883 & 0.1162 & 7      & 2      & 1     \\\\\n",
       "\\end{tabular}\n"
      ],
      "text/markdown": [
       "\n",
       "| Age | Gender | Education | Nscore | Escore | Oscore | Ascore | Cscore | Impulsive | Sensation_seeking | Caffeine | Cannabis | Meth |\n",
       "|---|---|---|---|---|---|---|---|---|---|---|---|---|\n",
       "| 2      | 1      | 9      | 29     | 52     | 55     | 48     | 41     | 0.1629 | 0.1183 | 7      | 5      | 4      |\n",
       "| 3      | 1      | 6      | 31     | 45     | 40     | 32     | 34     | 0.1464 | 0.1321 | 7      | 4      | 1      |\n",
       "| 1      | 0      | 8      | 34     | 34     | 46     | 47     | 46     | 0.1464 | 0.0700 | 6      | 3      | 1      |\n",
       "| 3      | 0      | 9      | 43     | 28     | 43     | 41     | 50     | 0.1883 | 0.1183 | 7      | 4      | 1      |\n",
       "| 6      | 0      | 4      | 29     | 38     | 35     | 55     | 52     | 0.1464 | 0.0462 | 7      | 1      | 1      |\n",
       "| 4      | 1      | 8      | 31     | 32     | 43     | 41     | 48     | 0.1883 | 0.1162 | 7      | 2      | 1      |\n",
       "\n"
      ],
      "text/plain": [
       "  Age Gender Education Nscore Escore Oscore Ascore Cscore Impulsive\n",
       "1 2   1      9         29     52     55     48     41     0.1629   \n",
       "2 3   1      6         31     45     40     32     34     0.1464   \n",
       "3 1   0      8         34     34     46     47     46     0.1464   \n",
       "4 3   0      9         43     28     43     41     50     0.1883   \n",
       "5 6   0      4         29     38     35     55     52     0.1464   \n",
       "6 4   1      8         31     32     43     41     48     0.1883   \n",
       "  Sensation_seeking Caffeine Cannabis Meth\n",
       "1 0.1183            7        5        4   \n",
       "2 0.1321            7        4        1   \n",
       "3 0.0700            6        3        1   \n",
       "4 0.1183            7        4        1   \n",
       "5 0.0462            7        1        1   \n",
       "6 0.1162            7        2        1   "
      ]
     },
     "metadata": {},
     "output_type": "display_data"
    },
    {
     "data": {
      "text/html": [
       "<table>\n",
       "<thead><tr><th scope=col>Age</th><th scope=col>Gender</th><th scope=col>Education</th><th scope=col>Nscore</th><th scope=col>Escore</th><th scope=col>Oscore</th><th scope=col>Ascore</th><th scope=col>Cscore</th><th scope=col>Impulsive</th><th scope=col>Sensation_seeking</th><th scope=col>Caffeine</th><th scope=col>Cannabis</th><th scope=col>Meth</th></tr></thead>\n",
       "<tbody>\n",
       "\t<tr><td>3     </td><td>0     </td><td>6     </td><td>39    </td><td>36    </td><td>42    </td><td>37    </td><td>42    </td><td>0.1883</td><td>0.0700</td><td>7     </td><td>1     </td><td>1     </td></tr>\n",
       "\t<tr><td>5     </td><td>1     </td><td>8     </td><td>33    </td><td>40    </td><td>36    </td><td>47    </td><td>43    </td><td>0.1464</td><td>0.0897</td><td>7     </td><td>2     </td><td>1     </td></tr>\n",
       "\t<tr><td>5     </td><td>0     </td><td>7     </td><td>56    </td><td>41    </td><td>49    </td><td>32    </td><td>36    </td><td>0.0785</td><td>0.1162</td><td>7     </td><td>4     </td><td>2     </td></tr>\n",
       "\t<tr><td>5     </td><td>0     </td><td>6     </td><td>27    </td><td>49    </td><td>49    </td><td>39    </td><td>52    </td><td>0.0785</td><td>0.1119</td><td>7     </td><td>1     </td><td>1     </td></tr>\n",
       "\t<tr><td>4     </td><td>1     </td><td>2     </td><td>41    </td><td>31    </td><td>44    </td><td>40    </td><td>31    </td><td>0.1464</td><td>0.0897</td><td>7     </td><td>7     </td><td>1     </td></tr>\n",
       "\t<tr><td>5     </td><td>1     </td><td>7     </td><td>49    </td><td>39    </td><td>45    </td><td>30    </td><td>30    </td><td>0.1629</td><td>0.1183</td><td>7     </td><td>4     </td><td>1     </td></tr>\n",
       "</tbody>\n",
       "</table>\n"
      ],
      "text/latex": [
       "\\begin{tabular}{r|lllllllllllll}\n",
       " Age & Gender & Education & Nscore & Escore & Oscore & Ascore & Cscore & Impulsive & Sensation\\_seeking & Caffeine & Cannabis & Meth\\\\\n",
       "\\hline\n",
       "\t 3      & 0      & 6      & 39     & 36     & 42     & 37     & 42     & 0.1883 & 0.0700 & 7      & 1      & 1     \\\\\n",
       "\t 5      & 1      & 8      & 33     & 40     & 36     & 47     & 43     & 0.1464 & 0.0897 & 7      & 2      & 1     \\\\\n",
       "\t 5      & 0      & 7      & 56     & 41     & 49     & 32     & 36     & 0.0785 & 0.1162 & 7      & 4      & 2     \\\\\n",
       "\t 5      & 0      & 6      & 27     & 49     & 49     & 39     & 52     & 0.0785 & 0.1119 & 7      & 1      & 1     \\\\\n",
       "\t 4      & 1      & 2      & 41     & 31     & 44     & 40     & 31     & 0.1464 & 0.0897 & 7      & 7      & 1     \\\\\n",
       "\t 5      & 1      & 7      & 49     & 39     & 45     & 30     & 30     & 0.1629 & 0.1183 & 7      & 4      & 1     \\\\\n",
       "\\end{tabular}\n"
      ],
      "text/markdown": [
       "\n",
       "| Age | Gender | Education | Nscore | Escore | Oscore | Ascore | Cscore | Impulsive | Sensation_seeking | Caffeine | Cannabis | Meth |\n",
       "|---|---|---|---|---|---|---|---|---|---|---|---|---|\n",
       "| 3      | 0      | 6      | 39     | 36     | 42     | 37     | 42     | 0.1883 | 0.0700 | 7      | 1      | 1      |\n",
       "| 5      | 1      | 8      | 33     | 40     | 36     | 47     | 43     | 0.1464 | 0.0897 | 7      | 2      | 1      |\n",
       "| 5      | 0      | 7      | 56     | 41     | 49     | 32     | 36     | 0.0785 | 0.1162 | 7      | 4      | 2      |\n",
       "| 5      | 0      | 6      | 27     | 49     | 49     | 39     | 52     | 0.0785 | 0.1119 | 7      | 1      | 1      |\n",
       "| 4      | 1      | 2      | 41     | 31     | 44     | 40     | 31     | 0.1464 | 0.0897 | 7      | 7      | 1      |\n",
       "| 5      | 1      | 7      | 49     | 39     | 45     | 30     | 30     | 0.1629 | 0.1183 | 7      | 4      | 1      |\n",
       "\n"
      ],
      "text/plain": [
       "  Age Gender Education Nscore Escore Oscore Ascore Cscore Impulsive\n",
       "1 3   0      6         39     36     42     37     42     0.1883   \n",
       "2 5   1      8         33     40     36     47     43     0.1464   \n",
       "3 5   0      7         56     41     49     32     36     0.0785   \n",
       "4 5   0      6         27     49     49     39     52     0.0785   \n",
       "5 4   1      2         41     31     44     40     31     0.1464   \n",
       "6 5   1      7         49     39     45     30     30     0.1629   \n",
       "  Sensation_seeking Caffeine Cannabis Meth\n",
       "1 0.0700            7        1        1   \n",
       "2 0.0897            7        2        1   \n",
       "3 0.1162            7        4        2   \n",
       "4 0.1119            7        1        1   \n",
       "5 0.0897            7        7        1   \n",
       "6 0.1183            7        4        1   "
      ]
     },
     "metadata": {},
     "output_type": "display_data"
    },
    {
     "name": "stdout",
     "output_type": "stream",
     "text": [
      "** Split train/test set information **\n",
      " + random seed        :  112233 \n",
      " + split data            \n",
      "    - train set count :  1320 \n",
      "    - test set count  :  565 \n",
      " + target variable    :  Meth \n",
      "    - minority class  :  2 (0.020690)\n",
      "    - majority class  :  1 (0.758090)\n"
     ]
    }
   ],
   "source": [
    "# Split our data into a training and testing set to be able to test how well it generalizes on unseen data\n",
    "\n",
    "# The balancing is done upon the Meth variable because that is the variable that shows a problematic class imbalance\n",
    "\n",
    "sb <- df %>% \n",
    "  split_by(Meth, seed = 112233) # set the seed to make our split partition reproducible\n",
    "\n",
    "# Inspect the new dataframe (note the new column)\n",
    "\n",
    "head(sb)\n",
    "\n",
    "# Split up this new dataframe into a train and test set based upon their flags\n",
    "\n",
    "train <- sb %>%\n",
    "  extract_set(set = \"train\")\n",
    "\n",
    "test <- sb %>%\n",
    "  extract_set(set = \"test\")\n",
    "\n",
    "# Inspect both sets\n",
    "\n",
    "head(train)\n",
    "\n",
    "head(test)\n",
    "\n",
    "summary(sb)"
   ]
  },
  {
   "cell_type": "code",
   "execution_count": 8,
   "metadata": {
    "scrolled": false
   },
   "outputs": [
    {
     "data": {
      "image/png": "[encoded data removed]",
      "text/plain": [
       "plot without title"
      ]
     },
     "metadata": {},
     "output_type": "display_data"
    },
    {
     "data": {
      "image/png": "[encoded data removed]",
      "text/plain": [
       "plot without title"
      ]
     },
     "metadata": {},
     "output_type": "display_data"
    },
    {
     "data": {
      "image/png": "[encoded data removed]",
      "text/plain": [
       "plot without title"
      ]
     },
     "metadata": {},
     "output_type": "display_data"
    },
    {
     "data": {
      "image/png": "[encoded data removed]",
      "text/plain": [
       "plot without title"
      ]
     },
     "metadata": {},
     "output_type": "display_data"
    },
    {
     "data": {
      "image/png": "[encoded data removed]",
      "text/plain": [
       "plot without title"
      ]
     },
     "metadata": {},
     "output_type": "display_data"
    },
    {
     "data": {
      "image/png": "[encoded data removed]",
      "text/plain": [
       "plot without title"
      ]
     },
     "metadata": {},
     "output_type": "display_data"
    },
    {
     "data": {
      "image/png": "[encoded data removed]",
      "text/plain": [
       "plot without title"
      ]
     },
     "metadata": {},
     "output_type": "display_data"
    },
    {
     "data": {
      "image/png": "[encoded data removed]",
      "text/plain": [
       "plot without title"
      ]
     },
     "metadata": {},
     "output_type": "display_data"
    },
    {
     "data": {
      "image/png": "[encoded data removed]",
      "text/plain": [
       "plot without title"
      ]
     },
     "metadata": {},
     "output_type": "display_data"
    },
    {
     "data": {
      "image/png": "[encoded data removed]",
      "text/plain": [
       "plot without title"
      ]
     },
     "metadata": {},
     "output_type": "display_data"
    },
    {
     "data": {
      "image/png": "[encoded data removed]",
      "text/plain": [
       "plot without title"
      ]
     },
     "metadata": {},
     "output_type": "display_data"
    },
    {
     "data": {
      "image/png": "[encoded data removed]",
      "text/plain": [
       "plot without title"
      ]
     },
     "metadata": {},
     "output_type": "display_data"
    },
    {
     "data": {
      "image/png": "[encoded data removed]",
      "text/plain": [
       "plot without title"
      ]
     },
     "metadata": {},
     "output_type": "display_data"
    },
    {
     "data": {
      "image/png": "[encoded data removed]",
      "text/plain": [
       "plot without title"
      ]
     },
     "metadata": {},
     "output_type": "display_data"
    }
   ],
   "source": [
    "# Visually compare/verify the result of the balanced split\n",
    "\n",
    "sb %>%\n",
    "  compare_plot(\"Meth\")\n",
    "\n",
    "sb %>%\n",
    "  compare_plot()"
   ]
  },
  {
   "cell_type": "code",
   "execution_count": 9,
   "metadata": {
    "scrolled": false
   },
   "outputs": [
    {
     "data": {
      "image/png": "[encoded data removed]",
      "text/plain": [
       "plot without title"
      ]
     },
     "metadata": {},
     "output_type": "display_data"
    }
   ],
   "source": [
    "# Creating and plotting the DAG\n",
    "\n",
    "graph <- dagitty('dag {\n",
    "bb=\"0,0,1,1\"\n",
    "Age [pos=\"0.070,0.753\"]\n",
    "Ascore [pos=\"0.270,0.753\"]\n",
    "Caffeine [pos=\"0.839,0.112\"]\n",
    "Cannabis [pos=\"0.846,0.427\"]\n",
    "Cscore [pos=\"0.270,0.260\"]\n",
    "Education [pos=\"0.650,0.426\"]\n",
    "Escore [pos=\"0.270,0.508\"]\n",
    "Gender [pos=\"0.074,0.260\"]\n",
    "Impulsive [pos=\"0.474,0.958\"]\n",
    "Meth [pos=\"0.846,0.834\"]\n",
    "Nscore [pos=\"0.264,0.900\"]\n",
    "Oscore [pos=\"0.270,0.088\"]\n",
    "Sensation_seeking [pos=\"0.447,0.072\"]\n",
    "Age -> Ascore [pos=\"0.188,0.797\"]\n",
    "Age -> Caffeine [pos=\"0.010,0.025\"]\n",
    "Age -> Cannabis [pos=\"0.311,0.741\"]\n",
    "Age -> Cscore [pos=\"0.039,0.480\"]\n",
    "Age -> Education [pos=\"0.458,0.713\"]\n",
    "Age -> Escore\n",
    "Age -> Impulsive [pos=\"0.196,0.999\"]\n",
    "Age -> Meth [pos=\"0.302,0.847\"]\n",
    "Age -> Nscore\n",
    "Age -> Oscore [pos=\"0.036,0.406\"]\n",
    "Age -> Sensation_seeking [pos=\"0.024,0.257\"]\n",
    "Ascore -> Cannabis\n",
    "Ascore -> Meth [pos=\"0.350,0.851\"]\n",
    "Cannabis -> Meth\n",
    "Cscore -> Education\n",
    "Cscore -> Impulsive [pos=\"0.420,0.769\"]\n",
    "Cscore -> Meth [pos=\"0.577,0.720\"]\n",
    "Education -> Caffeine\n",
    "Education -> Cannabis\n",
    "Education -> Meth\n",
    "Escore -> Caffeine [pos=\"0.393,0.237\"]\n",
    "Escore -> Cannabis [pos=\"0.416,0.556\"]\n",
    "Escore -> Impulsive [pos=\"0.404,0.691\"]\n",
    "Escore -> Meth [pos=\"0.158,0.875\"]\n",
    "Gender -> Ascore [pos=\"0.077,0.567\"]\n",
    "Gender -> Cscore\n",
    "Gender -> Escore [pos=\"0.199,0.421\"]\n",
    "Gender -> Nscore [pos=\"0.077,0.534\"]\n",
    "Gender -> Oscore [pos=\"0.137,0.151\"]\n",
    "Impulsive -> Cannabis\n",
    "Impulsive -> Meth [pos=\"0.603,0.879\"]\n",
    "Impulsive -> Sensation_seeking [pos=\"0.609,0.085\"]\n",
    "Nscore -> Cannabis\n",
    "Nscore -> Impulsive\n",
    "Nscore -> Meth\n",
    "Oscore -> Cannabis\n",
    "Oscore -> Education [pos=\"0.364,0.319\"]\n",
    "Oscore -> Impulsive [pos=\"0.305,0.395\"]\n",
    "Oscore -> Meth [pos=\"0.480,0.679\"]\n",
    "Oscore -> Sensation_seeking\n",
    "Sensation_seeking -> Cannabis\n",
    "Sensation_seeking -> Meth [pos=\"0.329,0.574\"]\n",
    "}\n",
    "')\n",
    "\n",
    "plot(graph)"
   ]
  },
  {
   "cell_type": "code",
   "execution_count": 10,
   "metadata": {},
   "outputs": [
    {
     "data": {
      "text/plain": [
       "\n",
       "  Bayesian network parameters\n",
       "\n",
       "  Parameters of node Age (Gaussian distribution)\n",
       "\n",
       "Conditional density: Age\n",
       "Coefficients:\n",
       "  (Intercept)  \n",
       "-1.127465e-16  \n",
       "Standard deviation of the residuals: 1 \n",
       "\n",
       "  Parameters of node Ascore (Gaussian distribution)\n",
       "\n",
       "Conditional density: Ascore | Age + Gender\n",
       "Coefficients:\n",
       "  (Intercept)            Age         Gender  \n",
       "-2.411041e-16   4.975173e-02  -2.097066e-01  \n",
       "Standard deviation of the residuals: 0.9761595 \n",
       "\n",
       "  Parameters of node Caffeine (Gaussian distribution)\n",
       "\n",
       "Conditional density: Caffeine | Age + Education + Escore\n",
       "Coefficients:\n",
       "  (Intercept)            Age      Education         Escore  \n",
       "-2.165916e-17   2.186888e-02   8.037852e-03   3.808936e-02  \n",
       "Standard deviation of the residuals: 1.000125 \n",
       "\n",
       "  Parameters of node Cannabis (Gaussian distribution)\n",
       "\n",
       "Conditional density: Cannabis | Age + Ascore + Education + Escore + Impulsive + Nscore + Oscore + Sensation_seeking\n",
       "Coefficients:\n",
       "      (Intercept)                Age             Ascore          Education  \n",
       "    -2.284828e-17      -3.428234e-01      -9.706884e-02      -2.085761e-01  \n",
       "           Escore          Impulsive             Nscore             Oscore  \n",
       "    -9.983972e-02      -6.244423e-02      -5.894002e-02       3.492896e-01  \n",
       "Sensation_seeking  \n",
       "     9.849816e-02  \n",
       "Standard deviation of the residuals: 0.7825246 \n",
       "\n",
       "  Parameters of node Cscore (Gaussian distribution)\n",
       "\n",
       "Conditional density: Cscore | Age + Gender\n",
       "Coefficients:\n",
       "  (Intercept)            Age         Gender  \n",
       "-3.117765e-16   1.580373e-01  -1.889466e-01  \n",
       "Standard deviation of the residuals: 0.9668065 \n",
       "\n",
       "  Parameters of node Education (Gaussian distribution)\n",
       "\n",
       "Conditional density: Education | Age + Cscore + Oscore\n",
       "Coefficients:\n",
       " (Intercept)           Age        Cscore        Oscore  \n",
       "2.621642e-16  8.921346e-02  1.960840e-01  1.164701e-01  \n",
       "Standard deviation of the residuals: 0.9708731 \n",
       "\n",
       "  Parameters of node Escore (Gaussian distribution)\n",
       "\n",
       "Conditional density: Escore | Age + Gender\n",
       "Coefficients:\n",
       "  (Intercept)            Age         Gender  \n",
       " 2.098248e-16  -5.003272e-02  -7.014833e-02  \n",
       "Standard deviation of the residuals: 0.9973929 \n",
       "\n",
       "  Parameters of node Gender (Gaussian distribution)\n",
       "\n",
       "Conditional density: Gender\n",
       "Coefficients:\n",
       "(Intercept)  \n",
       "2.37184e-17  \n",
       "Standard deviation of the residuals: 1 \n",
       "\n",
       "  Parameters of node Impulsive (Gaussian distribution)\n",
       "\n",
       "Conditional density: Impulsive | Age + Cscore + Escore + Nscore + Oscore\n",
       "Coefficients:\n",
       "  (Intercept)            Age         Cscore         Escore         Nscore  \n",
       "-1.583889e-16   5.978337e-02   3.140387e-01  -1.942501e-01  -8.351083e-02  \n",
       "       Oscore  \n",
       "-3.981707e-02  \n",
       "Standard deviation of the residuals: 0.9344068 \n",
       "\n",
       "  Parameters of node Meth (Gaussian distribution)\n",
       "\n",
       "Conditional density: Meth | Age + Ascore + Cannabis + Cscore + Education + Escore + Impulsive + Nscore + Oscore + Sensation_seeking\n",
       "Coefficients:\n",
       "      (Intercept)                Age             Ascore           Cannabis  \n",
       "    -3.326763e-16      -5.248621e-02      -7.548469e-02       1.971882e-01  \n",
       "           Cscore          Education             Escore          Impulsive  \n",
       "    -5.212262e-02      -9.054827e-02      -5.400805e-02      -7.959947e-03  \n",
       "           Nscore             Oscore  Sensation_seeking  \n",
       "     1.168828e-01       1.171178e-01      -3.144001e-02  \n",
       "Standard deviation of the residuals: 0.918995 \n",
       "\n",
       "  Parameters of node Nscore (Gaussian distribution)\n",
       "\n",
       "Conditional density: Nscore | Age + Gender\n",
       "Coefficients:\n",
       "  (Intercept)            Age         Gender  \n",
       " 2.749601e-16  -1.443910e-01  -8.868086e-02  \n",
       "Standard deviation of the residuals: 0.987598 \n",
       "\n",
       "  Parameters of node Oscore (Gaussian distribution)\n",
       "\n",
       "Conditional density: Oscore | Age + Gender\n",
       "Coefficients:\n",
       "  (Intercept)            Age         Gender  \n",
       "-3.372194e-16  -1.942317e-01   1.097179e-01  \n",
       "Standard deviation of the residuals: 0.9733304 \n",
       "\n",
       "  Parameters of node Sensation_seeking (Gaussian distribution)\n",
       "\n",
       "Conditional density: Sensation_seeking | Age + Impulsive + Oscore\n",
       "Coefficients:\n",
       "  (Intercept)            Age      Impulsive         Oscore  \n",
       " 2.464468e-16  -1.034471e-01   1.343430e-02   2.096887e-01  \n",
       "Standard deviation of the residuals: 0.9692365 \n"
      ]
     },
     "metadata": {},
     "output_type": "display_data"
    }
   ],
   "source": [
    "# Fitting the network on our training dataset\n",
    "\n",
    "network <- model2network(toString(graph,\"bnlearn\"))\n",
    "fit <- bn.fit(network, as.data.frame(scale(train)))\n",
    "\n",
    "# Inspecting our fit\n",
    "\n",
    "fit"
   ]
  },
  {
   "cell_type": "code",
   "execution_count": 11,
   "metadata": {},
   "outputs": [
    {
     "name": "stdout",
     "output_type": "stream",
     "text": [
      "[1] \"Average accuracy with entire network:\"\n"
     ]
    },
    {
     "data": {
      "text/html": [
       "0.313031031243968"
      ],
      "text/latex": [
       "0.313031031243968"
      ],
      "text/markdown": [
       "0.313031031243968"
      ],
      "text/plain": [
       "[1] 0.313031"
      ]
     },
     "metadata": {},
     "output_type": "display_data"
    },
    {
     "name": "stdout",
     "output_type": "stream",
     "text": [
      "[1] \"Average accuracy with only parents:\"\n"
     ]
    },
    {
     "data": {
      "text/html": [
       "0.260961619983227"
      ],
      "text/latex": [
       "0.260961619983227"
      ],
      "text/markdown": [
       "0.260961619983227"
      ],
      "text/plain": [
       "[1] 0.2609616"
      ]
     },
     "metadata": {},
     "output_type": "display_data"
    }
   ],
   "source": [
    "# Predicting on the testing dataset with our fitted model (Cannabis)\n",
    "\n",
    "pred <- predict(fit,node=\"Cannabis\", data=test,method=\"bayes-lw\")\n",
    "\n",
    "accuracy <- mean(test$Cannabis - pred)\n",
    "print(\"Average accuracy with entire network:\")\n",
    "accuracy\n",
    "\n",
    "pred_parents <- predict(fit,node=\"Cannabis\", data=test)\n",
    "\n",
    "accuracy_par <- mean(test$Cannabis - pred_parents)\n",
    "print(\"Average accuracy with only parents:\")\n",
    "accuracy_par"
   ]
  },
  {
   "cell_type": "code",
   "execution_count": 12,
   "metadata": {},
   "outputs": [
    {
     "name": "stdout",
     "output_type": "stream",
     "text": [
      "[1] \"Average accuracy with entire network:\"\n"
     ]
    },
    {
     "data": {
      "text/html": [
       "-0.435592546454841"
      ],
      "text/latex": [
       "-0.435592546454841"
      ],
      "text/markdown": [
       "-0.435592546454841"
      ],
      "text/plain": [
       "[1] -0.4355925"
      ]
     },
     "metadata": {},
     "output_type": "display_data"
    },
    {
     "name": "stdout",
     "output_type": "stream",
     "text": [
      "[1] \"Average accuracy with only parents:\"\n"
     ]
    },
    {
     "data": {
      "text/html": [
       "-0.43442055565867"
      ],
      "text/latex": [
       "-0.43442055565867"
      ],
      "text/markdown": [
       "-0.43442055565867"
      ],
      "text/plain": [
       "[1] -0.4344206"
      ]
     },
     "metadata": {},
     "output_type": "display_data"
    }
   ],
   "source": [
    "# Predicting on the testing dataset with our fitted model (Meth)\n",
    "\n",
    "pred <- predict(fit,node=\"Meth\", data=test,method=\"bayes-lw\")\n",
    "\n",
    "accuracy <- mean(test$Meth - pred)\n",
    "print(\"Average accuracy with entire network:\")\n",
    "accuracy\n",
    "\n",
    "pred_parents <- predict(fit,node=\"Meth\", data=test)\n",
    "\n",
    "accuracy_par <- mean(test$Meth - pred_parents)\n",
    "print(\"Average accuracy with only parents:\")\n",
    "accuracy_par"
   ]
  },
  {
   "cell_type": "code",
   "execution_count": 13,
   "metadata": {},
   "outputs": [
    {
     "name": "stdout",
     "output_type": "stream",
     "text": [
      "[1] \"Average accuracy with entire network:\"\n"
     ]
    },
    {
     "data": {
      "text/html": [
       "4.82325038149672"
      ],
      "text/latex": [
       "4.82325038149672"
      ],
      "text/markdown": [
       "4.82325038149672"
      ],
      "text/plain": [
       "[1] 4.82325"
      ]
     },
     "metadata": {},
     "output_type": "display_data"
    },
    {
     "name": "stdout",
     "output_type": "stream",
     "text": [
      "[1] \"Average accuracy with only parents:\"\n"
     ]
    },
    {
     "data": {
      "text/html": [
       "4.82223840587937"
      ],
      "text/latex": [
       "4.82223840587937"
      ],
      "text/markdown": [
       "4.82223840587937"
      ],
      "text/plain": [
       "[1] 4.822238"
      ]
     },
     "metadata": {},
     "output_type": "display_data"
    }
   ],
   "source": [
    "# Predicting on the testing dataset with our fitted model (Caffeine)\n",
    "\n",
    "pred <- predict(fit,node=\"Caffeine\", data=test,method=\"bayes-lw\")\n",
    "\n",
    "accuracy <- mean(test$Caffeine - pred)\n",
    "print(\"Average accuracy with entire network:\")\n",
    "accuracy\n",
    "\n",
    "pred_parents <- predict(fit,node=\"Caffeine\", data=test)\n",
    "\n",
    "accuracy_par <- mean(test$Caffeine - pred_parents)\n",
    "print(\"Average accuracy with only parents:\")\n",
    "accuracy_par"
   ]
  },
  {
   "attachments": {},
   "cell_type": "markdown",
   "metadata": {},
   "source": [
    "| Iteration \t| Cannabis \t|         \t|            \t| Meth     \t|         \t|            \t| Caffeine \t|          \t|            \t|\n",
    "|-----------\t|----------\t|---------\t|------------\t|----------\t|---------\t|------------\t|----------\t|----------\t|------------\t|\n",
    "|           \t| Bayes-lw \t| Parents \t| difference \t| Bayes-lw \t| Parents \t| difference \t| Bayes-lw \t| Parents  \t| difference \t|\n",
    "| 1         \t| 0.3398   \t| 0.2384  \t| 0.1014     \t| 0.8022   \t| 0.8044  \t| 0.0023     \t| 3.3551   \t| 3.3550   \t| 0.0001     \t|\n",
    "| 2         \t| 2.2785   \t| 2.0826  \t| 0.1959     \t| 2.2299   \t| 2.2307  \t| 0.0009     \t| 4.1527   \t| 4.1538   \t| 0.0011     \t|\n",
    "| 3         \t| 0.0691   \t| 0.2682  \t| 0.1991     \t| 2.6248   \t| 2.6253  \t| 0.0005     \t| 2.3223   \t| 2.3193   \t| 0.0030     \t|\n",
    "| 4         \t| 1.1156   \t| 1.1077  \t| 0.0079     \t| 0.2691   \t| 0.2694  \t| 0.0003     \t| 3.8567   \t| 3.8557   \t| 0.0010     \t|\n",
    "| 5         \t| 1.5186   \t| 1.5396  \t| 0.0210     \t| 0.0561   \t| 0.0586  \t| 0.0024     \t| 3.7316   \t| 3.7315   \t| 0.0001     \t|\n",
    "| 6         \t| 1.3261   \t| 1.0215  \t| 0.3046     \t| 2.5442   \t| 2.5440  \t| 0.0002     \t| 4.0237   \t| 4.0212   \t| 0.0025     \t|\n",
    "| 7         \t| 0.3372   \t| 0.5588  \t| 0.2216     \t| 2.0849   \t| 2.0848  \t| 0.0001     \t| 3.7084   \t| 3.7085   \t| 0.0001     \t|\n",
    "| 8         \t| 1.5067   \t| 1.3822  \t| 0.1245     \t| 1.2249   \t| 1.2284  \t| 0.0035     \t| 3.9368   \t| 3.9364   \t| 0.0004     \t|\n",
    "| 9         \t| 0.3057   \t| 0.1734  \t| 0.1322     \t| 1.1332   \t| 1.1360  \t| 0.0029     \t| 3.4502   \t| 3.4492   \t| 0.0010     \t|\n",
    "| 10        \t| 0.3140   \t| 0.2610  \t| 0.0530     \t| 0.4330   \t| 0.4344  \t| 0.0014     \t| 4.8233   \t| 4.8222   \t| 0.0010     \t|\n",
    "| Mean      \t| 0.9775   \t| 0.9303  \t| 0.1454     \t| 1.4410   \t| 1.4424  \t| 0.0014     \t| 3.6153   \t| 3.6145   \t| 0.0010     \t|"
   ]
  },
  {
   "cell_type": "markdown",
   "metadata": {},
   "source": [
    "Since the accuracies varied per random initialization of the train and test split, 10 random initializations were used to calculate a final score. Absolute difference is used for calculations."
   ]
  },
  {
   "cell_type": "code",
   "execution_count": null,
   "metadata": {},
   "outputs": [],
   "source": []
  }
 ],
 "metadata": {
  "kernelspec": {
   "display_name": "R",
   "language": "R",
   "name": "ir"
  },
  "language_info": {
   "codemirror_mode": "r",
   "file_extension": ".r",
   "mimetype": "text/x-r-source",
   "name": "R",
   "pygments_lexer": "r",
   "version": "3.6.1"
  }
 },
 "nbformat": 4,
 "nbformat_minor": 4
}
