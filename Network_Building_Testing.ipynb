{
 "cells": [
  {
   "cell_type": "code",
   "execution_count": 1,
   "metadata": {},
   "outputs": [],
   "source": [
    "# Install statements\n",
    "# install.packages(c(\"remotes\",\"pROC\",\"naivebayes\"))\n",
    "# remotes::install_github(\"jtextor/bayesianNetworks\")\n",
    "# install.packages(\"bnlearn\")\n",
    "# install.packages(\"dagitty\")\n",
    "# install.packages(\"lavaan\")"
   ]
  },
  {
   "cell_type": "code",
   "execution_count": 2,
   "metadata": {},
   "outputs": [
    {
     "name": "stderr",
     "output_type": "stream",
     "text": [
      "Warning message:\n",
      "\"package 'naivebayes' was built under R version 3.6.3\"naivebayes 0.9.7 loaded\n",
      "Warning message:\n",
      "\"package 'bnlearn' was built under R version 3.6.3\"Warning message:\n",
      "\"package 'dagitty' was built under R version 3.6.3\"\n",
      "Attaching package: 'dagitty'\n",
      "\n",
      "The following objects are masked from 'package:bnlearn':\n",
      "\n",
      "    ancestors, children, descendants, parents, spouses\n",
      "\n",
      "Warning message:\n",
      "\"package 'lavaan' was built under R version 3.6.3\"This is lavaan 0.6-7\n",
      "lavaan is BETA software! Please report any bugs.\n"
     ]
    }
   ],
   "source": [
    "# Packages\n",
    "library( bayesianNetworks )\n",
    "library( naivebayes )\n",
    "library( bnlearn )\n",
    "library( dagitty )\n",
    "library( lavaan )"
   ]
  },
  {
   "cell_type": "code",
   "execution_count": 3,
   "metadata": {},
   "outputs": [],
   "source": [
    "df <- read.csv('Dataset_Numerical_Classes.csv')"
   ]
  },
  {
   "cell_type": "code",
   "execution_count": 4,
   "metadata": {},
   "outputs": [
    {
     "data": {
      "text/html": [
       "<table>\n",
       "<thead><tr><th scope=col>Age</th><th scope=col>Gender</th><th scope=col>Education</th><th scope=col>Nscore</th><th scope=col>Escore</th><th scope=col>Oscore</th><th scope=col>Ascore</th><th scope=col>Cscore</th><th scope=col>Impulsive</th><th scope=col>Sensation_seeking</th><th scope=col>Caffeine</th><th scope=col>Cannabis</th><th scope=col>Meth</th></tr></thead>\n",
       "<tbody>\n",
       "\t<tr><td>35-44                            </td><td>0                                </td><td>Professional certificate/ diploma</td><td>39                               </td><td>36                               </td><td>42                               </td><td>37                               </td><td>42                               </td><td>0.1883                           </td><td>0.0700                           </td><td>6                                </td><td>0                                </td><td>0                                </td></tr>\n",
       "\t<tr><td>25-34                            </td><td>1                                </td><td>Doctorate degree                 </td><td>29                               </td><td>52                               </td><td>55                               </td><td>48                               </td><td>41                               </td><td>0.1629                           </td><td>0.1183                           </td><td>6                                </td><td>4                                </td><td>3                                </td></tr>\n",
       "\t<tr><td>35-44                            </td><td>1                                </td><td>Professional certificate/ diploma</td><td>31                               </td><td>45                               </td><td>40                               </td><td>32                               </td><td>34                               </td><td>0.1464                           </td><td>0.1321                           </td><td>6                                </td><td>3                                </td><td>0                                </td></tr>\n",
       "\t<tr><td>18-24                            </td><td>0                                </td><td>Masters degree                   </td><td>34                               </td><td>34                               </td><td>46                               </td><td>47                               </td><td>46                               </td><td>0.1464                           </td><td>0.0700                           </td><td>5                                </td><td>2                                </td><td>0                                </td></tr>\n",
       "\t<tr><td>35-44                            </td><td>0                                </td><td>Doctorate degree                 </td><td>43                               </td><td>28                               </td><td>43                               </td><td>41                               </td><td>50                               </td><td>0.1883                           </td><td>0.1183                           </td><td>6                                </td><td>3                                </td><td>0                                </td></tr>\n",
       "\t<tr><td>65+                              </td><td>0                                </td><td>Left school at 18                </td><td>29                               </td><td>38                               </td><td>35                               </td><td>55                               </td><td>52                               </td><td>0.1464                           </td><td>0.0462                           </td><td>6                                </td><td>0                                </td><td>0                                </td></tr>\n",
       "</tbody>\n",
       "</table>\n"
      ],
      "text/latex": [
       "\\begin{tabular}{r|lllllllllllll}\n",
       " Age & Gender & Education & Nscore & Escore & Oscore & Ascore & Cscore & Impulsive & Sensation\\_seeking & Caffeine & Cannabis & Meth\\\\\n",
       "\\hline\n",
       "\t 35-44                             & 0                                 & Professional certificate/ diploma & 39                                & 36                                & 42                                & 37                                & 42                                & 0.1883                            & 0.0700                            & 6                                 & 0                                 & 0                                \\\\\n",
       "\t 25-34                             & 1                                 & Doctorate degree                  & 29                                & 52                                & 55                                & 48                                & 41                                & 0.1629                            & 0.1183                            & 6                                 & 4                                 & 3                                \\\\\n",
       "\t 35-44                             & 1                                 & Professional certificate/ diploma & 31                                & 45                                & 40                                & 32                                & 34                                & 0.1464                            & 0.1321                            & 6                                 & 3                                 & 0                                \\\\\n",
       "\t 18-24                             & 0                                 & Masters degree                    & 34                                & 34                                & 46                                & 47                                & 46                                & 0.1464                            & 0.0700                            & 5                                 & 2                                 & 0                                \\\\\n",
       "\t 35-44                             & 0                                 & Doctorate degree                  & 43                                & 28                                & 43                                & 41                                & 50                                & 0.1883                            & 0.1183                            & 6                                 & 3                                 & 0                                \\\\\n",
       "\t 65+                               & 0                                 & Left school at 18                 & 29                                & 38                                & 35                                & 55                                & 52                                & 0.1464                            & 0.0462                            & 6                                 & 0                                 & 0                                \\\\\n",
       "\\end{tabular}\n"
      ],
      "text/markdown": [
       "\n",
       "| Age | Gender | Education | Nscore | Escore | Oscore | Ascore | Cscore | Impulsive | Sensation_seeking | Caffeine | Cannabis | Meth |\n",
       "|---|---|---|---|---|---|---|---|---|---|---|---|---|\n",
       "| 35-44                             | 0                                 | Professional certificate/ diploma | 39                                | 36                                | 42                                | 37                                | 42                                | 0.1883                            | 0.0700                            | 6                                 | 0                                 | 0                                 |\n",
       "| 25-34                             | 1                                 | Doctorate degree                  | 29                                | 52                                | 55                                | 48                                | 41                                | 0.1629                            | 0.1183                            | 6                                 | 4                                 | 3                                 |\n",
       "| 35-44                             | 1                                 | Professional certificate/ diploma | 31                                | 45                                | 40                                | 32                                | 34                                | 0.1464                            | 0.1321                            | 6                                 | 3                                 | 0                                 |\n",
       "| 18-24                             | 0                                 | Masters degree                    | 34                                | 34                                | 46                                | 47                                | 46                                | 0.1464                            | 0.0700                            | 5                                 | 2                                 | 0                                 |\n",
       "| 35-44                             | 0                                 | Doctorate degree                  | 43                                | 28                                | 43                                | 41                                | 50                                | 0.1883                            | 0.1183                            | 6                                 | 3                                 | 0                                 |\n",
       "| 65+                               | 0                                 | Left school at 18                 | 29                                | 38                                | 35                                | 55                                | 52                                | 0.1464                            | 0.0462                            | 6                                 | 0                                 | 0                                 |\n",
       "\n"
      ],
      "text/plain": [
       "  Age   Gender Education                         Nscore Escore Oscore Ascore\n",
       "1 35-44 0      Professional certificate/ diploma 39     36     42     37    \n",
       "2 25-34 1      Doctorate degree                  29     52     55     48    \n",
       "3 35-44 1      Professional certificate/ diploma 31     45     40     32    \n",
       "4 18-24 0      Masters degree                    34     34     46     47    \n",
       "5 35-44 0      Doctorate degree                  43     28     43     41    \n",
       "6 65+   0      Left school at 18                 29     38     35     55    \n",
       "  Cscore Impulsive Sensation_seeking Caffeine Cannabis Meth\n",
       "1 42     0.1883    0.0700            6        0        0   \n",
       "2 41     0.1629    0.1183            6        4        3   \n",
       "3 34     0.1464    0.1321            6        3        0   \n",
       "4 46     0.1464    0.0700            5        2        0   \n",
       "5 50     0.1883    0.1183            6        3        0   \n",
       "6 52     0.1464    0.0462            6        0        0   "
      ]
     },
     "metadata": {},
     "output_type": "display_data"
    }
   ],
   "source": [
    "head(df)"
   ]
  },
  {
   "cell_type": "code",
   "execution_count": 5,
   "metadata": {},
   "outputs": [],
   "source": [
    "# df$Caffeine <- ordered(df$Caffeine, levels =c(\"0\",\"1\",\"2\",\"3\",\"4\",\"5\",\"6\"))\n",
    "# df$Cannabis <- ordered(df$Cannabis, levels =c(\"0\",\"1\",\"2\",\"3\",\"4\",\"5\",\"6\"))\n",
    "# df$Meth <- ordered(df$Meth, levels =c(\"0\",\"1\",\"2\",\"3\",\"4\",\"5\",\"6\"))\n",
    "df$Age <- ordered(df$Age, levels =c(\"18-24\",\"25-34\",\"35-44\",\"45-54\",\"55-64\",\"65+\"))\n",
    "df$Education <- ordered(df$Education, levels=c(\"Left school before 16\",\"Left school at 16\",\"Left school at 17\",\"Left school at 18\",\"College or university dropout\",\"Professional certificate/ diploma\",\"University degree\",\"Masters degree\",\"Doctorate degree\"))"
   ]
  },
  {
   "cell_type": "code",
   "execution_count": 6,
   "metadata": {},
   "outputs": [
    {
     "name": "stdout",
     "output_type": "stream",
     "text": [
      "[1] \"age\"\n"
     ]
    },
    {
     "data": {
      "text/html": [
       "<ol class=list-inline>\n",
       "\t<li>35-44</li>\n",
       "\t<li>25-34</li>\n",
       "\t<li>18-24</li>\n",
       "\t<li>65+</li>\n",
       "\t<li>45-54</li>\n",
       "\t<li>55-64</li>\n",
       "</ol>\n",
       "\n",
       "<details>\n",
       "\t<summary style=display:list-item;cursor:pointer>\n",
       "\t\t<strong>Levels</strong>:\n",
       "\t</summary>\n",
       "\t<ol class=list-inline>\n",
       "\t\t<li>'18-24'</li>\n",
       "\t\t<li>'25-34'</li>\n",
       "\t\t<li>'35-44'</li>\n",
       "\t\t<li>'45-54'</li>\n",
       "\t\t<li>'55-64'</li>\n",
       "\t\t<li>'65+'</li>\n",
       "\t</ol>\n",
       "</details>"
      ],
      "text/latex": [
       "\\begin{enumerate*}\n",
       "\\item 35-44\n",
       "\\item 25-34\n",
       "\\item 18-24\n",
       "\\item 65+\n",
       "\\item 45-54\n",
       "\\item 55-64\n",
       "\\end{enumerate*}\n",
       "\n",
       "\\emph{Levels}: \\begin{enumerate*}\n",
       "\\item '18-24'\n",
       "\\item '25-34'\n",
       "\\item '35-44'\n",
       "\\item '45-54'\n",
       "\\item '55-64'\n",
       "\\item '65+'\n",
       "\\end{enumerate*}\n"
      ],
      "text/markdown": [
       "1. 35-44\n",
       "2. 25-34\n",
       "3. 18-24\n",
       "4. 65+\n",
       "5. 45-54\n",
       "6. 55-64\n",
       "\n",
       "\n",
       "\n",
       "**Levels**: 1. '18-24'\n",
       "2. '25-34'\n",
       "3. '35-44'\n",
       "4. '45-54'\n",
       "5. '55-64'\n",
       "6. '65+'\n",
       "\n",
       "\n"
      ],
      "text/plain": [
       "[1] 35-44 25-34 18-24 65+   45-54 55-64\n",
       "Levels: 18-24 < 25-34 < 35-44 < 45-54 < 55-64 < 65+"
      ]
     },
     "metadata": {},
     "output_type": "display_data"
    },
    {
     "name": "stdout",
     "output_type": "stream",
     "text": [
      "[1] \"gender\"\n"
     ]
    },
    {
     "data": {
      "text/html": [
       "<ol class=list-inline>\n",
       "\t<li>0</li>\n",
       "\t<li>1</li>\n",
       "</ol>\n"
      ],
      "text/latex": [
       "\\begin{enumerate*}\n",
       "\\item 0\n",
       "\\item 1\n",
       "\\end{enumerate*}\n"
      ],
      "text/markdown": [
       "1. 0\n",
       "2. 1\n",
       "\n",
       "\n"
      ],
      "text/plain": [
       "[1] 0 1"
      ]
     },
     "metadata": {},
     "output_type": "display_data"
    },
    {
     "name": "stdout",
     "output_type": "stream",
     "text": [
      "[1] \"education\"\n"
     ]
    },
    {
     "data": {
      "text/html": [
       "<ol class=list-inline>\n",
       "\t<li>Professional certificate/ diploma</li>\n",
       "\t<li>Doctorate degree</li>\n",
       "\t<li>Masters degree</li>\n",
       "\t<li>Left school at 18</li>\n",
       "\t<li>Left school at 16</li>\n",
       "\t<li>University degree</li>\n",
       "\t<li>College or university dropout</li>\n",
       "\t<li>Left school before 16</li>\n",
       "\t<li>Left school at 17</li>\n",
       "</ol>\n",
       "\n",
       "<details>\n",
       "\t<summary style=display:list-item;cursor:pointer>\n",
       "\t\t<strong>Levels</strong>:\n",
       "\t</summary>\n",
       "\t<ol class=list-inline>\n",
       "\t\t<li>'Left school before 16'</li>\n",
       "\t\t<li>'Left school at 16'</li>\n",
       "\t\t<li>'Left school at 17'</li>\n",
       "\t\t<li>'Left school at 18'</li>\n",
       "\t\t<li>'College or university dropout'</li>\n",
       "\t\t<li>'Professional certificate/ diploma'</li>\n",
       "\t\t<li>'University degree'</li>\n",
       "\t\t<li>'Masters degree'</li>\n",
       "\t\t<li>'Doctorate degree'</li>\n",
       "\t</ol>\n",
       "</details>"
      ],
      "text/latex": [
       "\\begin{enumerate*}\n",
       "\\item Professional certificate/ diploma\n",
       "\\item Doctorate degree\n",
       "\\item Masters degree\n",
       "\\item Left school at 18\n",
       "\\item Left school at 16\n",
       "\\item University degree\n",
       "\\item College or university dropout\n",
       "\\item Left school before 16\n",
       "\\item Left school at 17\n",
       "\\end{enumerate*}\n",
       "\n",
       "\\emph{Levels}: \\begin{enumerate*}\n",
       "\\item 'Left school before 16'\n",
       "\\item 'Left school at 16'\n",
       "\\item 'Left school at 17'\n",
       "\\item 'Left school at 18'\n",
       "\\item 'College or university dropout'\n",
       "\\item 'Professional certificate/ diploma'\n",
       "\\item 'University degree'\n",
       "\\item 'Masters degree'\n",
       "\\item 'Doctorate degree'\n",
       "\\end{enumerate*}\n"
      ],
      "text/markdown": [
       "1. Professional certificate/ diploma\n",
       "2. Doctorate degree\n",
       "3. Masters degree\n",
       "4. Left school at 18\n",
       "5. Left school at 16\n",
       "6. University degree\n",
       "7. College or university dropout\n",
       "8. Left school before 16\n",
       "9. Left school at 17\n",
       "\n",
       "\n",
       "\n",
       "**Levels**: 1. 'Left school before 16'\n",
       "2. 'Left school at 16'\n",
       "3. 'Left school at 17'\n",
       "4. 'Left school at 18'\n",
       "5. 'College or university dropout'\n",
       "6. 'Professional certificate/ diploma'\n",
       "7. 'University degree'\n",
       "8. 'Masters degree'\n",
       "9. 'Doctorate degree'\n",
       "\n",
       "\n"
      ],
      "text/plain": [
       "[1] Professional certificate/ diploma Doctorate degree                 \n",
       "[3] Masters degree                    Left school at 18                \n",
       "[5] Left school at 16                 University degree                \n",
       "[7] College or university dropout     Left school before 16            \n",
       "[9] Left school at 17                \n",
       "9 Levels: Left school before 16 < Left school at 16 < ... < Doctorate degree"
      ]
     },
     "metadata": {},
     "output_type": "display_data"
    },
    {
     "name": "stdout",
     "output_type": "stream",
     "text": [
      "[1] \"Nscore\"\n"
     ]
    },
    {
     "data": {
      "text/html": [
       "<ol class=list-inline>\n",
       "\t<li>39</li>\n",
       "\t<li>29</li>\n",
       "\t<li>31</li>\n",
       "\t<li>34</li>\n",
       "\t<li>43</li>\n",
       "\t<li>24</li>\n",
       "\t<li>42</li>\n",
       "\t<li>33</li>\n",
       "\t<li>26</li>\n",
       "\t<li>56</li>\n",
       "\t<li>28</li>\n",
       "\t<li>27</li>\n",
       "\t<li>19</li>\n",
       "\t<li>22</li>\n",
       "\t<li>41</li>\n",
       "\t<li>49</li>\n",
       "\t<li>32</li>\n",
       "\t<li>25</li>\n",
       "\t<li>40</li>\n",
       "\t<li>51</li>\n",
       "\t<li>35</li>\n",
       "\t<li>36</li>\n",
       "\t<li>46</li>\n",
       "\t<li>44</li>\n",
       "\t<li>37</li>\n",
       "\t<li>47</li>\n",
       "\t<li>23</li>\n",
       "\t<li>30</li>\n",
       "\t<li>38</li>\n",
       "\t<li>18</li>\n",
       "\t<li>45</li>\n",
       "\t<li>17</li>\n",
       "\t<li>53</li>\n",
       "\t<li>50</li>\n",
       "\t<li>60</li>\n",
       "\t<li>21</li>\n",
       "\t<li>54</li>\n",
       "\t<li>59</li>\n",
       "\t<li>48</li>\n",
       "\t<li>20</li>\n",
       "\t<li>55</li>\n",
       "\t<li>16</li>\n",
       "\t<li>57</li>\n",
       "\t<li>52</li>\n",
       "\t<li>58</li>\n",
       "\t<li>14</li>\n",
       "\t<li>15</li>\n",
       "\t<li>13</li>\n",
       "\t<li>12</li>\n",
       "</ol>\n"
      ],
      "text/latex": [
       "\\begin{enumerate*}\n",
       "\\item 39\n",
       "\\item 29\n",
       "\\item 31\n",
       "\\item 34\n",
       "\\item 43\n",
       "\\item 24\n",
       "\\item 42\n",
       "\\item 33\n",
       "\\item 26\n",
       "\\item 56\n",
       "\\item 28\n",
       "\\item 27\n",
       "\\item 19\n",
       "\\item 22\n",
       "\\item 41\n",
       "\\item 49\n",
       "\\item 32\n",
       "\\item 25\n",
       "\\item 40\n",
       "\\item 51\n",
       "\\item 35\n",
       "\\item 36\n",
       "\\item 46\n",
       "\\item 44\n",
       "\\item 37\n",
       "\\item 47\n",
       "\\item 23\n",
       "\\item 30\n",
       "\\item 38\n",
       "\\item 18\n",
       "\\item 45\n",
       "\\item 17\n",
       "\\item 53\n",
       "\\item 50\n",
       "\\item 60\n",
       "\\item 21\n",
       "\\item 54\n",
       "\\item 59\n",
       "\\item 48\n",
       "\\item 20\n",
       "\\item 55\n",
       "\\item 16\n",
       "\\item 57\n",
       "\\item 52\n",
       "\\item 58\n",
       "\\item 14\n",
       "\\item 15\n",
       "\\item 13\n",
       "\\item 12\n",
       "\\end{enumerate*}\n"
      ],
      "text/markdown": [
       "1. 39\n",
       "2. 29\n",
       "3. 31\n",
       "4. 34\n",
       "5. 43\n",
       "6. 24\n",
       "7. 42\n",
       "8. 33\n",
       "9. 26\n",
       "10. 56\n",
       "11. 28\n",
       "12. 27\n",
       "13. 19\n",
       "14. 22\n",
       "15. 41\n",
       "16. 49\n",
       "17. 32\n",
       "18. 25\n",
       "19. 40\n",
       "20. 51\n",
       "21. 35\n",
       "22. 36\n",
       "23. 46\n",
       "24. 44\n",
       "25. 37\n",
       "26. 47\n",
       "27. 23\n",
       "28. 30\n",
       "29. 38\n",
       "30. 18\n",
       "31. 45\n",
       "32. 17\n",
       "33. 53\n",
       "34. 50\n",
       "35. 60\n",
       "36. 21\n",
       "37. 54\n",
       "38. 59\n",
       "39. 48\n",
       "40. 20\n",
       "41. 55\n",
       "42. 16\n",
       "43. 57\n",
       "44. 52\n",
       "45. 58\n",
       "46. 14\n",
       "47. 15\n",
       "48. 13\n",
       "49. 12\n",
       "\n",
       "\n"
      ],
      "text/plain": [
       " [1] 39 29 31 34 43 24 42 33 26 56 28 27 19 22 41 49 32 25 40 51 35 36 46 44 37\n",
       "[26] 47 23 30 38 18 45 17 53 50 60 21 54 59 48 20 55 16 57 52 58 14 15 13 12"
      ]
     },
     "metadata": {},
     "output_type": "display_data"
    },
    {
     "name": "stdout",
     "output_type": "stream",
     "text": [
      "[1] \"Escore\"\n"
     ]
    },
    {
     "data": {
      "text/html": [
       "<ol class=list-inline>\n",
       "\t<li>36</li>\n",
       "\t<li>52</li>\n",
       "\t<li>45</li>\n",
       "\t<li>34</li>\n",
       "\t<li>28</li>\n",
       "\t<li>38</li>\n",
       "\t<li>32</li>\n",
       "\t<li>55</li>\n",
       "\t<li>40</li>\n",
       "\t<li>41</li>\n",
       "\t<li>49</li>\n",
       "\t<li>29</li>\n",
       "\t<li>31</li>\n",
       "\t<li>39</li>\n",
       "\t<li>27</li>\n",
       "\t<li>43</li>\n",
       "\t<li>33</li>\n",
       "\t<li>16</li>\n",
       "\t<li>44</li>\n",
       "\t<li>37</li>\n",
       "\t<li>51</li>\n",
       "\t<li>42</li>\n",
       "\t<li>48</li>\n",
       "\t<li>46</li>\n",
       "\t<li>47</li>\n",
       "\t<li>35</li>\n",
       "\t<li>50</li>\n",
       "\t<li>30</li>\n",
       "\t<li>26</li>\n",
       "\t<li>58</li>\n",
       "\t<li>53</li>\n",
       "\t<li>54</li>\n",
       "\t<li>23</li>\n",
       "\t<li>22</li>\n",
       "\t<li>24</li>\n",
       "\t<li>19</li>\n",
       "\t<li>20</li>\n",
       "\t<li>21</li>\n",
       "\t<li>25</li>\n",
       "\t<li>56</li>\n",
       "\t<li>59</li>\n",
       "\t<li>18</li>\n",
       "</ol>\n"
      ],
      "text/latex": [
       "\\begin{enumerate*}\n",
       "\\item 36\n",
       "\\item 52\n",
       "\\item 45\n",
       "\\item 34\n",
       "\\item 28\n",
       "\\item 38\n",
       "\\item 32\n",
       "\\item 55\n",
       "\\item 40\n",
       "\\item 41\n",
       "\\item 49\n",
       "\\item 29\n",
       "\\item 31\n",
       "\\item 39\n",
       "\\item 27\n",
       "\\item 43\n",
       "\\item 33\n",
       "\\item 16\n",
       "\\item 44\n",
       "\\item 37\n",
       "\\item 51\n",
       "\\item 42\n",
       "\\item 48\n",
       "\\item 46\n",
       "\\item 47\n",
       "\\item 35\n",
       "\\item 50\n",
       "\\item 30\n",
       "\\item 26\n",
       "\\item 58\n",
       "\\item 53\n",
       "\\item 54\n",
       "\\item 23\n",
       "\\item 22\n",
       "\\item 24\n",
       "\\item 19\n",
       "\\item 20\n",
       "\\item 21\n",
       "\\item 25\n",
       "\\item 56\n",
       "\\item 59\n",
       "\\item 18\n",
       "\\end{enumerate*}\n"
      ],
      "text/markdown": [
       "1. 36\n",
       "2. 52\n",
       "3. 45\n",
       "4. 34\n",
       "5. 28\n",
       "6. 38\n",
       "7. 32\n",
       "8. 55\n",
       "9. 40\n",
       "10. 41\n",
       "11. 49\n",
       "12. 29\n",
       "13. 31\n",
       "14. 39\n",
       "15. 27\n",
       "16. 43\n",
       "17. 33\n",
       "18. 16\n",
       "19. 44\n",
       "20. 37\n",
       "21. 51\n",
       "22. 42\n",
       "23. 48\n",
       "24. 46\n",
       "25. 47\n",
       "26. 35\n",
       "27. 50\n",
       "28. 30\n",
       "29. 26\n",
       "30. 58\n",
       "31. 53\n",
       "32. 54\n",
       "33. 23\n",
       "34. 22\n",
       "35. 24\n",
       "36. 19\n",
       "37. 20\n",
       "38. 21\n",
       "39. 25\n",
       "40. 56\n",
       "41. 59\n",
       "42. 18\n",
       "\n",
       "\n"
      ],
      "text/plain": [
       " [1] 36 52 45 34 28 38 32 55 40 41 49 29 31 39 27 43 33 16 44 37 51 42 48 46 47\n",
       "[26] 35 50 30 26 58 53 54 23 22 24 19 20 21 25 56 59 18"
      ]
     },
     "metadata": {},
     "output_type": "display_data"
    },
    {
     "name": "stdout",
     "output_type": "stream",
     "text": [
      "[1] \"Cscore\"\n"
     ]
    },
    {
     "data": {
      "text/html": [
       "<ol class=list-inline>\n",
       "\t<li>42</li>\n",
       "\t<li>41</li>\n",
       "\t<li>34</li>\n",
       "\t<li>46</li>\n",
       "\t<li>50</li>\n",
       "\t<li>52</li>\n",
       "\t<li>48</li>\n",
       "\t<li>49</li>\n",
       "\t<li>43</li>\n",
       "\t<li>53</li>\n",
       "\t<li>38</li>\n",
       "\t<li>36</li>\n",
       "\t<li>59</li>\n",
       "\t<li>47</li>\n",
       "\t<li>31</li>\n",
       "\t<li>30</li>\n",
       "\t<li>33</li>\n",
       "\t<li>35</li>\n",
       "\t<li>51</li>\n",
       "\t<li>25</li>\n",
       "\t<li>37</li>\n",
       "\t<li>45</li>\n",
       "\t<li>39</li>\n",
       "\t<li>44</li>\n",
       "\t<li>27</li>\n",
       "\t<li>40</li>\n",
       "\t<li>29</li>\n",
       "\t<li>54</li>\n",
       "\t<li>55</li>\n",
       "\t<li>32</li>\n",
       "\t<li>56</li>\n",
       "\t<li>20</li>\n",
       "\t<li>28</li>\n",
       "\t<li>26</li>\n",
       "\t<li>22</li>\n",
       "\t<li>24</li>\n",
       "\t<li>23</li>\n",
       "\t<li>19</li>\n",
       "\t<li>17</li>\n",
       "\t<li>21</li>\n",
       "\t<li>57</li>\n",
       "</ol>\n"
      ],
      "text/latex": [
       "\\begin{enumerate*}\n",
       "\\item 42\n",
       "\\item 41\n",
       "\\item 34\n",
       "\\item 46\n",
       "\\item 50\n",
       "\\item 52\n",
       "\\item 48\n",
       "\\item 49\n",
       "\\item 43\n",
       "\\item 53\n",
       "\\item 38\n",
       "\\item 36\n",
       "\\item 59\n",
       "\\item 47\n",
       "\\item 31\n",
       "\\item 30\n",
       "\\item 33\n",
       "\\item 35\n",
       "\\item 51\n",
       "\\item 25\n",
       "\\item 37\n",
       "\\item 45\n",
       "\\item 39\n",
       "\\item 44\n",
       "\\item 27\n",
       "\\item 40\n",
       "\\item 29\n",
       "\\item 54\n",
       "\\item 55\n",
       "\\item 32\n",
       "\\item 56\n",
       "\\item 20\n",
       "\\item 28\n",
       "\\item 26\n",
       "\\item 22\n",
       "\\item 24\n",
       "\\item 23\n",
       "\\item 19\n",
       "\\item 17\n",
       "\\item 21\n",
       "\\item 57\n",
       "\\end{enumerate*}\n"
      ],
      "text/markdown": [
       "1. 42\n",
       "2. 41\n",
       "3. 34\n",
       "4. 46\n",
       "5. 50\n",
       "6. 52\n",
       "7. 48\n",
       "8. 49\n",
       "9. 43\n",
       "10. 53\n",
       "11. 38\n",
       "12. 36\n",
       "13. 59\n",
       "14. 47\n",
       "15. 31\n",
       "16. 30\n",
       "17. 33\n",
       "18. 35\n",
       "19. 51\n",
       "20. 25\n",
       "21. 37\n",
       "22. 45\n",
       "23. 39\n",
       "24. 44\n",
       "25. 27\n",
       "26. 40\n",
       "27. 29\n",
       "28. 54\n",
       "29. 55\n",
       "30. 32\n",
       "31. 56\n",
       "32. 20\n",
       "33. 28\n",
       "34. 26\n",
       "35. 22\n",
       "36. 24\n",
       "37. 23\n",
       "38. 19\n",
       "39. 17\n",
       "40. 21\n",
       "41. 57\n",
       "\n",
       "\n"
      ],
      "text/plain": [
       " [1] 42 41 34 46 50 52 48 49 43 53 38 36 59 47 31 30 33 35 51 25 37 45 39 44 27\n",
       "[26] 40 29 54 55 32 56 20 28 26 22 24 23 19 17 21 57"
      ]
     },
     "metadata": {},
     "output_type": "display_data"
    },
    {
     "name": "stdout",
     "output_type": "stream",
     "text": [
      "[1] \"Impulsive\"\n"
     ]
    },
    {
     "data": {
      "text/html": [
       "<ol class=list-inline>\n",
       "\t<li>0.1883</li>\n",
       "\t<li>0.1629</li>\n",
       "\t<li>0.1464</li>\n",
       "\t<li>0.1363</li>\n",
       "\t<li>0.1146</li>\n",
       "\t<li>0.0785</li>\n",
       "\t<li>0.0552</li>\n",
       "\t<li>0.0106</li>\n",
       "\t<li>0.1034</li>\n",
       "\t<li>0.0037</li>\n",
       "</ol>\n"
      ],
      "text/latex": [
       "\\begin{enumerate*}\n",
       "\\item 0.1883\n",
       "\\item 0.1629\n",
       "\\item 0.1464\n",
       "\\item 0.1363\n",
       "\\item 0.1146\n",
       "\\item 0.0785\n",
       "\\item 0.0552\n",
       "\\item 0.0106\n",
       "\\item 0.1034\n",
       "\\item 0.0037\n",
       "\\end{enumerate*}\n"
      ],
      "text/markdown": [
       "1. 0.1883\n",
       "2. 0.1629\n",
       "3. 0.1464\n",
       "4. 0.1363\n",
       "5. 0.1146\n",
       "6. 0.0785\n",
       "7. 0.0552\n",
       "8. 0.0106\n",
       "9. 0.1034\n",
       "10. 0.0037\n",
       "\n",
       "\n"
      ],
      "text/plain": [
       " [1] 0.1883 0.1629 0.1464 0.1363 0.1146 0.0785 0.0552 0.0106 0.1034 0.0037"
      ]
     },
     "metadata": {},
     "output_type": "display_data"
    },
    {
     "name": "stdout",
     "output_type": "stream",
     "text": [
      "[1] \"Sensation_seeking\"\n"
     ]
    },
    {
     "data": {
      "text/html": [
       "<ol class=list-inline>\n",
       "\t<li>0.07</li>\n",
       "\t<li>0.1183</li>\n",
       "\t<li>0.1321</li>\n",
       "\t<li>0.0462</li>\n",
       "\t<li>0.1162</li>\n",
       "\t<li>0.1119</li>\n",
       "\t<li>0.0897</li>\n",
       "\t<li>0.1114</li>\n",
       "\t<li>0.0377</li>\n",
       "\t<li>0.0546</li>\n",
       "</ol>\n"
      ],
      "text/latex": [
       "\\begin{enumerate*}\n",
       "\\item 0.07\n",
       "\\item 0.1183\n",
       "\\item 0.1321\n",
       "\\item 0.0462\n",
       "\\item 0.1162\n",
       "\\item 0.1119\n",
       "\\item 0.0897\n",
       "\\item 0.1114\n",
       "\\item 0.0377\n",
       "\\item 0.0546\n",
       "\\end{enumerate*}\n"
      ],
      "text/markdown": [
       "1. 0.07\n",
       "2. 0.1183\n",
       "3. 0.1321\n",
       "4. 0.0462\n",
       "5. 0.1162\n",
       "6. 0.1119\n",
       "7. 0.0897\n",
       "8. 0.1114\n",
       "9. 0.0377\n",
       "10. 0.0546\n",
       "\n",
       "\n"
      ],
      "text/plain": [
       " [1] 0.0700 0.1183 0.1321 0.0462 0.1162 0.1119 0.0897 0.1114 0.0377 0.0546"
      ]
     },
     "metadata": {},
     "output_type": "display_data"
    },
    {
     "name": "stdout",
     "output_type": "stream",
     "text": [
      "[1] \"Caffeine\"\n"
     ]
    },
    {
     "data": {
      "text/html": [
       "<ol class=list-inline>\n",
       "\t<li>6</li>\n",
       "\t<li>5</li>\n",
       "\t<li>4</li>\n",
       "\t<li>3</li>\n",
       "\t<li>0</li>\n",
       "\t<li>1</li>\n",
       "\t<li>2</li>\n",
       "</ol>\n"
      ],
      "text/latex": [
       "\\begin{enumerate*}\n",
       "\\item 6\n",
       "\\item 5\n",
       "\\item 4\n",
       "\\item 3\n",
       "\\item 0\n",
       "\\item 1\n",
       "\\item 2\n",
       "\\end{enumerate*}\n"
      ],
      "text/markdown": [
       "1. 6\n",
       "2. 5\n",
       "3. 4\n",
       "4. 3\n",
       "5. 0\n",
       "6. 1\n",
       "7. 2\n",
       "\n",
       "\n"
      ],
      "text/plain": [
       "[1] 6 5 4 3 0 1 2"
      ]
     },
     "metadata": {},
     "output_type": "display_data"
    },
    {
     "name": "stdout",
     "output_type": "stream",
     "text": [
      "[1] \"Cannabis\"\n"
     ]
    },
    {
     "data": {
      "text/html": [
       "<ol class=list-inline>\n",
       "\t<li>0</li>\n",
       "\t<li>4</li>\n",
       "\t<li>3</li>\n",
       "\t<li>2</li>\n",
       "\t<li>1</li>\n",
       "\t<li>6</li>\n",
       "\t<li>5</li>\n",
       "</ol>\n"
      ],
      "text/latex": [
       "\\begin{enumerate*}\n",
       "\\item 0\n",
       "\\item 4\n",
       "\\item 3\n",
       "\\item 2\n",
       "\\item 1\n",
       "\\item 6\n",
       "\\item 5\n",
       "\\end{enumerate*}\n"
      ],
      "text/markdown": [
       "1. 0\n",
       "2. 4\n",
       "3. 3\n",
       "4. 2\n",
       "5. 1\n",
       "6. 6\n",
       "7. 5\n",
       "\n",
       "\n"
      ],
      "text/plain": [
       "[1] 0 4 3 2 1 6 5"
      ]
     },
     "metadata": {},
     "output_type": "display_data"
    },
    {
     "name": "stdout",
     "output_type": "stream",
     "text": [
      "[1] \"Meth\"\n"
     ]
    },
    {
     "data": {
      "text/html": [
       "<ol class=list-inline>\n",
       "\t<li>0</li>\n",
       "\t<li>3</li>\n",
       "\t<li>1</li>\n",
       "\t<li>6</li>\n",
       "\t<li>4</li>\n",
       "\t<li>2</li>\n",
       "\t<li>5</li>\n",
       "</ol>\n"
      ],
      "text/latex": [
       "\\begin{enumerate*}\n",
       "\\item 0\n",
       "\\item 3\n",
       "\\item 1\n",
       "\\item 6\n",
       "\\item 4\n",
       "\\item 2\n",
       "\\item 5\n",
       "\\end{enumerate*}\n"
      ],
      "text/markdown": [
       "1. 0\n",
       "2. 3\n",
       "3. 1\n",
       "4. 6\n",
       "5. 4\n",
       "6. 2\n",
       "7. 5\n",
       "\n",
       "\n"
      ],
      "text/plain": [
       "[1] 0 3 1 6 4 2 5"
      ]
     },
     "metadata": {},
     "output_type": "display_data"
    }
   ],
   "source": [
    "# For loops are overrated (leave me alone R is weird okay)\n",
    "\n",
    "print(\"age\")\n",
    "unique(df$Age)\n",
    "print(\"gender\")\n",
    "unique(df$Gender)\n",
    "print(\"education\")\n",
    "unique(df$Education)\n",
    "print(\"Nscore\")\n",
    "unique(df$Nscore)\n",
    "print(\"Escore\")\n",
    "unique(df$Escore)\n",
    "print(\"Cscore\")\n",
    "unique(df$Cscore)\n",
    "print(\"Impulsive\")\n",
    "unique(df$Impulsive)\n",
    "print(\"Sensation_seeking\")\n",
    "unique(df$Sensation_seeking)\n",
    "print(\"Caffeine\")\n",
    "unique(df$Caffeine)\n",
    "print(\"Cannabis\")\n",
    "unique(df$Cannabis)\n",
    "print(\"Meth\")\n",
    "unique(df$Meth)"
   ]
  },
  {
   "cell_type": "code",
   "execution_count": 7,
   "metadata": {},
   "outputs": [],
   "source": [
    "# 75% of the sample size\n",
    "smp_size <- floor(0.75 * nrow(df))\n",
    "\n",
    "# set the seed to make our partition reproducible\n",
    "set.seed(123)\n",
    "train_ind <- sample(seq_len(nrow(df)), size = smp_size)\n",
    "\n",
    "train <- df[train_ind, ]\n",
    "test <- df[-train_ind, ]"
   ]
  },
  {
   "cell_type": "code",
   "execution_count": 8,
   "metadata": {},
   "outputs": [
    {
     "data": {
      "text/html": [
       "<table>\n",
       "<thead><tr><th></th><th scope=col>Age</th><th scope=col>Gender</th><th scope=col>Education</th><th scope=col>Nscore</th><th scope=col>Escore</th><th scope=col>Oscore</th><th scope=col>Ascore</th><th scope=col>Cscore</th><th scope=col>Impulsive</th><th scope=col>Sensation_seeking</th><th scope=col>Caffeine</th><th scope=col>Cannabis</th><th scope=col>Meth</th></tr></thead>\n",
       "<tbody>\n",
       "\t<tr><th scope=row>415</th><td>18-24                        </td><td>1                            </td><td>Left school at 18            </td><td>30                           </td><td>32                           </td><td>42                           </td><td>29                           </td><td>56                           </td><td>0.1883                       </td><td>0.1119                       </td><td>6                            </td><td>6                            </td><td>0                            </td></tr>\n",
       "\t<tr><th scope=row>463</th><td>18-24                        </td><td>0                            </td><td>University degree            </td><td>39                           </td><td>34                           </td><td>53                           </td><td>48                           </td><td>48                           </td><td>0.1363                       </td><td>0.1183                       </td><td>5                            </td><td>3                            </td><td>3                            </td></tr>\n",
       "\t<tr><th scope=row>179</th><td>45-54                        </td><td>0                            </td><td>University degree            </td><td>44                           </td><td>33                           </td><td>43                           </td><td>48                           </td><td>41                           </td><td>0.1363                       </td><td>0.1183                       </td><td>6                            </td><td>1                            </td><td>0                            </td></tr>\n",
       "\t<tr><th scope=row>526</th><td>55-64                        </td><td>1                            </td><td>Left school at 18            </td><td>20                           </td><td>43                           </td><td>38                           </td><td>43                           </td><td>45                           </td><td>0.1629                       </td><td>0.1119                       </td><td>6                            </td><td>0                            </td><td>0                            </td></tr>\n",
       "\t<tr><th scope=row>195</th><td>25-34                        </td><td>0                            </td><td>University degree            </td><td>27                           </td><td>48                           </td><td>46                           </td><td>43                           </td><td>45                           </td><td>0.1629                       </td><td>0.0700                       </td><td>4                            </td><td>2                            </td><td>0                            </td></tr>\n",
       "\t<tr><th scope=row>938</th><td>18-24                        </td><td>1                            </td><td>College or university dropout</td><td>40                           </td><td>37                           </td><td>53                           </td><td>33                           </td><td>41                           </td><td>0.1883                       </td><td>0.1119                       </td><td>3                            </td><td>4                            </td><td>0                            </td></tr>\n",
       "</tbody>\n",
       "</table>\n"
      ],
      "text/latex": [
       "\\begin{tabular}{r|lllllllllllll}\n",
       "  & Age & Gender & Education & Nscore & Escore & Oscore & Ascore & Cscore & Impulsive & Sensation\\_seeking & Caffeine & Cannabis & Meth\\\\\n",
       "\\hline\n",
       "\t415 & 18-24                         & 1                             & Left school at 18             & 30                            & 32                            & 42                            & 29                            & 56                            & 0.1883                        & 0.1119                        & 6                             & 6                             & 0                            \\\\\n",
       "\t463 & 18-24                         & 0                             & University degree             & 39                            & 34                            & 53                            & 48                            & 48                            & 0.1363                        & 0.1183                        & 5                             & 3                             & 3                            \\\\\n",
       "\t179 & 45-54                         & 0                             & University degree             & 44                            & 33                            & 43                            & 48                            & 41                            & 0.1363                        & 0.1183                        & 6                             & 1                             & 0                            \\\\\n",
       "\t526 & 55-64                         & 1                             & Left school at 18             & 20                            & 43                            & 38                            & 43                            & 45                            & 0.1629                        & 0.1119                        & 6                             & 0                             & 0                            \\\\\n",
       "\t195 & 25-34                         & 0                             & University degree             & 27                            & 48                            & 46                            & 43                            & 45                            & 0.1629                        & 0.0700                        & 4                             & 2                             & 0                            \\\\\n",
       "\t938 & 18-24                         & 1                             & College or university dropout & 40                            & 37                            & 53                            & 33                            & 41                            & 0.1883                        & 0.1119                        & 3                             & 4                             & 0                            \\\\\n",
       "\\end{tabular}\n"
      ],
      "text/markdown": [
       "\n",
       "| <!--/--> | Age | Gender | Education | Nscore | Escore | Oscore | Ascore | Cscore | Impulsive | Sensation_seeking | Caffeine | Cannabis | Meth |\n",
       "|---|---|---|---|---|---|---|---|---|---|---|---|---|---|\n",
       "| 415 | 18-24                         | 1                             | Left school at 18             | 30                            | 32                            | 42                            | 29                            | 56                            | 0.1883                        | 0.1119                        | 6                             | 6                             | 0                             |\n",
       "| 463 | 18-24                         | 0                             | University degree             | 39                            | 34                            | 53                            | 48                            | 48                            | 0.1363                        | 0.1183                        | 5                             | 3                             | 3                             |\n",
       "| 179 | 45-54                         | 0                             | University degree             | 44                            | 33                            | 43                            | 48                            | 41                            | 0.1363                        | 0.1183                        | 6                             | 1                             | 0                             |\n",
       "| 526 | 55-64                         | 1                             | Left school at 18             | 20                            | 43                            | 38                            | 43                            | 45                            | 0.1629                        | 0.1119                        | 6                             | 0                             | 0                             |\n",
       "| 195 | 25-34                         | 0                             | University degree             | 27                            | 48                            | 46                            | 43                            | 45                            | 0.1629                        | 0.0700                        | 4                             | 2                             | 0                             |\n",
       "| 938 | 18-24                         | 1                             | College or university dropout | 40                            | 37                            | 53                            | 33                            | 41                            | 0.1883                        | 0.1119                        | 3                             | 4                             | 0                             |\n",
       "\n"
      ],
      "text/plain": [
       "    Age   Gender Education                     Nscore Escore Oscore Ascore\n",
       "415 18-24 1      Left school at 18             30     32     42     29    \n",
       "463 18-24 0      University degree             39     34     53     48    \n",
       "179 45-54 0      University degree             44     33     43     48    \n",
       "526 55-64 1      Left school at 18             20     43     38     43    \n",
       "195 25-34 0      University degree             27     48     46     43    \n",
       "938 18-24 1      College or university dropout 40     37     53     33    \n",
       "    Cscore Impulsive Sensation_seeking Caffeine Cannabis Meth\n",
       "415 56     0.1883    0.1119            6        6        0   \n",
       "463 48     0.1363    0.1183            5        3        3   \n",
       "179 41     0.1363    0.1183            6        1        0   \n",
       "526 45     0.1629    0.1119            6        0        0   \n",
       "195 45     0.1629    0.0700            4        2        0   \n",
       "938 41     0.1883    0.1119            3        4        0   "
      ]
     },
     "metadata": {},
     "output_type": "display_data"
    },
    {
     "data": {
      "text/html": [
       "<table>\n",
       "<thead><tr><th></th><th scope=col>Age</th><th scope=col>Gender</th><th scope=col>Education</th><th scope=col>Nscore</th><th scope=col>Escore</th><th scope=col>Oscore</th><th scope=col>Ascore</th><th scope=col>Cscore</th><th scope=col>Impulsive</th><th scope=col>Sensation_seeking</th><th scope=col>Caffeine</th><th scope=col>Cannabis</th><th scope=col>Meth</th></tr></thead>\n",
       "<tbody>\n",
       "\t<tr><th scope=row>3</th><td>35-44                            </td><td>1                                </td><td>Professional certificate/ diploma</td><td>31                               </td><td>45                               </td><td>40                               </td><td>32                               </td><td>34                               </td><td>0.1464                           </td><td>0.1321                           </td><td>6                                </td><td>3                                </td><td>0                                </td></tr>\n",
       "\t<tr><th scope=row>7</th><td>45-54                            </td><td>1                                </td><td>Masters degree                   </td><td>31                               </td><td>32                               </td><td>43                               </td><td>41                               </td><td>48                               </td><td>0.1883                           </td><td>0.1162                           </td><td>6                                </td><td>1                                </td><td>0                                </td></tr>\n",
       "\t<tr><th scope=row>15</th><td>55-64                            </td><td>0                                </td><td>Professional certificate/ diploma</td><td>27                               </td><td>49                               </td><td>49                               </td><td>39                               </td><td>52                               </td><td>0.0785                           </td><td>0.1119                           </td><td>6                                </td><td>0                                </td><td>0                                </td></tr>\n",
       "\t<tr><th scope=row>21</th><td>45-54                            </td><td>1                                </td><td>Professional certificate/ diploma</td><td>28                               </td><td>45                               </td><td>51                               </td><td>53                               </td><td>33                               </td><td>0.1363                           </td><td>0.1183                           </td><td>6                                </td><td>2                                </td><td>0                                </td></tr>\n",
       "\t<tr><th scope=row>22</th><td>65+                              </td><td>1                                </td><td>Left school before 16            </td><td>25                               </td><td>43                               </td><td>38                               </td><td>39                               </td><td>53                               </td><td>0.1883                           </td><td>0.0700                           </td><td>6                                </td><td>1                                </td><td>0                                </td></tr>\n",
       "\t<tr><th scope=row>27</th><td>55-64                            </td><td>0                                </td><td>Left school at 18                </td><td>35                               </td><td>28                               </td><td>24                               </td><td>38                               </td><td>46                               </td><td>0.1363                           </td><td>0.0462                           </td><td>6                                </td><td>1                                </td><td>0                                </td></tr>\n",
       "</tbody>\n",
       "</table>\n"
      ],
      "text/latex": [
       "\\begin{tabular}{r|lllllllllllll}\n",
       "  & Age & Gender & Education & Nscore & Escore & Oscore & Ascore & Cscore & Impulsive & Sensation\\_seeking & Caffeine & Cannabis & Meth\\\\\n",
       "\\hline\n",
       "\t3 & 35-44                             & 1                                 & Professional certificate/ diploma & 31                                & 45                                & 40                                & 32                                & 34                                & 0.1464                            & 0.1321                            & 6                                 & 3                                 & 0                                \\\\\n",
       "\t7 & 45-54                             & 1                                 & Masters degree                    & 31                                & 32                                & 43                                & 41                                & 48                                & 0.1883                            & 0.1162                            & 6                                 & 1                                 & 0                                \\\\\n",
       "\t15 & 55-64                             & 0                                 & Professional certificate/ diploma & 27                                & 49                                & 49                                & 39                                & 52                                & 0.0785                            & 0.1119                            & 6                                 & 0                                 & 0                                \\\\\n",
       "\t21 & 45-54                             & 1                                 & Professional certificate/ diploma & 28                                & 45                                & 51                                & 53                                & 33                                & 0.1363                            & 0.1183                            & 6                                 & 2                                 & 0                                \\\\\n",
       "\t22 & 65+                               & 1                                 & Left school before 16             & 25                                & 43                                & 38                                & 39                                & 53                                & 0.1883                            & 0.0700                            & 6                                 & 1                                 & 0                                \\\\\n",
       "\t27 & 55-64                             & 0                                 & Left school at 18                 & 35                                & 28                                & 24                                & 38                                & 46                                & 0.1363                            & 0.0462                            & 6                                 & 1                                 & 0                                \\\\\n",
       "\\end{tabular}\n"
      ],
      "text/markdown": [
       "\n",
       "| <!--/--> | Age | Gender | Education | Nscore | Escore | Oscore | Ascore | Cscore | Impulsive | Sensation_seeking | Caffeine | Cannabis | Meth |\n",
       "|---|---|---|---|---|---|---|---|---|---|---|---|---|---|\n",
       "| 3 | 35-44                             | 1                                 | Professional certificate/ diploma | 31                                | 45                                | 40                                | 32                                | 34                                | 0.1464                            | 0.1321                            | 6                                 | 3                                 | 0                                 |\n",
       "| 7 | 45-54                             | 1                                 | Masters degree                    | 31                                | 32                                | 43                                | 41                                | 48                                | 0.1883                            | 0.1162                            | 6                                 | 1                                 | 0                                 |\n",
       "| 15 | 55-64                             | 0                                 | Professional certificate/ diploma | 27                                | 49                                | 49                                | 39                                | 52                                | 0.0785                            | 0.1119                            | 6                                 | 0                                 | 0                                 |\n",
       "| 21 | 45-54                             | 1                                 | Professional certificate/ diploma | 28                                | 45                                | 51                                | 53                                | 33                                | 0.1363                            | 0.1183                            | 6                                 | 2                                 | 0                                 |\n",
       "| 22 | 65+                               | 1                                 | Left school before 16             | 25                                | 43                                | 38                                | 39                                | 53                                | 0.1883                            | 0.0700                            | 6                                 | 1                                 | 0                                 |\n",
       "| 27 | 55-64                             | 0                                 | Left school at 18                 | 35                                | 28                                | 24                                | 38                                | 46                                | 0.1363                            | 0.0462                            | 6                                 | 1                                 | 0                                 |\n",
       "\n"
      ],
      "text/plain": [
       "   Age   Gender Education                         Nscore Escore Oscore Ascore\n",
       "3  35-44 1      Professional certificate/ diploma 31     45     40     32    \n",
       "7  45-54 1      Masters degree                    31     32     43     41    \n",
       "15 55-64 0      Professional certificate/ diploma 27     49     49     39    \n",
       "21 45-54 1      Professional certificate/ diploma 28     45     51     53    \n",
       "22 65+   1      Left school before 16             25     43     38     39    \n",
       "27 55-64 0      Left school at 18                 35     28     24     38    \n",
       "   Cscore Impulsive Sensation_seeking Caffeine Cannabis Meth\n",
       "3  34     0.1464    0.1321            6        3        0   \n",
       "7  48     0.1883    0.1162            6        1        0   \n",
       "15 52     0.0785    0.1119            6        0        0   \n",
       "21 33     0.1363    0.1183            6        2        0   \n",
       "22 53     0.1883    0.0700            6        1        0   \n",
       "27 46     0.1363    0.0462            6        1        0   "
      ]
     },
     "metadata": {},
     "output_type": "display_data"
    }
   ],
   "source": [
    "head(train)\n",
    "head(test)"
   ]
  },
  {
   "cell_type": "code",
   "execution_count": 9,
   "metadata": {},
   "outputs": [
    {
     "name": "stdout",
     "output_type": "stream",
     "text": [
      "[1] \"Train dataset specifications:\"\n",
      "'data.frame':\t1413 obs. of  13 variables:\n",
      " $ Age              : Ord.factor w/ 6 levels \"18-24\"<\"25-34\"<..: 1 1 4 5 2 1 1 4 1 4 ...\n",
      " $ Gender           : int  1 0 0 1 0 1 1 1 1 0 ...\n",
      " $ Education        : Ord.factor w/ 9 levels \"Left school before 16\"<..: 4 7 7 4 7 5 5 7 6 7 ...\n",
      " $ Nscore           : int  30 39 44 20 27 40 30 38 42 49 ...\n",
      " $ Escore           : int  32 34 33 43 48 37 43 32 26 35 ...\n",
      " $ Oscore           : int  42 53 43 38 46 53 58 41 48 48 ...\n",
      " $ Ascore           : int  29 48 48 43 43 33 51 41 44 52 ...\n",
      " $ Cscore           : int  56 48 41 45 45 41 45 37 38 43 ...\n",
      " $ Impulsive        : num  0.188 0.136 0.136 0.163 0.163 ...\n",
      " $ Sensation_seeking: num  0.112 0.118 0.118 0.112 0.07 ...\n",
      " $ Caffeine         : int  6 5 6 6 4 3 6 6 6 6 ...\n",
      " $ Cannabis         : int  6 3 1 0 2 4 5 1 5 0 ...\n",
      " $ Meth             : int  0 3 0 0 0 0 2 0 0 0 ...\n",
      "[1] \"Test dataset specifications:\"\n",
      "'data.frame':\t472 obs. of  13 variables:\n",
      " $ Age              : Ord.factor w/ 6 levels \"18-24\"<\"25-34\"<..: 3 4 5 4 6 5 6 3 4 2 ...\n",
      " $ Gender           : int  1 1 0 1 1 0 1 1 0 0 ...\n",
      " $ Education        : Ord.factor w/ 9 levels \"Left school before 16\"<..: 6 8 6 6 1 4 1 8 5 8 ...\n",
      " $ Nscore           : int  31 31 27 28 25 35 33 34 39 44 ...\n",
      " $ Escore           : int  45 32 49 45 43 28 34 33 44 36 ...\n",
      " $ Oscore           : int  40 43 49 51 38 24 28 37 38 32 ...\n",
      " $ Ascore           : int  32 41 39 53 39 38 41 43 45 37 ...\n",
      " $ Cscore           : int  34 48 52 33 53 46 36 37 51 44 ...\n",
      " $ Impulsive        : num  0.1464 0.1883 0.0785 0.1363 0.1883 ...\n",
      " $ Sensation_seeking: num  0.132 0.116 0.112 0.118 0.07 ...\n",
      " $ Caffeine         : int  6 6 6 6 6 6 6 6 6 6 ...\n",
      " $ Cannabis         : int  3 1 0 2 1 1 0 2 1 0 ...\n",
      " $ Meth             : int  0 0 0 0 0 0 0 0 0 0 ...\n"
     ]
    }
   ],
   "source": [
    "print(\"Train dataset specifications:\")\n",
    "str(train)\n",
    "print(\"Test dataset specifications:\")\n",
    "str(test)"
   ]
  },
  {
   "cell_type": "code",
   "execution_count": 23,
   "metadata": {},
   "outputs": [
    {
     "name": "stderr",
     "output_type": "stream",
     "text": [
      "Warning message in lav_data_full(data = data, group = group, cluster = cluster, :\n",
      "\"lavaan WARNING: some observed variances are (at least) a factor 1000 times larger than others; use varTable(fit) to investigate\""
     ]
    }
   ],
   "source": [
    "M <- lavCor(train)"
   ]
  },
  {
   "cell_type": "code",
   "execution_count": 11,
   "metadata": {},
   "outputs": [
    {
     "data": {
      "text/html": [
       "<table>\n",
       "<thead><tr><th></th><th scope=col>Age</th><th scope=col>Gender</th><th scope=col>Education</th><th scope=col>Nscore</th><th scope=col>Escore</th><th scope=col>Oscore</th><th scope=col>Ascore</th><th scope=col>Cscore</th><th scope=col>Impulsive</th><th scope=col>Sensation_seeking</th><th scope=col>Caffeine</th><th scope=col>Cannabis</th><th scope=col>Meth</th></tr></thead>\n",
       "<tbody>\n",
       "\t<tr><th scope=row>Age</th><td> 1.00000000  </td><td>-0.12196667  </td><td> 0.17546243  </td><td>-0.150467605 </td><td>-0.02788125  </td><td>-0.23929895  </td><td> 0.07019570  </td><td> 0.21193765  </td><td> 0.1395597469</td><td>-0.1581440054</td><td> 0.03994817  </td><td>-0.46585801  </td><td>-0.21413146  </td></tr>\n",
       "\t<tr><th scope=row>Gender</th><td>-0.12196667  </td><td> 1.00000000  </td><td>-0.20129931  </td><td>-0.070392849 </td><td>-0.06116698  </td><td> 0.13599424  </td><td>-0.22038676  </td><td>-0.18390664  </td><td>-0.0660827751</td><td> 0.1652529347</td><td> 0.01119523  </td><td> 0.30157931  </td><td> 0.18148866  </td></tr>\n",
       "\t<tr><th scope=row>Education</th><td> 0.17546243  </td><td>-0.20129931  </td><td> 1.00000000  </td><td>-0.102837319 </td><td> 0.12035190  </td><td> 0.06496818  </td><td> 0.09246585  </td><td> 0.24595285  </td><td> 0.1348312591</td><td>-0.0328075960</td><td> 0.03693888  </td><td>-0.27139743  </td><td>-0.17347989  </td></tr>\n",
       "\t<tr><th scope=row>Nscore</th><td>-0.15046761  </td><td>-0.07039285  </td><td>-0.10283732  </td><td> 1.000000000 </td><td>-0.43296725  </td><td> 0.01662559  </td><td>-0.21514520  </td><td>-0.39867855  </td><td>-0.1382315378</td><td>-0.0043360538</td><td> 0.01400058  </td><td> 0.10264906  </td><td> 0.18874334  </td></tr>\n",
       "\t<tr><th scope=row>Escore</th><td>-0.02788125  </td><td>-0.06116698  </td><td> 0.12035190  </td><td>-0.432967246 </td><td> 1.00000000  </td><td> 0.23606577  </td><td> 0.15906490  </td><td> 0.31878011  </td><td>-0.0628348289</td><td> 0.1031308407</td><td> 0.05348347  </td><td>-0.01923977  </td><td>-0.12831481  </td></tr>\n",
       "\t<tr><th scope=row>Oscore</th><td>-0.23929895  </td><td> 0.13599424  </td><td> 0.06496818  </td><td> 0.016625590 </td><td> 0.23606577  </td><td> 1.00000000  </td><td> 0.03280548  </td><td>-0.05999592  </td><td>-0.1319440731</td><td> 0.2293739645</td><td> 0.02900374  </td><td> 0.41637002  </td><td> 0.16810353  </td></tr>\n",
       "\t<tr><th scope=row>Ascore</th><td> 0.07019570  </td><td>-0.22038676  </td><td> 0.09246585  </td><td>-0.215145199 </td><td> 0.15906490  </td><td> 0.03280548  </td><td> 1.00000000  </td><td> 0.24960861  </td><td> 0.1672650723</td><td>-0.0823730754</td><td>-0.01539034  </td><td>-0.15010414  </td><td>-0.16180707  </td></tr>\n",
       "\t<tr><th scope=row>Cscore</th><td> 0.21193765  </td><td>-0.18390664  </td><td> 0.24595285  </td><td>-0.398678551 </td><td> 0.31878011  </td><td>-0.05999592  </td><td> 0.24960861  </td><td> 1.00000000  </td><td> 0.2963585991</td><td>-0.0871754839</td><td>-0.02260218  </td><td>-0.27919547  </td><td>-0.19729815  </td></tr>\n",
       "\t<tr><th scope=row>Impulsive</th><td> 0.13955975  </td><td>-0.06608278  </td><td> 0.13483126  </td><td>-0.138231538 </td><td>-0.06283483  </td><td>-0.13194407  </td><td> 0.16726507  </td><td> 0.29635860  </td><td> 1.0000000000</td><td> 0.0001230195</td><td>-0.04704642  </td><td>-0.17216399  </td><td>-0.12080617  </td></tr>\n",
       "\t<tr><th scope=row>Sensation_seeking</th><td>-0.15814401  </td><td> 0.16525293  </td><td>-0.03280760  </td><td>-0.004336054 </td><td> 0.10313084  </td><td> 0.22937396  </td><td>-0.08237308  </td><td>-0.08717548  </td><td> 0.0001230195</td><td> 1.0000000000</td><td> 0.02306393  </td><td> 0.23679419  </td><td> 0.04684180  </td></tr>\n",
       "\t<tr><th scope=row>Caffeine</th><td> 0.03994817  </td><td> 0.01119523  </td><td> 0.03693888  </td><td> 0.014000584 </td><td> 0.05348347  </td><td> 0.02900374  </td><td>-0.01539034  </td><td>-0.02260218  </td><td>-0.0470464227</td><td> 0.0230639336</td><td> 1.00000000  </td><td> 0.04052709  </td><td> 0.02319573  </td></tr>\n",
       "\t<tr><th scope=row>Cannabis</th><td>-0.46585801  </td><td> 0.30157931  </td><td>-0.27139743  </td><td> 0.102649058 </td><td>-0.01923977  </td><td> 0.41637002  </td><td>-0.15010414  </td><td>-0.27919547  </td><td>-0.1721639878</td><td> 0.2367941938</td><td> 0.04052709  </td><td> 1.00000000  </td><td> 0.29502069  </td></tr>\n",
       "\t<tr><th scope=row>Meth</th><td>-0.21413146  </td><td> 0.18148866  </td><td>-0.17347989  </td><td> 0.188743339 </td><td>-0.12831481  </td><td> 0.16810353  </td><td>-0.16180707  </td><td>-0.19729815  </td><td>-0.1208061724</td><td> 0.0468418029</td><td> 0.02319573  </td><td> 0.29502069  </td><td> 1.00000000  </td></tr>\n",
       "</tbody>\n",
       "</table>\n"
      ],
      "text/latex": [
       "\\begin{tabular}{r|lllllllllllll}\n",
       "  & Age & Gender & Education & Nscore & Escore & Oscore & Ascore & Cscore & Impulsive & Sensation\\_seeking & Caffeine & Cannabis & Meth\\\\\n",
       "\\hline\n",
       "\tAge &  1.00000000   & -0.12196667   &  0.17546243   & -0.150467605  & -0.02788125   & -0.23929895   &  0.07019570   &  0.21193765   &  0.1395597469 & -0.1581440054 &  0.03994817   & -0.46585801   & -0.21413146  \\\\\n",
       "\tGender & -0.12196667   &  1.00000000   & -0.20129931   & -0.070392849  & -0.06116698   &  0.13599424   & -0.22038676   & -0.18390664   & -0.0660827751 &  0.1652529347 &  0.01119523   &  0.30157931   &  0.18148866  \\\\\n",
       "\tEducation &  0.17546243   & -0.20129931   &  1.00000000   & -0.102837319  &  0.12035190   &  0.06496818   &  0.09246585   &  0.24595285   &  0.1348312591 & -0.0328075960 &  0.03693888   & -0.27139743   & -0.17347989  \\\\\n",
       "\tNscore & -0.15046761   & -0.07039285   & -0.10283732   &  1.000000000  & -0.43296725   &  0.01662559   & -0.21514520   & -0.39867855   & -0.1382315378 & -0.0043360538 &  0.01400058   &  0.10264906   &  0.18874334  \\\\\n",
       "\tEscore & -0.02788125   & -0.06116698   &  0.12035190   & -0.432967246  &  1.00000000   &  0.23606577   &  0.15906490   &  0.31878011   & -0.0628348289 &  0.1031308407 &  0.05348347   & -0.01923977   & -0.12831481  \\\\\n",
       "\tOscore & -0.23929895   &  0.13599424   &  0.06496818   &  0.016625590  &  0.23606577   &  1.00000000   &  0.03280548   & -0.05999592   & -0.1319440731 &  0.2293739645 &  0.02900374   &  0.41637002   &  0.16810353  \\\\\n",
       "\tAscore &  0.07019570   & -0.22038676   &  0.09246585   & -0.215145199  &  0.15906490   &  0.03280548   &  1.00000000   &  0.24960861   &  0.1672650723 & -0.0823730754 & -0.01539034   & -0.15010414   & -0.16180707  \\\\\n",
       "\tCscore &  0.21193765   & -0.18390664   &  0.24595285   & -0.398678551  &  0.31878011   & -0.05999592   &  0.24960861   &  1.00000000   &  0.2963585991 & -0.0871754839 & -0.02260218   & -0.27919547   & -0.19729815  \\\\\n",
       "\tImpulsive &  0.13955975   & -0.06608278   &  0.13483126   & -0.138231538  & -0.06283483   & -0.13194407   &  0.16726507   &  0.29635860   &  1.0000000000 &  0.0001230195 & -0.04704642   & -0.17216399   & -0.12080617  \\\\\n",
       "\tSensation\\_seeking & -0.15814401   &  0.16525293   & -0.03280760   & -0.004336054  &  0.10313084   &  0.22937396   & -0.08237308   & -0.08717548   &  0.0001230195 &  1.0000000000 &  0.02306393   &  0.23679419   &  0.04684180  \\\\\n",
       "\tCaffeine &  0.03994817   &  0.01119523   &  0.03693888   &  0.014000584  &  0.05348347   &  0.02900374   & -0.01539034   & -0.02260218   & -0.0470464227 &  0.0230639336 &  1.00000000   &  0.04052709   &  0.02319573  \\\\\n",
       "\tCannabis & -0.46585801   &  0.30157931   & -0.27139743   &  0.102649058  & -0.01923977   &  0.41637002   & -0.15010414   & -0.27919547   & -0.1721639878 &  0.2367941938 &  0.04052709   &  1.00000000   &  0.29502069  \\\\\n",
       "\tMeth & -0.21413146   &  0.18148866   & -0.17347989   &  0.188743339  & -0.12831481   &  0.16810353   & -0.16180707   & -0.19729815   & -0.1208061724 &  0.0468418029 &  0.02319573   &  0.29502069   &  1.00000000  \\\\\n",
       "\\end{tabular}\n"
      ],
      "text/markdown": [
       "\n",
       "| <!--/--> | Age | Gender | Education | Nscore | Escore | Oscore | Ascore | Cscore | Impulsive | Sensation_seeking | Caffeine | Cannabis | Meth |\n",
       "|---|---|---|---|---|---|---|---|---|---|---|---|---|---|\n",
       "| Age |  1.00000000   | -0.12196667   |  0.17546243   | -0.150467605  | -0.02788125   | -0.23929895   |  0.07019570   |  0.21193765   |  0.1395597469 | -0.1581440054 |  0.03994817   | -0.46585801   | -0.21413146   |\n",
       "| Gender | -0.12196667   |  1.00000000   | -0.20129931   | -0.070392849  | -0.06116698   |  0.13599424   | -0.22038676   | -0.18390664   | -0.0660827751 |  0.1652529347 |  0.01119523   |  0.30157931   |  0.18148866   |\n",
       "| Education |  0.17546243   | -0.20129931   |  1.00000000   | -0.102837319  |  0.12035190   |  0.06496818   |  0.09246585   |  0.24595285   |  0.1348312591 | -0.0328075960 |  0.03693888   | -0.27139743   | -0.17347989   |\n",
       "| Nscore | -0.15046761   | -0.07039285   | -0.10283732   |  1.000000000  | -0.43296725   |  0.01662559   | -0.21514520   | -0.39867855   | -0.1382315378 | -0.0043360538 |  0.01400058   |  0.10264906   |  0.18874334   |\n",
       "| Escore | -0.02788125   | -0.06116698   |  0.12035190   | -0.432967246  |  1.00000000   |  0.23606577   |  0.15906490   |  0.31878011   | -0.0628348289 |  0.1031308407 |  0.05348347   | -0.01923977   | -0.12831481   |\n",
       "| Oscore | -0.23929895   |  0.13599424   |  0.06496818   |  0.016625590  |  0.23606577   |  1.00000000   |  0.03280548   | -0.05999592   | -0.1319440731 |  0.2293739645 |  0.02900374   |  0.41637002   |  0.16810353   |\n",
       "| Ascore |  0.07019570   | -0.22038676   |  0.09246585   | -0.215145199  |  0.15906490   |  0.03280548   |  1.00000000   |  0.24960861   |  0.1672650723 | -0.0823730754 | -0.01539034   | -0.15010414   | -0.16180707   |\n",
       "| Cscore |  0.21193765   | -0.18390664   |  0.24595285   | -0.398678551  |  0.31878011   | -0.05999592   |  0.24960861   |  1.00000000   |  0.2963585991 | -0.0871754839 | -0.02260218   | -0.27919547   | -0.19729815   |\n",
       "| Impulsive |  0.13955975   | -0.06608278   |  0.13483126   | -0.138231538  | -0.06283483   | -0.13194407   |  0.16726507   |  0.29635860   |  1.0000000000 |  0.0001230195 | -0.04704642   | -0.17216399   | -0.12080617   |\n",
       "| Sensation_seeking | -0.15814401   |  0.16525293   | -0.03280760   | -0.004336054  |  0.10313084   |  0.22937396   | -0.08237308   | -0.08717548   |  0.0001230195 |  1.0000000000 |  0.02306393   |  0.23679419   |  0.04684180   |\n",
       "| Caffeine |  0.03994817   |  0.01119523   |  0.03693888   |  0.014000584  |  0.05348347   |  0.02900374   | -0.01539034   | -0.02260218   | -0.0470464227 |  0.0230639336 |  1.00000000   |  0.04052709   |  0.02319573   |\n",
       "| Cannabis | -0.46585801   |  0.30157931   | -0.27139743   |  0.102649058  | -0.01923977   |  0.41637002   | -0.15010414   | -0.27919547   | -0.1721639878 |  0.2367941938 |  0.04052709   |  1.00000000   |  0.29502069   |\n",
       "| Meth | -0.21413146   |  0.18148866   | -0.17347989   |  0.188743339  | -0.12831481   |  0.16810353   | -0.16180707   | -0.19729815   | -0.1208061724 |  0.0468418029 |  0.02319573   |  0.29502069   |  1.00000000   |\n",
       "\n"
      ],
      "text/plain": [
       "                  Age         Gender      Education   Nscore       Escore     \n",
       "Age                1.00000000 -0.12196667  0.17546243 -0.150467605 -0.02788125\n",
       "Gender            -0.12196667  1.00000000 -0.20129931 -0.070392849 -0.06116698\n",
       "Education          0.17546243 -0.20129931  1.00000000 -0.102837319  0.12035190\n",
       "Nscore            -0.15046761 -0.07039285 -0.10283732  1.000000000 -0.43296725\n",
       "Escore            -0.02788125 -0.06116698  0.12035190 -0.432967246  1.00000000\n",
       "Oscore            -0.23929895  0.13599424  0.06496818  0.016625590  0.23606577\n",
       "Ascore             0.07019570 -0.22038676  0.09246585 -0.215145199  0.15906490\n",
       "Cscore             0.21193765 -0.18390664  0.24595285 -0.398678551  0.31878011\n",
       "Impulsive          0.13955975 -0.06608278  0.13483126 -0.138231538 -0.06283483\n",
       "Sensation_seeking -0.15814401  0.16525293 -0.03280760 -0.004336054  0.10313084\n",
       "Caffeine           0.03994817  0.01119523  0.03693888  0.014000584  0.05348347\n",
       "Cannabis          -0.46585801  0.30157931 -0.27139743  0.102649058 -0.01923977\n",
       "Meth              -0.21413146  0.18148866 -0.17347989  0.188743339 -0.12831481\n",
       "                  Oscore      Ascore      Cscore      Impulsive    \n",
       "Age               -0.23929895  0.07019570  0.21193765  0.1395597469\n",
       "Gender             0.13599424 -0.22038676 -0.18390664 -0.0660827751\n",
       "Education          0.06496818  0.09246585  0.24595285  0.1348312591\n",
       "Nscore             0.01662559 -0.21514520 -0.39867855 -0.1382315378\n",
       "Escore             0.23606577  0.15906490  0.31878011 -0.0628348289\n",
       "Oscore             1.00000000  0.03280548 -0.05999592 -0.1319440731\n",
       "Ascore             0.03280548  1.00000000  0.24960861  0.1672650723\n",
       "Cscore            -0.05999592  0.24960861  1.00000000  0.2963585991\n",
       "Impulsive         -0.13194407  0.16726507  0.29635860  1.0000000000\n",
       "Sensation_seeking  0.22937396 -0.08237308 -0.08717548  0.0001230195\n",
       "Caffeine           0.02900374 -0.01539034 -0.02260218 -0.0470464227\n",
       "Cannabis           0.41637002 -0.15010414 -0.27919547 -0.1721639878\n",
       "Meth               0.16810353 -0.16180707 -0.19729815 -0.1208061724\n",
       "                  Sensation_seeking Caffeine    Cannabis    Meth       \n",
       "Age               -0.1581440054      0.03994817 -0.46585801 -0.21413146\n",
       "Gender             0.1652529347      0.01119523  0.30157931  0.18148866\n",
       "Education         -0.0328075960      0.03693888 -0.27139743 -0.17347989\n",
       "Nscore            -0.0043360538      0.01400058  0.10264906  0.18874334\n",
       "Escore             0.1031308407      0.05348347 -0.01923977 -0.12831481\n",
       "Oscore             0.2293739645      0.02900374  0.41637002  0.16810353\n",
       "Ascore            -0.0823730754     -0.01539034 -0.15010414 -0.16180707\n",
       "Cscore            -0.0871754839     -0.02260218 -0.27919547 -0.19729815\n",
       "Impulsive          0.0001230195     -0.04704642 -0.17216399 -0.12080617\n",
       "Sensation_seeking  1.0000000000      0.02306393  0.23679419  0.04684180\n",
       "Caffeine           0.0230639336      1.00000000  0.04052709  0.02319573\n",
       "Cannabis           0.2367941938      0.04052709  1.00000000  0.29502069\n",
       "Meth               0.0468418029      0.02319573  0.29502069  1.00000000"
      ]
     },
     "metadata": {},
     "output_type": "display_data"
    }
   ],
   "source": [
    "M"
   ]
  },
  {
   "cell_type": "code",
   "execution_count": 12,
   "metadata": {},
   "outputs": [
    {
     "data": {
      "image/png": "[encoded data removed]",
      "text/plain": [
       "plot without title"
      ]
     },
     "metadata": {},
     "output_type": "display_data"
    }
   ],
   "source": [
    "graph <- dagitty('dag {\n",
    "bb=\"0,0,1,1\"\n",
    "Age [pos=\"0.140,0.493\"]\n",
    "Ascore [pos=\"0.268,0.602\"]\n",
    "Caffeine [pos=\"0.696,0.299\"]\n",
    "Cannabis [pos=\"0.694,0.494\"]\n",
    "Cscore [pos=\"0.269,0.376\"]\n",
    "Education [pos=\"0.528,0.464\"]\n",
    "Escore [pos=\"0.266,0.476\"]\n",
    "Gender [pos=\"0.139,0.405\"]\n",
    "Impulsive [pos=\"0.457,0.742\"]\n",
    "Meth [pos=\"0.698,0.637\"]\n",
    "Nscore [pos=\"0.265,0.705\"]\n",
    "Oscore [pos=\"0.271,0.268\"]\n",
    "Sensation_seeking [pos=\"0.447,0.264\"]\n",
    "Age -> Ascore\n",
    "Age -> Caffeine\n",
    "Age -> Cannabis [pos=\"0.332,0.543\"]\n",
    "Age -> Cscore\n",
    "Age -> Escore\n",
    "Age -> Meth [pos=\"0.450,0.644\"]\n",
    "Age -> Nscore\n",
    "Age -> Oscore\n",
    "Age -> Sensation_seeking [pos=\"0.366,0.404\"]\n",
    "Ascore -> Caffeine [pos=\"0.399,0.432\"]\n",
    "Ascore -> Cannabis\n",
    "Ascore -> Meth [pos=\"0.429,0.676\"]\n",
    "Cscore -> Education\n",
    "Education -> Caffeine\n",
    "Education -> Cannabis\n",
    "Education -> Meth\n",
    "Escore -> Cannabis\n",
    "Escore -> Impulsive\n",
    "Escore -> Meth\n",
    "Gender -> Ascore\n",
    "Gender -> Cscore\n",
    "Gender -> Escore\n",
    "Gender -> Nscore\n",
    "Gender -> Oscore\n",
    "Impulsive -> Cannabis\n",
    "Impulsive -> Meth\n",
    "Nscore -> Cannabis\n",
    "Nscore -> Meth\n",
    "Oscore -> Cannabis\n",
    "Oscore -> Education\n",
    "Oscore -> Impulsive\n",
    "Oscore -> Meth [pos=\"0.376,0.454\"]\n",
    "Oscore -> Sensation_seeking\n",
    "Sensation_seeking -> Cannabis\n",
    "Sensation_seeking -> Meth [pos=\"0.393,0.550\"]\n",
    "}')\n",
    "plot(graph)"
   ]
  },
  {
   "cell_type": "code",
   "execution_count": 13,
   "metadata": {},
   "outputs": [
    {
     "data": {
      "text/plain": [
       "Age _||_ Edct | Cscr, Oscr\n",
       "Age _||_ Gndr\n",
       "Age _||_ Impl | Escr, Oscr\n",
       "Ascr _||_ Cscr | Age, Gndr\n",
       "Ascr _||_ Edct | Cscr, Oscr\n",
       "Ascr _||_ Edct | Age, Gndr\n",
       "Ascr _||_ Escr | Age, Gndr\n",
       "Ascr _||_ Impl | Escr, Oscr\n",
       "Ascr _||_ Impl | Age, Gndr\n",
       "Ascr _||_ Nscr | Age, Gndr\n",
       "Ascr _||_ Oscr | Age, Gndr\n",
       "Ascr _||_ Sns_ | Age, Oscr\n",
       "Ascr _||_ Sns_ | Age, Gndr\n",
       "Cffn _||_ Cnnb | Age, Ascr, Edct\n",
       "Cffn _||_ Cscr | Age, Edct, Gndr\n",
       "Cffn _||_ Cscr | Age, Ascr, Edct\n",
       "Cffn _||_ Escr | Age, Gndr\n",
       "Cffn _||_ Escr | Age, Ascr, Cscr, Oscr\n",
       "Cffn _||_ Escr | Age, Ascr, Edct\n",
       "Cffn _||_ Gndr | Age, Ascr, Cscr, Oscr\n",
       "Cffn _||_ Gndr | Age, Ascr, Edct\n",
       "Cffn _||_ Impl | Escr, Oscr\n",
       "Cffn _||_ Impl | Age, Gndr, Oscr\n",
       "Cffn _||_ Impl | Age, Edct, Gndr\n",
       "Cffn _||_ Impl | Age, Ascr, Cscr, Oscr\n",
       "Cffn _||_ Impl | Age, Ascr, Edct\n",
       "Cffn _||_ Meth | Age, Ascr, Edct\n",
       "Cffn _||_ Nscr | Age, Gndr\n",
       "Cffn _||_ Nscr | Age, Ascr, Cscr, Oscr\n",
       "Cffn _||_ Nscr | Age, Ascr, Edct\n",
       "Cffn _||_ Oscr | Age, Edct, Gndr\n",
       "Cffn _||_ Oscr | Age, Ascr, Edct\n",
       "Cffn _||_ Sns_ | Age, Oscr\n",
       "Cffn _||_ Sns_ | Age, Edct, Gndr\n",
       "Cffn _||_ Sns_ | Age, Ascr, Edct\n",
       "Cnnb _||_ Cscr | Age, Edct, Gndr, Oscr\n",
       "Cnnb _||_ Cscr | Age, Ascr, Edct, Escr, Nscr, Oscr\n",
       "Cnnb _||_ Gndr | Age, Ascr, Cscr, Escr, Nscr, Oscr\n",
       "Cnnb _||_ Gndr | Age, Ascr, Edct, Escr, Nscr, Oscr\n",
       "Cnnb _||_ Meth | Age, Ascr, Edct, Escr, Impl, Nscr, Oscr, Sns_\n",
       "Cscr _||_ Escr | Age, Gndr\n",
       "Cscr _||_ Impl | Escr, Oscr\n",
       "Cscr _||_ Impl | Age, Gndr\n",
       "Cscr _||_ Meth | Age, Ascr, Edct, Escr, Nscr, Oscr\n",
       "Cscr _||_ Meth | Age, Edct, Gndr, Oscr\n",
       "Cscr _||_ Nscr | Age, Gndr\n",
       "Cscr _||_ Oscr | Age, Gndr\n",
       "Cscr _||_ Sns_ | Age, Oscr\n",
       "Cscr _||_ Sns_ | Age, Gndr\n",
       "Edct _||_ Escr | Age, Gndr\n",
       "Edct _||_ Escr | Cscr, Oscr\n",
       "Edct _||_ Gndr | Cscr, Oscr\n",
       "Edct _||_ Impl | Escr, Oscr\n",
       "Edct _||_ Impl | Age, Gndr, Oscr\n",
       "Edct _||_ Impl | Cscr, Oscr\n",
       "Edct _||_ Nscr | Age, Gndr\n",
       "Edct _||_ Nscr | Cscr, Oscr\n",
       "Edct _||_ Sns_ | Age, Oscr\n",
       "Edct _||_ Sns_ | Cscr, Oscr\n",
       "Escr _||_ Nscr | Age, Gndr\n",
       "Escr _||_ Oscr | Age, Gndr\n",
       "Escr _||_ Sns_ | Age, Oscr\n",
       "Escr _||_ Sns_ | Age, Gndr\n",
       "Gndr _||_ Impl | Escr, Oscr\n",
       "Gndr _||_ Meth | Age, Ascr, Edct, Escr, Nscr, Oscr\n",
       "Gndr _||_ Meth | Age, Ascr, Cscr, Escr, Nscr, Oscr\n",
       "Gndr _||_ Sns_ | Age, Oscr\n",
       "Impl _||_ Nscr | Age, Gndr\n",
       "Impl _||_ Nscr | Escr, Oscr\n",
       "Impl _||_ Sns_ | Age, Oscr\n",
       "Impl _||_ Sns_ | Escr, Oscr\n",
       "Nscr _||_ Oscr | Age, Gndr\n",
       "Nscr _||_ Sns_ | Age, Oscr\n",
       "Nscr _||_ Sns_ | Age, Gndr"
      ]
     },
     "metadata": {},
     "output_type": "display_data"
    }
   ],
   "source": [
    "impliedConditionalIndependencies(graph)"
   ]
  },
  {
   "cell_type": "code",
   "execution_count": 14,
   "metadata": {},
   "outputs": [
    {
     "name": "stdout",
     "output_type": "stream",
     "text": [
      "lavaan 0.6-7 ended normally after 19 iterations\n",
      "\n",
      "  Estimator                                         ML\n",
      "  Optimization method                           NLMINB\n",
      "  Number of free parameters                         49\n",
      "                                                      \n",
      "  Number of observations                          1413\n",
      "                                                      \n",
      "Model Test User Model:\n",
      "                                                      \n",
      "  Test statistic                              1238.073\n",
      "  Degrees of freedom                                39\n",
      "  P-value (Chi-square)                           0.000\n",
      "\n",
      "Parameter Estimates:\n",
      "\n",
      "  Standard errors                             Standard\n",
      "  Information                                 Expected\n",
      "  Information saturated (h1) model          Structured\n",
      "\n",
      "Regressions:\n",
      "                      Estimate  Std.Err  z-value  P(>|z|)\n",
      "  Ascore ~                                               \n",
      "    Age                  0.044    0.026    1.684    0.092\n",
      "  Caffeine ~                                             \n",
      "    Age                  0.036    0.027    1.340    0.180\n",
      "  Cannabis ~                                             \n",
      "    Age                 -0.326    0.022  -15.047    0.000\n",
      "  Cscore ~                                               \n",
      "    Age                  0.192    0.026    7.443    0.000\n",
      "  Escore ~                                               \n",
      "    Age                 -0.036    0.027   -1.342    0.180\n",
      "  Meth ~                                                 \n",
      "    Age                 -0.132    0.026   -5.068    0.000\n",
      "  Nscore ~                                               \n",
      "    Age                 -0.161    0.026   -6.118    0.000\n",
      "  Oscore ~                                               \n",
      "    Age                 -0.226    0.026   -8.741    0.000\n",
      "  Sensation_seeking ~                                    \n",
      "    Age                 -0.110    0.027   -4.132    0.000\n",
      "  Caffeine ~                                             \n",
      "    Ascore              -0.021    0.027   -0.785    0.432\n",
      "  Cannabis ~                                             \n",
      "    Ascore              -0.097    0.021   -4.667    0.000\n",
      "  Meth ~                                                 \n",
      "    Ascore              -0.107    0.025   -4.304    0.000\n",
      "  Education ~                                            \n",
      "    Cscore               0.251    0.026    9.735    0.000\n",
      "  Caffeine ~                                             \n",
      "    Education            0.033    0.027    1.227    0.220\n",
      "  Cannabis ~                                             \n",
      "    Education           -0.211    0.021  -10.170    0.000\n",
      "  Meth ~                                                 \n",
      "    Education           -0.125    0.025   -5.036    0.000\n",
      "  Cannabis ~                                             \n",
      "    Escore              -0.107    0.021   -5.198    0.000\n",
      "  Impulsive ~                                            \n",
      "    Escore              -0.034    0.026   -1.273    0.203\n",
      "  Meth ~                                                 \n",
      "    Escore              -0.109    0.025   -4.399    0.000\n",
      "  Ascore ~                                               \n",
      "    Gender              -0.215    0.026   -8.233    0.000\n",
      "  Cscore ~                                               \n",
      "    Gender              -0.160    0.026   -6.208    0.000\n",
      "  Escore ~                                               \n",
      "    Gender              -0.066    0.027   -2.451    0.014\n",
      "  Nscore ~                                               \n",
      "    Gender              -0.090    0.026   -3.414    0.001\n",
      "  Oscore ~                                               \n",
      "    Gender               0.108    0.026    4.192    0.000\n",
      "  Cannabis ~                                             \n",
      "    Impulsive           -0.046    0.021   -2.238    0.025\n",
      "  Meth ~                                                 \n",
      "    Impulsive           -0.040    0.025   -1.588    0.112\n",
      "  Cannabis ~                                             \n",
      "    Nscore              -0.048    0.021   -2.306    0.021\n",
      "  Meth ~                                                 \n",
      "    Nscore               0.077    0.025    3.050    0.002\n",
      "  Cannabis ~                                             \n",
      "    Oscore               0.350    0.022   16.038    0.000\n",
      "  Education ~                                            \n",
      "    Oscore               0.080    0.026    3.106    0.002\n",
      "  Impulsive ~                                            \n",
      "    Oscore              -0.124    0.026   -4.706    0.000\n",
      "  Meth ~                                                 \n",
      "    Oscore               0.170    0.026    6.444    0.000\n",
      "  Sensation_seeking ~                                    \n",
      "    Oscore               0.203    0.027    7.664    0.000\n",
      "  Cannabis ~                                             \n",
      "    Sensation_skng       0.099    0.021    4.670    0.000\n",
      "  Meth ~                                                 \n",
      "    Sensation_skng      -0.015    0.026   -0.593    0.553\n",
      "\n",
      "Covariances:\n",
      "                   Estimate  Std.Err  z-value  P(>|z|)\n",
      " .Caffeine ~~                                         \n",
      "   .Cannabis          0.052    0.021    2.500    0.012\n",
      "   .Meth              0.030    0.025    1.201    0.230\n",
      " .Cannabis ~~                                         \n",
      "   .Meth              0.099    0.019    5.093    0.000\n",
      "\n",
      "Variances:\n",
      "                   Estimate  Std.Err  z-value  P(>|z|)\n",
      "   .Ascore            0.949    0.036   26.580    0.000\n",
      "   .Caffeine          0.996    0.037   26.580    0.000\n",
      "   .Cannabis          0.601    0.023   26.580    0.000\n",
      "   .Cscore            0.929    0.035   26.580    0.000\n",
      "   .Escore            0.994    0.037   26.580    0.000\n",
      "   .Meth              0.871    0.033   26.580    0.000\n",
      "   .Nscore            0.969    0.036   26.580    0.000\n",
      "   .Oscore            0.930    0.035   26.580    0.000\n",
      "   .Sensation_skng    0.935    0.035   26.580    0.000\n",
      "   .Education         0.932    0.035   26.580    0.000\n",
      "   .Impulsive         0.981    0.037   26.580    0.000\n",
      "\n"
     ]
    }
   ],
   "source": [
    "cg <- coordinates(graph)\n",
    "fit <- sem( toString(graph,\"lavaan\"), sample.cov=M, sample.nobs=nrow(train) )\n",
    "summary(fit)"
   ]
  },
  {
   "cell_type": "code",
   "execution_count": 15,
   "metadata": {},
   "outputs": [
    {
     "data": {
      "image/png": "[encoded data removed]",
      "text/plain": [
       "plot without title"
      ]
     },
     "metadata": {},
     "output_type": "display_data"
    }
   ],
   "source": [
    "fg <- lavaanToGraph(fit, digits=2)\n",
    "coordinates(fg) <- cg\n",
    "plot(fg, show.coefficients=TRUE)"
   ]
  },
  {
   "cell_type": "code",
   "execution_count": 22,
   "metadata": {},
   "outputs": [
    {
     "ename": "ERROR",
     "evalue": "Error in .local(object, ...): unused arguments (node = \"Cannabis\", data = data.frame(Escore = as.double()))\n",
     "output_type": "error",
     "traceback": [
      "Error in .local(object, ...): unused arguments (node = \"Cannabis\", data = data.frame(Escore = as.double()))\nTraceback:\n",
      "1. predict(fit, node = \"Cannabis\", data = data.frame(Escore = as.double()))",
      "2. predict(fit, node = \"Cannabis\", data = data.frame(Escore = as.double()))"
     ]
    }
   ],
   "source": [
    "predict(fit,node=\"Cannabis\", data=data.frame(Escore=as.double()))\n",
    "\n",
    "# Not sure why this does not work\n",
    "# https://www.bnlearn.com/documentation/man/impute.html"
   ]
  },
  {
   "cell_type": "code",
   "execution_count": null,
   "metadata": {},
   "outputs": [],
   "source": [
    "# localTests( graph, sample.cov=M, sample.nobs=nrow(df) )"
   ]
  },
  {
   "cell_type": "code",
   "execution_count": null,
   "metadata": {},
   "outputs": [],
   "source": [
    "# df$Caffeine <- as.numeric(ordered(df$Caffeine, levels =c(\"0\",\"1\",\"2\",\"3\",\"4\",\"5\",\"6\")))\n",
    "# df$Cannabis <- as.numeric( ordered(df$Cannabis, levels =c(\"0\",\"1\",\"2\",\"3\",\"4\",\"5\",\"6\")))\n",
    "# df$Meth <- as.numeric( ordered(df$Meth, levels =c(\"0\",\"1\",\"2\",\"3\",\"4\",\"5\",\"6\")))\n",
    "# df$Age <- as.numeric( ordered(df$Age, levels =c(\"18-24\",\"25-34\",\"35-44\",\"45-54\",\"55-64\",\"65+\")))\n",
    "# df$Education <- as.numeric( ordered(df$Education, levels=c(\"Left school before 16\",\"Left school at 16\",\"Left school at 17\",\"Left school at 18\",\"College or university dropout\",\"Professional certificate/ diploma\",\"University degree\",\"Masters degree\",\"Doctorate degree\")))"
   ]
  },
  {
   "cell_type": "code",
   "execution_count": null,
   "metadata": {},
   "outputs": [],
   "source": [
    "# df$Age <- as.double(df$Age) \n",
    "# df$Gender <- as.double(df$Gender) \n",
    "# df$Nscore <- as.double(df$Nscore) \n",
    "# df$Escore <- as.double(df$Escore) \n",
    "# df$Oscore <- as.double(df$Oscore) \n",
    "# df$Ascore <- as.double(df$Ascore) \n",
    "# df$Cscore <- as.double(df$Cscore) \n",
    "\n",
    "# str(df)"
   ]
  },
  {
   "cell_type": "code",
   "execution_count": null,
   "metadata": {},
   "outputs": [],
   "source": [
    "# # For loops are overrated (leave me alone R is weird okay)\n",
    "\n",
    "# print(\"age\")\n",
    "# unique(df$Age)\n",
    "# print(\"gender\")\n",
    "# unique(df$Gender)\n",
    "# print(\"education\")\n",
    "# unique(df$Education)\n",
    "# print(\"Nscore\")\n",
    "# unique(df$Nscore)\n",
    "# print(\"Escore\")\n",
    "# unique(df$Escore)\n",
    "# print(\"Cscore\")\n",
    "# unique(df$Cscore)\n",
    "# print(\"Impulsive\")\n",
    "# unique(df$Impulsive)\n",
    "# print(\"Sensation_seeking\")\n",
    "# unique(df$Sensation_seeking)\n",
    "# print(\"Caffeine\")\n",
    "# unique(df$Caffeine)\n",
    "# print(\"Cannabis\")\n",
    "# unique(df$Cannabis)\n",
    "# print(\"Meth\")\n",
    "# unique(df$Meth)"
   ]
  },
  {
   "cell_type": "code",
   "execution_count": null,
   "metadata": {},
   "outputs": [],
   "source": [
    "# str(train)\n",
    "# str(test)"
   ]
  },
  {
   "cell_type": "code",
   "execution_count": null,
   "metadata": {},
   "outputs": [],
   "source": [
    "# network <- model2network(toString(graph,\"bnlearn\"))\n",
    "# fit <- bn.fit(network, as.data.frame(scale(train)))\n",
    "# fit"
   ]
  },
  {
   "cell_type": "code",
   "execution_count": null,
   "metadata": {},
   "outputs": [],
   "source": [
    "# # df$Age <- as.double(df$Age) \n",
    "# predict(fit,node=\"Cannabis\", data=test,method=\"bayes-lw\")"
   ]
  }
 ],
 "metadata": {
  "kernelspec": {
   "display_name": "R",
   "language": "R",
   "name": "ir"
  },
  "language_info": {
   "codemirror_mode": "r",
   "file_extension": ".r",
   "mimetype": "text/x-r-source",
   "name": "R",
   "pygments_lexer": "r",
   "version": "3.6.1"
  }
 },
 "nbformat": 4,
 "nbformat_minor": 4
}
